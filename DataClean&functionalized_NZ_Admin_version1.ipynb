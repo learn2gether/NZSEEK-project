{
 "cells": [
  {
   "cell_type": "markdown",
   "metadata": {},
   "source": [
    "## library import"
   ]
  },
  {
   "cell_type": "code",
   "execution_count": 1,
   "metadata": {},
   "outputs": [],
   "source": [
    "# Data manipulation\n",
    "import pandas as pd\n",
    "import numpy as np\n",
    "import re\n",
    "\n",
    "# Options for pandas\n",
    "pd.options.display.max_columns = 50\n",
    "pd.options.display.max_rows = 30\n",
    "pd.options.display.max_colwidth = None"
   ]
  },
  {
   "cell_type": "markdown",
   "metadata": {},
   "source": [
    "## rename columns"
   ]
  },
  {
   "cell_type": "code",
   "execution_count": 2,
   "metadata": {},
   "outputs": [],
   "source": [
    "def renameCol(df):\n",
    "    return df.rename({\n",
    "                '字段1': 'column1', \n",
    "                '字段1_link': 'column1_link',\n",
    "                '字段2': 'column2', \n",
    "                '字段3': 'column3',\n",
    "                '字段4': 'column4', \n",
    "                '字段5': 'column5'\n",
    "            }, axis=1, inplace=True)"
   ]
  },
  {
   "cell_type": "markdown",
   "metadata": {},
   "source": [
    "## Clean link"
   ]
  },
  {
   "cell_type": "code",
   "execution_count": 3,
   "metadata": {},
   "outputs": [],
   "source": [
    "def cleanCol1_link(df, col_edit, col_add):\n",
    "    df[col_add] = df[col_edit].apply(lambda row: re.search(r'=(\\w+)#', row).group(1))\n",
    "#     df.drop(col_drop, axis=1, inplace=True)\n",
    "    return df"
   ]
  },
  {
   "cell_type": "code",
   "execution_count": null,
   "metadata": {},
   "outputs": [],
   "source": []
  },
  {
   "cell_type": "code",
   "execution_count": null,
   "metadata": {},
   "outputs": [],
   "source": []
  },
  {
   "cell_type": "markdown",
   "metadata": {},
   "source": [
    "## Clean address and benefits"
   ]
  },
  {
   "cell_type": "code",
   "execution_count": 4,
   "metadata": {},
   "outputs": [],
   "source": [
    "def address_area(address):\n",
    "    lst_address = [x.strip() for x in address.split(\":\")][1]\n",
    "    lst_area = re.findall('[A-Z][^A-Z]*', lst_address)\n",
    "    area = \"\"\n",
    "    for i in range(len(lst_area)//2):\n",
    "        area += lst_area[i]\n",
    "    return area"
   ]
  },
  {
   "cell_type": "code",
   "execution_count": 5,
   "metadata": {},
   "outputs": [],
   "source": [
    "def address_suburb(address):\n",
    "    lst_address = [x.strip() for x in address.split(\":\")]\n",
    "    if len(lst_address) == 3:\n",
    "        lst_suburb = re.findall('[A-Z][^A-Z]*', lst_address[2])\n",
    "        suburb = \"\"\n",
    "        for i in range(len(lst_suburb)//2):\n",
    "            suburb += lst_suburb[i]\n",
    "        return suburb"
   ]
  },
  {
   "cell_type": "code",
   "execution_count": 6,
   "metadata": {},
   "outputs": [],
   "source": [
    "def address_benefit(address):\n",
    "    benefit = address.split(',', 1)\n",
    "    if len(benefit)>1:\n",
    "        return benefit[1]"
   ]
  },
  {
   "cell_type": "code",
   "execution_count": 7,
   "metadata": {},
   "outputs": [],
   "source": [
    "col_add_address = [\n",
    "    'Company location (Area)',\n",
    "    'Company location (suburb)',\n",
    "    'Salary($)(Benefit)'\n",
    "]"
   ]
  },
  {
   "cell_type": "code",
   "execution_count": 8,
   "metadata": {},
   "outputs": [],
   "source": [
    "func_address = [\n",
    "    address_area,\n",
    "    address_suburb,\n",
    "    address_benefit\n",
    "]"
   ]
  },
  {
   "cell_type": "code",
   "execution_count": 9,
   "metadata": {},
   "outputs": [],
   "source": [
    "def clean_address_benefit(df, col_edit, col_add_address, func_address):\n",
    "    df[col_add_address[0]] = df[col_edit].apply(lambda row: func_address[0](row))\n",
    "    df[col_add_address[1]] = df[col_edit].apply(lambda row: func_address[1](row))\n",
    "    df[col_add_address[2]] = df[col_edit].apply(lambda row: func_address[2](row))\n",
    "#     df.drop(col_drop, axis=1, inplace=True)\n",
    "    return df"
   ]
  },
  {
   "cell_type": "markdown",
   "metadata": {},
   "source": [
    "## Clean job posted"
   ]
  },
  {
   "cell_type": "code",
   "execution_count": 10,
   "metadata": {},
   "outputs": [],
   "source": [
    "def job_posted_days(row):\n",
    "    try:\n",
    "        if re.search(r'(\\d*)(\\w)', re.search(r'(\\d+)(\\w)', row).group()).group(2) == 'd':\n",
    "            return re.search(r'(\\d*)(\\w)', re.search(r'(\\d+)(\\w)', row).group()).group(1)\n",
    "        else:\n",
    "            return 0\n",
    "    except:\n",
    "      return None"
   ]
  },
  {
   "cell_type": "code",
   "execution_count": 11,
   "metadata": {},
   "outputs": [],
   "source": [
    "def clean_jobPosted(df, col_edit, col_add, func):\n",
    "    df[col_add] = df[col_edit].apply(lambda row: func(row))\n",
    "#     df.drop(col_drop, axis=1, inplace=True)\n",
    "    return df"
   ]
  },
  {
   "cell_type": "markdown",
   "metadata": {},
   "source": [
    "## Clean Job class"
   ]
  },
  {
   "cell_type": "code",
   "execution_count": 12,
   "metadata": {},
   "outputs": [],
   "source": [
    "def return_classification(row):\n",
    "    lst_row = row.split(':')\n",
    "    classfication = \"\"\n",
    "    if len(lst_row)==1:\n",
    "        return None\n",
    "    else:\n",
    "        lst_class = re.findall('[A-Z][^A-Z]*', lst_row[1].split('subClassfication')[0])\n",
    "        for i in range(len(lst_class)//2):\n",
    "            classfication += lst_class[i]\n",
    "        return classfication"
   ]
  },
  {
   "cell_type": "code",
   "execution_count": 13,
   "metadata": {},
   "outputs": [],
   "source": [
    "def return_subclass(row):\n",
    "    lst_row = row.split(':')\n",
    "    subclass = \"\"\n",
    "    if len(lst_row)==1:\n",
    "        return None\n",
    "    else:\n",
    "        lst_subclass = re.findall('[A-Z][^A-Z]*', lst_row[2])\n",
    "        for i in range(len(lst_subclass)//2):\n",
    "            subclass += lst_subclass[i]\n",
    "        return subclass"
   ]
  },
  {
   "cell_type": "code",
   "execution_count": 14,
   "metadata": {},
   "outputs": [],
   "source": [
    "col_add_jobClass = [\n",
    "    'job_classification',\n",
    "    'job_subclassification'\n",
    "]"
   ]
  },
  {
   "cell_type": "code",
   "execution_count": 15,
   "metadata": {},
   "outputs": [],
   "source": [
    "func_jobClass = [\n",
    "    return_classification,\n",
    "    return_subclass\n",
    "]"
   ]
  },
  {
   "cell_type": "code",
   "execution_count": 16,
   "metadata": {},
   "outputs": [],
   "source": [
    "def clean_jobClass(df, col_edit, col_add_jobClass, func_jobClass):\n",
    "    df[col_add_jobClass[0]] = df[col_edit].apply(lambda row: func_jobClass[0](row))\n",
    "    df[col_add_jobClass[1]] = df[col_edit].apply(lambda row: func_jobClass[1](row))\n",
    "#     df.drop(col_drop, axis=1, inplace=True)\n",
    "    return df"
   ]
  },
  {
   "cell_type": "markdown",
   "metadata": {},
   "source": [
    "## Clean salary range"
   ]
  },
  {
   "cell_type": "code",
   "execution_count": 17,
   "metadata": {},
   "outputs": [],
   "source": [
    "def salary_extract(s):\n",
    "    temp1 = re.findall('.*\\d+[.]*[,]*\\d*k*K*', s)\n",
    "    if len(temp1) != 0:\n",
    "        temp2 = re.findall('\\d+\\s*[.]*[,]*\\d*k*K*', temp1[0])\n",
    "        if len(temp2) == 1 and len(temp2[0]) > 1:\n",
    "            if ',' in temp2[0]:\n",
    "                return ([float(temp2[0].replace(',', '')), float(temp2[0].replace(',', ''))])\n",
    "            elif 'k' in temp2[0]:\n",
    "                return ([float(temp2[0].replace('k','000')), float(temp2[0].replace('k','000'))])\n",
    "            else:\n",
    "                if float(temp2[0]) > 300:\n",
    "                    return ([float(temp2[0]), float(temp2[0])])\n",
    "                else:\n",
    "                    return ([float(temp2[0])*8*200, float(temp2[0])*8*200])\n",
    "        elif len(temp2) > 1:\n",
    "            if ',' in temp2[0] or ',' in temp2[1]:\n",
    "                if ',' in temp2[0] and ',' in temp2[0]:\n",
    "                    return ([float(temp2[0].replace(',', '')), float(temp2[1].replace(',', ''))])\n",
    "                elif ',' in temp2[0] and ',' not in temp2[1]:\n",
    "                    return ([float(temp2[0].replace(',000', ''))*1000, float(temp2[1])]*1000)\n",
    "                elif ',' in temp2[1] and ',' not in temp2[0]:\n",
    "                    return ([float(temp2[0])*1000, float(temp2[1].replace(',000', ''))*1000])\n",
    "            elif 'k' in temp2[0] or 'k' in temp2[1]:\n",
    "                if 'k' in temp2[0] and 'k' in temp2[0]:\n",
    "                    return ([float(temp2[0].replace('k', '000')), float(temp2[1].replace('k', '000'))])\n",
    "                elif 'k' in temp2[0] and 'k' not in temp2[1]:\n",
    "                    return ([float(temp2[0].replace('k', '000')), float(temp2[1])*1000])\n",
    "                elif 'k' in temp2[1] and 'k' not in temp2[0]:\n",
    "                    return ([float(temp2[0])*1000, float(temp2[1].replace('k', '000'))])\n",
    "            elif 'K' in temp2[0] or 'K' in temp2[1]:\n",
    "                if 'K' in temp2[0] and 'K' in temp2[0]:\n",
    "                    return ([float(temp2[0].replace('K', '000')), float(temp2[1].replace('K', '000'))])\n",
    "                elif 'K' in temp2[0] and 'K' not in temp2[1]:\n",
    "                    return ([float(temp2[0].replace('K', '000')), float(temp2[1])*1000])\n",
    "                elif 'K' in temp2[1] and 'K' not in temp2[0]:\n",
    "                    return ([float(temp2[0])*1000, float(temp2[1].replace('K', '000'))])\n",
    "            elif temp2[1] == '8':\n",
    "                return ([float(temp2[0])*8*200, float(temp2[0])*8*200])\n",
    "            else:\n",
    "                if ' ' in temp2[0] or ' ' in temp2[1]:\n",
    "                    if ' ' in temp2[0] and ' ' in temp2[1]:\n",
    "                        if len(temp2[0])>4 and len(temp2[1])>4:\n",
    "                            return ([float(temp2[0].replace(' ', '')), float(temp2[1].replace(' ', ''))])\n",
    "                        else:\n",
    "                            return ([float(temp2[0].replace(' ', ''))*8*200, float(temp2[1].replace(' ', ''))*8*200])\n",
    "                    elif ' ' in temp2[0] and ' ' not in temp2[1]:\n",
    "                        return ([float(temp2[0].replace(' ', ''))*8*200, float(temp2[1])*8*200])\n",
    "                    if ' ' not in temp2[0] and ' ' in temp2[1]:\n",
    "                        return ([float(temp2[0])*8*200, float(temp2[1].replace(' ', ''))*8*200])\n",
    "                else:\n",
    "                    return ([float(temp2[0])*8*200, float(temp2[1])*8*200])"
   ]
  },
  {
   "cell_type": "markdown",
   "metadata": {},
   "source": [
    "## Clean salary"
   ]
  },
  {
   "cell_type": "code",
   "execution_count": 18,
   "metadata": {},
   "outputs": [],
   "source": [
    "def salaryMinMax(row):\n",
    "    try:\n",
    "        s_min = row[0]\n",
    "        s_max = row[1]\n",
    "        return [int(s_min), int(s_max)]\n",
    "    except:\n",
    "        s_min = min(np.random.randint(45000, 75000, size=2))\n",
    "        s_max = max(np.random.randint(45000, 75000, size=2))\n",
    "        return [s_min, s_max]"
   ]
  },
  {
   "cell_type": "code",
   "execution_count": 19,
   "metadata": {},
   "outputs": [],
   "source": [
    "col_add_salary = [\n",
    "    'salary_range',\n",
    "    'salary_range_filled',\n",
    "    'salary_min',\n",
    "    'salary_max'\n",
    "]"
   ]
  },
  {
   "cell_type": "code",
   "execution_count": 20,
   "metadata": {},
   "outputs": [],
   "source": [
    "func_salary = [\n",
    "    salary_extract,\n",
    "    salaryMinMax\n",
    "]"
   ]
  },
  {
   "cell_type": "code",
   "execution_count": 21,
   "metadata": {},
   "outputs": [],
   "source": [
    "def clean_salary(df, col_edit, col_add_salary, func_salary):\n",
    "    df[col_add_salary[0]] = df[col_edit].apply(lambda row: func_salary[0](str(row)))\n",
    "    df[col_add_salary[1]] = df[col_add_salary[0]].apply(lambda row: func_salary[1](row))\n",
    "    df[[col_add_salary[2], col_add_salary[3]]] = df[col_add_salary[1]].apply(pd.Series)\n",
    "    return df"
   ]
  },
  {
   "cell_type": "markdown",
   "metadata": {},
   "source": [
    "## Clean redundancies"
   ]
  },
  {
   "cell_type": "code",
   "execution_count": 22,
   "metadata": {},
   "outputs": [],
   "source": [
    "def clean_redundancies(df):\n",
    "    df.rename({'column1': 'occupation', 'column2': 'Company Name'}, axis=1, inplace=True)\n",
    "    df['Company Name'].fillna(value=\"Private Advertiser\", inplace=True)\n",
    "    df.drop([\n",
    "        'salary_range', \n",
    "        'salary_range_filled', \n",
    "        'column1_link', \n",
    "        'column3', \n",
    "        'column4', \n",
    "        'column5'], axis=1, inplace=True)\n",
    "    return df"
   ]
  },
  {
   "cell_type": "markdown",
   "metadata": {},
   "source": [
    "## Main clean function"
   ]
  },
  {
   "cell_type": "code",
   "execution_count": 23,
   "metadata": {},
   "outputs": [],
   "source": [
    "def main_clean(path):\n",
    "    df = pd.read_excel(path)\n",
    "    renameCol(df)\n",
    "    df = cleanCol1_link(df, 'column1_link', 'job_advert_type')\n",
    "    df = clean_address_benefit(df, 'column3', col_add_address, func_address)\n",
    "    df = clean_jobPosted(df, 'column4', 'Job_Posted(days ago)', job_posted_days)\n",
    "    df = clean_jobClass(df, 'column5', col_add_jobClass, func_jobClass)\n",
    "    df = clean_salary(df, 'Salary($)(Benefit)', col_add_salary, func_salary)\n",
    "    df = clean_redundancies(df)\n",
    "    return df"
   ]
  },
  {
   "cell_type": "code",
   "execution_count": null,
   "metadata": {},
   "outputs": [],
   "source": []
  },
  {
   "cell_type": "code",
   "execution_count": 24,
   "metadata": {},
   "outputs": [
    {
     "data": {
      "text/html": [
       "<div>\n",
       "<style scoped>\n",
       "    .dataframe tbody tr th:only-of-type {\n",
       "        vertical-align: middle;\n",
       "    }\n",
       "\n",
       "    .dataframe tbody tr th {\n",
       "        vertical-align: top;\n",
       "    }\n",
       "\n",
       "    .dataframe thead th {\n",
       "        text-align: right;\n",
       "    }\n",
       "</style>\n",
       "<table border=\"1\" class=\"dataframe\">\n",
       "  <thead>\n",
       "    <tr style=\"text-align: right;\">\n",
       "      <th></th>\n",
       "      <th>occupation</th>\n",
       "      <th>Company Name</th>\n",
       "      <th>job_advert_type</th>\n",
       "      <th>Company location (Area)</th>\n",
       "      <th>Company location (suburb)</th>\n",
       "      <th>Salary($)(Benefit)</th>\n",
       "      <th>Job_Posted(days ago)</th>\n",
       "      <th>job_classification</th>\n",
       "      <th>job_subclassification</th>\n",
       "      <th>salary_min</th>\n",
       "      <th>salary_max</th>\n",
       "    </tr>\n",
       "  </thead>\n",
       "  <tbody>\n",
       "    <tr>\n",
       "      <th>0</th>\n",
       "      <td>Administrator</td>\n",
       "      <td>Private Advertiser</td>\n",
       "      <td>promoted</td>\n",
       "      <td>Bay of Plenty</td>\n",
       "      <td>Tauranga</td>\n",
       "      <td>None</td>\n",
       "      <td>None</td>\n",
       "      <td>Administration &amp; Office Support</td>\n",
       "      <td>Office Management</td>\n",
       "      <td>59468</td>\n",
       "      <td>50414</td>\n",
       "    </tr>\n",
       "    <tr>\n",
       "      <th>1</th>\n",
       "      <td>Receptionist</td>\n",
       "      <td>Avenues Orthodontics</td>\n",
       "      <td>promoted</td>\n",
       "      <td>Bay of Plenty</td>\n",
       "      <td>Tauranga</td>\n",
       "      <td>None</td>\n",
       "      <td>None</td>\n",
       "      <td>Administration &amp; Office Support</td>\n",
       "      <td>Receptionists</td>\n",
       "      <td>58395</td>\n",
       "      <td>69790</td>\n",
       "    </tr>\n",
       "    <tr>\n",
       "      <th>2</th>\n",
       "      <td>Prosecutions Support Officer</td>\n",
       "      <td>New Zealand Police</td>\n",
       "      <td>standard</td>\n",
       "      <td>Auckland</td>\n",
       "      <td>None</td>\n",
       "      <td>None</td>\n",
       "      <td>4</td>\n",
       "      <td>Administration &amp; Office Support</td>\n",
       "      <td>Other</td>\n",
       "      <td>58154</td>\n",
       "      <td>64290</td>\n",
       "    </tr>\n",
       "    <tr>\n",
       "      <th>3</th>\n",
       "      <td>Early Childhood Centre Administrator</td>\n",
       "      <td>Kew Pacific Island Early Learning Centre</td>\n",
       "      <td>standard</td>\n",
       "      <td>Southland</td>\n",
       "      <td>Invercargill</td>\n",
       "      <td>None</td>\n",
       "      <td>0</td>\n",
       "      <td>Administration &amp; Office Support</td>\n",
       "      <td>Administrative Assistants</td>\n",
       "      <td>53536</td>\n",
       "      <td>69886</td>\n",
       "    </tr>\n",
       "    <tr>\n",
       "      <th>4</th>\n",
       "      <td>Business Support Administrator</td>\n",
       "      <td>Private Advertiser</td>\n",
       "      <td>standout</td>\n",
       "      <td>Canterbury</td>\n",
       "      <td>Christchurch</td>\n",
       "      <td>None</td>\n",
       "      <td>4</td>\n",
       "      <td>Administration &amp; Office Support</td>\n",
       "      <td>Client &amp; Sales Administration</td>\n",
       "      <td>54765</td>\n",
       "      <td>61617</td>\n",
       "    </tr>\n",
       "    <tr>\n",
       "      <th>5</th>\n",
       "      <td>Support Officer</td>\n",
       "      <td>Ministry for Primary Industries</td>\n",
       "      <td>standout</td>\n",
       "      <td>Northland</td>\n",
       "      <td>Whangarei</td>\n",
       "      <td>None</td>\n",
       "      <td>0</td>\n",
       "      <td>Administration &amp; Office Support</td>\n",
       "      <td>Administrative Assistants</td>\n",
       "      <td>71478</td>\n",
       "      <td>69797</td>\n",
       "    </tr>\n",
       "    <tr>\n",
       "      <th>6</th>\n",
       "      <td>Support Officer</td>\n",
       "      <td>Ministry of Business, Innovation and Employment</td>\n",
       "      <td>standout</td>\n",
       "      <td>Wellington</td>\n",
       "      <td>Wellington Central</td>\n",
       "      <td>None</td>\n",
       "      <td>5</td>\n",
       "      <td>Administration &amp; Office Support</td>\n",
       "      <td>Other</td>\n",
       "      <td>61295</td>\n",
       "      <td>72710</td>\n",
       "    </tr>\n",
       "    <tr>\n",
       "      <th>7</th>\n",
       "      <td>office administrator</td>\n",
       "      <td>Hepburn Electrical Ltd</td>\n",
       "      <td>standard</td>\n",
       "      <td>Bay of Plenty</td>\n",
       "      <td>Rotorua</td>\n",
       "      <td>None</td>\n",
       "      <td>0</td>\n",
       "      <td>Administration &amp; Office Support</td>\n",
       "      <td>Administrative Assistants</td>\n",
       "      <td>60354</td>\n",
       "      <td>68812</td>\n",
       "    </tr>\n",
       "    <tr>\n",
       "      <th>8</th>\n",
       "      <td>Office Administrator</td>\n",
       "      <td>Webster Holland Ltd</td>\n",
       "      <td>standard</td>\n",
       "      <td>Bay of Plenty</td>\n",
       "      <td>Tauranga</td>\n",
       "      <td>None</td>\n",
       "      <td>0</td>\n",
       "      <td>Administration &amp; Office Support</td>\n",
       "      <td>Administrative Assistants</td>\n",
       "      <td>55567</td>\n",
       "      <td>71382</td>\n",
       "    </tr>\n",
       "    <tr>\n",
       "      <th>9</th>\n",
       "      <td>Administration Officer</td>\n",
       "      <td>New Zealand Police</td>\n",
       "      <td>standard</td>\n",
       "      <td>Canterbury</td>\n",
       "      <td>None</td>\n",
       "      <td>None</td>\n",
       "      <td>3</td>\n",
       "      <td>Administration &amp; Office Support</td>\n",
       "      <td>Other</td>\n",
       "      <td>61883</td>\n",
       "      <td>56977</td>\n",
       "    </tr>\n",
       "  </tbody>\n",
       "</table>\n",
       "</div>"
      ],
      "text/plain": [
       "                             occupation  \\\n",
       "0                         Administrator   \n",
       "1                          Receptionist   \n",
       "2          Prosecutions Support Officer   \n",
       "3  Early Childhood Centre Administrator   \n",
       "4        Business Support Administrator   \n",
       "5                       Support Officer   \n",
       "6                       Support Officer   \n",
       "7                  office administrator   \n",
       "8                  Office Administrator   \n",
       "9                Administration Officer   \n",
       "\n",
       "                                      Company Name job_advert_type  \\\n",
       "0                               Private Advertiser        promoted   \n",
       "1                             Avenues Orthodontics        promoted   \n",
       "2                               New Zealand Police        standard   \n",
       "3         Kew Pacific Island Early Learning Centre        standard   \n",
       "4                               Private Advertiser        standout   \n",
       "5                  Ministry for Primary Industries        standout   \n",
       "6  Ministry of Business, Innovation and Employment        standout   \n",
       "7                           Hepburn Electrical Ltd        standard   \n",
       "8                              Webster Holland Ltd        standard   \n",
       "9                               New Zealand Police        standard   \n",
       "\n",
       "  Company location (Area) Company location (suburb) Salary($)(Benefit)  \\\n",
       "0           Bay of Plenty                  Tauranga               None   \n",
       "1           Bay of Plenty                  Tauranga               None   \n",
       "2                Auckland                      None               None   \n",
       "3               Southland              Invercargill               None   \n",
       "4              Canterbury              Christchurch               None   \n",
       "5               Northland                 Whangarei               None   \n",
       "6              Wellington        Wellington Central               None   \n",
       "7           Bay of Plenty                   Rotorua               None   \n",
       "8           Bay of Plenty                  Tauranga               None   \n",
       "9              Canterbury                      None               None   \n",
       "\n",
       "  Job_Posted(days ago)               job_classification  \\\n",
       "0                 None  Administration & Office Support   \n",
       "1                 None  Administration & Office Support   \n",
       "2                    4  Administration & Office Support   \n",
       "3                    0  Administration & Office Support   \n",
       "4                    4  Administration & Office Support   \n",
       "5                    0  Administration & Office Support   \n",
       "6                    5  Administration & Office Support   \n",
       "7                    0  Administration & Office Support   \n",
       "8                    0  Administration & Office Support   \n",
       "9                    3  Administration & Office Support   \n",
       "\n",
       "           job_subclassification  salary_min  salary_max  \n",
       "0              Office Management       59468       50414  \n",
       "1                  Receptionists       58395       69790  \n",
       "2                          Other       58154       64290  \n",
       "3      Administrative Assistants       53536       69886  \n",
       "4  Client & Sales Administration       54765       61617  \n",
       "5      Administrative Assistants       71478       69797  \n",
       "6                          Other       61295       72710  \n",
       "7      Administrative Assistants       60354       68812  \n",
       "8      Administrative Assistants       55567       71382  \n",
       "9                          Other       61883       56977  "
      ]
     },
     "execution_count": 24,
     "metadata": {},
     "output_type": "execute_result"
    }
   ],
   "source": [
    "df_admin = main_clean('NZ_Admin_JOBS.xlsx')\n",
    "df_admin.head(10)"
   ]
  },
  {
   "cell_type": "code",
   "execution_count": 25,
   "metadata": {},
   "outputs": [
    {
     "name": "stdout",
     "output_type": "stream",
     "text": [
      "<class 'pandas.core.frame.DataFrame'>\n",
      "RangeIndex: 2708 entries, 0 to 2707\n",
      "Data columns (total 11 columns):\n",
      " #   Column                     Non-Null Count  Dtype \n",
      "---  ------                     --------------  ----- \n",
      " 0   occupation                 2708 non-null   object\n",
      " 1   Company Name               2708 non-null   object\n",
      " 2   job_advert_type            2708 non-null   object\n",
      " 3   Company location (Area)    2708 non-null   object\n",
      " 4   Company location (suburb)  2167 non-null   object\n",
      " 5   Salary($)(Benefit)         603 non-null    object\n",
      " 6   Job_Posted(days ago)       2688 non-null   object\n",
      " 7   job_classification         2105 non-null   object\n",
      " 8   job_subclassification      2105 non-null   object\n",
      " 9   salary_min                 2708 non-null   int64 \n",
      " 10  salary_max                 2708 non-null   int64 \n",
      "dtypes: int64(2), object(9)\n",
      "memory usage: 232.8+ KB\n"
     ]
    }
   ],
   "source": [
    "df_admin.info()"
   ]
  },
  {
   "cell_type": "code",
   "execution_count": null,
   "metadata": {},
   "outputs": [],
   "source": []
  },
  {
   "cell_type": "code",
   "execution_count": null,
   "metadata": {},
   "outputs": [],
   "source": []
  },
  {
   "cell_type": "code",
   "execution_count": null,
   "metadata": {},
   "outputs": [],
   "source": []
  }
 ],
 "metadata": {
  "kernelspec": {
   "display_name": "Python 3",
   "language": "python",
   "name": "python3"
  },
  "language_info": {
   "codemirror_mode": {
    "name": "ipython",
    "version": 3
   },
   "file_extension": ".py",
   "mimetype": "text/x-python",
   "name": "python",
   "nbconvert_exporter": "python",
   "pygments_lexer": "ipython3",
   "version": "3.8.5"
  }
 },
 "nbformat": 4,
 "nbformat_minor": 4
}

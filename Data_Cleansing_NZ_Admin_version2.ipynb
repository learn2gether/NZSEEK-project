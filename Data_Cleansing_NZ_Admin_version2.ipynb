{
 "cells": [
  {
   "cell_type": "markdown",
   "metadata": {},
   "source": [
    "# Title   \n",
    "*YL_Data_Cleansing_NZ_Admin.ipynb*\n",
    "\n",
    "## Purpose\n",
    "- NZ_admin is a raw dataset, and the task is to conduct a data-cleansing.\n",
    "- The clean dataset should be readable and able to do the further analysis such as data visualization. \n",
    "\n",
    "## Methodology\n",
    "Quickly describe assumptions and processing steps.\n",
    "\n",
    "## WIP - improvements\n",
    "Use this section only if the notebook is not final.\n",
    "\n",
    "Notable TODOs:\n",
    "- todo 1;\n",
    "- todo 2;\n",
    "- todo 3.\n",
    "\n",
    "## Results\n",
    "Describe and comment the most important results.\n",
    "\n",
    "## Suggested next steps\n",
    "State suggested next steps, based on results obtained in this notebook."
   ]
  },
  {
   "cell_type": "markdown",
   "metadata": {},
   "source": [
    "# Setup\n",
    "\n",
    "## Library import\n",
    "We import all the required Python libraries"
   ]
  },
  {
   "cell_type": "code",
   "execution_count": 1,
   "metadata": {},
   "outputs": [
    {
     "data": {
      "text/html": [
       "        <script type=\"text/javascript\">\n",
       "        window.PlotlyConfig = {MathJaxConfig: 'local'};\n",
       "        if (window.MathJax) {MathJax.Hub.Config({SVG: {font: \"STIX-Web\"}});}\n",
       "        if (typeof require !== 'undefined') {\n",
       "        require.undef(\"plotly\");\n",
       "        requirejs.config({\n",
       "            paths: {\n",
       "                'plotly': ['https://cdn.plot.ly/plotly-latest.min']\n",
       "            }\n",
       "        });\n",
       "        require(['plotly'], function(Plotly) {\n",
       "            window._Plotly = Plotly;\n",
       "        });\n",
       "        }\n",
       "        </script>\n",
       "        "
      ]
     },
     "metadata": {},
     "output_type": "display_data"
    }
   ],
   "source": [
    "# Data manipulation\n",
    "import pandas as pd\n",
    "import numpy as np\n",
    "\n",
    "# Options for pandas\n",
    "pd.options.display.max_columns = 50\n",
    "pd.options.display.max_rows = 30\n",
    "pd.options.display.max_colwidth = None\n",
    "\n",
    "# Visualizations\n",
    "import plotly\n",
    "import plotly.graph_objs as go\n",
    "import plotly.offline as ply\n",
    "plotly.offline.init_notebook_mode(connected=True)\n",
    "\n",
    "# import cufflinks as cf\n",
    "# cf.go_offline(connected=True)\n",
    "# cf.set_config_file(theme='white')\n",
    "\n",
    "import matplotlib as plt\n",
    "%matplotlib inline\n",
    "\n",
    "# missing value visualization\n",
    "import missingno as msno\n",
    "\n",
    "# python regex\n",
    "import re\n",
    "\n",
    "# Autoreload extension\n",
    "if 'autoreload' not in get_ipython().extension_manager.loaded:\n",
    "    %load_ext autoreload\n",
    "    \n",
    "%autoreload 2"
   ]
  },
  {
   "cell_type": "markdown",
   "metadata": {
    "heading_collapsed": true
   },
   "source": [
    "## Local library import\n",
    "We import all the required local libraries libraries"
   ]
  },
  {
   "cell_type": "code",
   "execution_count": null,
   "metadata": {
    "hidden": true
   },
   "outputs": [],
   "source": [
    "# Include local library paths\n",
    "import sys\n",
    "# sys.path.append('path/to/local/lib') # uncomment and fill to import local libraries\n",
    "\n",
    "# Import local libraries"
   ]
  },
  {
   "cell_type": "markdown",
   "metadata": {
    "heading_collapsed": true
   },
   "source": [
    "# Parameter definition\n",
    "We set all relevant parameters for our notebook. By convention, parameters are uppercase, while all the \n",
    "other variables follow Python's guidelines."
   ]
  },
  {
   "cell_type": "markdown",
   "metadata": {
    "hidden": true
   },
   "source": [
    "\n",
    "# Data import\n",
    "We retrieve all the required data for the analysis."
   ]
  },
  {
   "cell_type": "code",
   "execution_count": 2,
   "metadata": {
    "hidden": true
   },
   "outputs": [],
   "source": [
    "nz_admin = pd.read_excel(r'NZ_Admin_JOBS.xlsx')"
   ]
  },
  {
   "cell_type": "code",
   "execution_count": 3,
   "metadata": {
    "hidden": true
   },
   "outputs": [
    {
     "data": {
      "text/html": [
       "<div>\n",
       "<style scoped>\n",
       "    .dataframe tbody tr th:only-of-type {\n",
       "        vertical-align: middle;\n",
       "    }\n",
       "\n",
       "    .dataframe tbody tr th {\n",
       "        vertical-align: top;\n",
       "    }\n",
       "\n",
       "    .dataframe thead th {\n",
       "        text-align: right;\n",
       "    }\n",
       "</style>\n",
       "<table border=\"1\" class=\"dataframe\">\n",
       "  <thead>\n",
       "    <tr style=\"text-align: right;\">\n",
       "      <th></th>\n",
       "      <th>字段1</th>\n",
       "      <th>字段1_link</th>\n",
       "      <th>字段2</th>\n",
       "      <th>字段3</th>\n",
       "      <th>字段4</th>\n",
       "      <th>字段5</th>\n",
       "    </tr>\n",
       "  </thead>\n",
       "  <tbody>\n",
       "    <tr>\n",
       "      <th>0</th>\n",
       "      <td>Administrator</td>\n",
       "      <td>https://www.seek.co.nz/job/50582301?type=promoted#searchRequestToken=feee129e-c80f-4f79-ac5f-98ddb6d6c22b</td>\n",
       "      <td>NaN</td>\n",
       "      <td>location: Bay of PlentyBay of Plentyarea: TaurangaTauranga</td>\n",
       "      <td>Featured,at,Private Advertiser</td>\n",
       "      <td>classification: Administration &amp; Office SupportAdministration &amp; Office SupportsubClassification: Office ManagementOffice Management</td>\n",
       "    </tr>\n",
       "    <tr>\n",
       "      <th>1</th>\n",
       "      <td>Receptionist</td>\n",
       "      <td>https://www.seek.co.nz/job/50620889?type=promoted#searchRequestToken=feee129e-c80f-4f79-ac5f-98ddb6d6c22b</td>\n",
       "      <td>Avenues Orthodontics</td>\n",
       "      <td>location: Bay of PlentyBay of Plentyarea: TaurangaTauranga</td>\n",
       "      <td>Featured,at</td>\n",
       "      <td>classification: Administration &amp; Office SupportAdministration &amp; Office SupportsubClassification: ReceptionistsReceptionists</td>\n",
       "    </tr>\n",
       "    <tr>\n",
       "      <th>2</th>\n",
       "      <td>Prosecutions Support Officer</td>\n",
       "      <td>https://www.seek.co.nz/job/50622169?type=standard#searchRequestToken=feee129e-c80f-4f79-ac5f-98ddb6d6c22b</td>\n",
       "      <td>New Zealand Police</td>\n",
       "      <td>location: AucklandAuckland</td>\n",
       "      <td>4d ago,at</td>\n",
       "      <td>classification: Administration &amp; Office SupportAdministration &amp; Office SupportsubClassification: OtherOther</td>\n",
       "    </tr>\n",
       "    <tr>\n",
       "      <th>3</th>\n",
       "      <td>Early Childhood Centre Administrator</td>\n",
       "      <td>https://www.seek.co.nz/job/50639620?type=standard#searchRequestToken=feee129e-c80f-4f79-ac5f-98ddb6d6c22b</td>\n",
       "      <td>Kew Pacific Island Early Learning Centre</td>\n",
       "      <td>location: SouthlandSouthlandarea: InvercargillInvercargill</td>\n",
       "      <td>1h ago,at</td>\n",
       "      <td>classification: Administration &amp; Office SupportAdministration &amp; Office SupportsubClassification: Administrative AssistantsAdministrative Assistants</td>\n",
       "    </tr>\n",
       "    <tr>\n",
       "      <th>4</th>\n",
       "      <td>Business Support Administrator</td>\n",
       "      <td>https://www.seek.co.nz/job/50622432?type=standout#searchRequestToken=feee129e-c80f-4f79-ac5f-98ddb6d6c22b</td>\n",
       "      <td>NaN</td>\n",
       "      <td>location: CanterburyCanterburyarea: ChristchurchChristchurch</td>\n",
       "      <td>4d ago,at,Private Advertiser</td>\n",
       "      <td>classification: Administration &amp; Office SupportAdministration &amp; Office SupportsubClassification: Client &amp; Sales AdministrationClient &amp; Sales Administration</td>\n",
       "    </tr>\n",
       "  </tbody>\n",
       "</table>\n",
       "</div>"
      ],
      "text/plain": [
       "                                    字段1  \\\n",
       "0                         Administrator   \n",
       "1                          Receptionist   \n",
       "2          Prosecutions Support Officer   \n",
       "3  Early Childhood Centre Administrator   \n",
       "4        Business Support Administrator   \n",
       "\n",
       "                                                                                                    字段1_link  \\\n",
       "0  https://www.seek.co.nz/job/50582301?type=promoted#searchRequestToken=feee129e-c80f-4f79-ac5f-98ddb6d6c22b   \n",
       "1  https://www.seek.co.nz/job/50620889?type=promoted#searchRequestToken=feee129e-c80f-4f79-ac5f-98ddb6d6c22b   \n",
       "2  https://www.seek.co.nz/job/50622169?type=standard#searchRequestToken=feee129e-c80f-4f79-ac5f-98ddb6d6c22b   \n",
       "3  https://www.seek.co.nz/job/50639620?type=standard#searchRequestToken=feee129e-c80f-4f79-ac5f-98ddb6d6c22b   \n",
       "4  https://www.seek.co.nz/job/50622432?type=standout#searchRequestToken=feee129e-c80f-4f79-ac5f-98ddb6d6c22b   \n",
       "\n",
       "                                        字段2  \\\n",
       "0                                       NaN   \n",
       "1                      Avenues Orthodontics   \n",
       "2                        New Zealand Police   \n",
       "3  Kew Pacific Island Early Learning Centre   \n",
       "4                                       NaN   \n",
       "\n",
       "                                                            字段3  \\\n",
       "0    location: Bay of PlentyBay of Plentyarea: TaurangaTauranga   \n",
       "1    location: Bay of PlentyBay of Plentyarea: TaurangaTauranga   \n",
       "2                                    location: AucklandAuckland   \n",
       "3    location: SouthlandSouthlandarea: InvercargillInvercargill   \n",
       "4  location: CanterburyCanterburyarea: ChristchurchChristchurch   \n",
       "\n",
       "                              字段4  \\\n",
       "0  Featured,at,Private Advertiser   \n",
       "1                     Featured,at   \n",
       "2                       4d ago,at   \n",
       "3                       1h ago,at   \n",
       "4    4d ago,at,Private Advertiser   \n",
       "\n",
       "                                                                                                                                                           字段5  \n",
       "0                          classification: Administration & Office SupportAdministration & Office SupportsubClassification: Office ManagementOffice Management  \n",
       "1                                  classification: Administration & Office SupportAdministration & Office SupportsubClassification: ReceptionistsReceptionists  \n",
       "2                                                  classification: Administration & Office SupportAdministration & Office SupportsubClassification: OtherOther  \n",
       "3          classification: Administration & Office SupportAdministration & Office SupportsubClassification: Administrative AssistantsAdministrative Assistants  \n",
       "4  classification: Administration & Office SupportAdministration & Office SupportsubClassification: Client & Sales AdministrationClient & Sales Administration  "
      ]
     },
     "execution_count": 3,
     "metadata": {},
     "output_type": "execute_result"
    }
   ],
   "source": [
    "nz_admin.head()"
   ]
  },
  {
   "cell_type": "code",
   "execution_count": 4,
   "metadata": {
    "hidden": true
   },
   "outputs": [
    {
     "name": "stdout",
     "output_type": "stream",
     "text": [
      "<class 'pandas.core.frame.DataFrame'>\n",
      "RangeIndex: 2708 entries, 0 to 2707\n",
      "Data columns (total 6 columns):\n",
      " #   Column    Non-Null Count  Dtype \n",
      "---  ------    --------------  ----- \n",
      " 0   字段1       2708 non-null   object\n",
      " 1   字段1_link  2708 non-null   object\n",
      " 2   字段2       2686 non-null   object\n",
      " 3   字段3       2708 non-null   object\n",
      " 4   字段4       2708 non-null   object\n",
      " 5   字段5       2708 non-null   object\n",
      "dtypes: object(6)\n",
      "memory usage: 127.1+ KB\n"
     ]
    }
   ],
   "source": [
    "nz_admin.info()"
   ]
  },
  {
   "cell_type": "code",
   "execution_count": 5,
   "metadata": {
    "hidden": true
   },
   "outputs": [],
   "source": [
    "nz_admin.rename({\n",
    "    '字段1': 'column1', \n",
    "    '字段1_link': 'column1_link',\n",
    "    '字段2': 'column2', \n",
    "    '字段3': 'column3',\n",
    "    '字段4': 'column4', \n",
    "    '字段5': 'column5'\n",
    "}, axis=1, inplace=True)"
   ]
  },
  {
   "cell_type": "code",
   "execution_count": 6,
   "metadata": {
    "hidden": true
   },
   "outputs": [
    {
     "data": {
      "text/html": [
       "<div>\n",
       "<style scoped>\n",
       "    .dataframe tbody tr th:only-of-type {\n",
       "        vertical-align: middle;\n",
       "    }\n",
       "\n",
       "    .dataframe tbody tr th {\n",
       "        vertical-align: top;\n",
       "    }\n",
       "\n",
       "    .dataframe thead th {\n",
       "        text-align: right;\n",
       "    }\n",
       "</style>\n",
       "<table border=\"1\" class=\"dataframe\">\n",
       "  <thead>\n",
       "    <tr style=\"text-align: right;\">\n",
       "      <th></th>\n",
       "      <th>column1</th>\n",
       "      <th>column1_link</th>\n",
       "      <th>column2</th>\n",
       "      <th>column3</th>\n",
       "      <th>column4</th>\n",
       "      <th>column5</th>\n",
       "    </tr>\n",
       "  </thead>\n",
       "  <tbody>\n",
       "    <tr>\n",
       "      <th>0</th>\n",
       "      <td>Administrator</td>\n",
       "      <td>https://www.seek.co.nz/job/50582301?type=promoted#searchRequestToken=feee129e-c80f-4f79-ac5f-98ddb6d6c22b</td>\n",
       "      <td>NaN</td>\n",
       "      <td>location: Bay of PlentyBay of Plentyarea: TaurangaTauranga</td>\n",
       "      <td>Featured,at,Private Advertiser</td>\n",
       "      <td>classification: Administration &amp; Office SupportAdministration &amp; Office SupportsubClassification: Office ManagementOffice Management</td>\n",
       "    </tr>\n",
       "    <tr>\n",
       "      <th>1</th>\n",
       "      <td>Receptionist</td>\n",
       "      <td>https://www.seek.co.nz/job/50620889?type=promoted#searchRequestToken=feee129e-c80f-4f79-ac5f-98ddb6d6c22b</td>\n",
       "      <td>Avenues Orthodontics</td>\n",
       "      <td>location: Bay of PlentyBay of Plentyarea: TaurangaTauranga</td>\n",
       "      <td>Featured,at</td>\n",
       "      <td>classification: Administration &amp; Office SupportAdministration &amp; Office SupportsubClassification: ReceptionistsReceptionists</td>\n",
       "    </tr>\n",
       "    <tr>\n",
       "      <th>2</th>\n",
       "      <td>Prosecutions Support Officer</td>\n",
       "      <td>https://www.seek.co.nz/job/50622169?type=standard#searchRequestToken=feee129e-c80f-4f79-ac5f-98ddb6d6c22b</td>\n",
       "      <td>New Zealand Police</td>\n",
       "      <td>location: AucklandAuckland</td>\n",
       "      <td>4d ago,at</td>\n",
       "      <td>classification: Administration &amp; Office SupportAdministration &amp; Office SupportsubClassification: OtherOther</td>\n",
       "    </tr>\n",
       "    <tr>\n",
       "      <th>3</th>\n",
       "      <td>Early Childhood Centre Administrator</td>\n",
       "      <td>https://www.seek.co.nz/job/50639620?type=standard#searchRequestToken=feee129e-c80f-4f79-ac5f-98ddb6d6c22b</td>\n",
       "      <td>Kew Pacific Island Early Learning Centre</td>\n",
       "      <td>location: SouthlandSouthlandarea: InvercargillInvercargill</td>\n",
       "      <td>1h ago,at</td>\n",
       "      <td>classification: Administration &amp; Office SupportAdministration &amp; Office SupportsubClassification: Administrative AssistantsAdministrative Assistants</td>\n",
       "    </tr>\n",
       "    <tr>\n",
       "      <th>4</th>\n",
       "      <td>Business Support Administrator</td>\n",
       "      <td>https://www.seek.co.nz/job/50622432?type=standout#searchRequestToken=feee129e-c80f-4f79-ac5f-98ddb6d6c22b</td>\n",
       "      <td>NaN</td>\n",
       "      <td>location: CanterburyCanterburyarea: ChristchurchChristchurch</td>\n",
       "      <td>4d ago,at,Private Advertiser</td>\n",
       "      <td>classification: Administration &amp; Office SupportAdministration &amp; Office SupportsubClassification: Client &amp; Sales AdministrationClient &amp; Sales Administration</td>\n",
       "    </tr>\n",
       "  </tbody>\n",
       "</table>\n",
       "</div>"
      ],
      "text/plain": [
       "                                column1  \\\n",
       "0                         Administrator   \n",
       "1                          Receptionist   \n",
       "2          Prosecutions Support Officer   \n",
       "3  Early Childhood Centre Administrator   \n",
       "4        Business Support Administrator   \n",
       "\n",
       "                                                                                                column1_link  \\\n",
       "0  https://www.seek.co.nz/job/50582301?type=promoted#searchRequestToken=feee129e-c80f-4f79-ac5f-98ddb6d6c22b   \n",
       "1  https://www.seek.co.nz/job/50620889?type=promoted#searchRequestToken=feee129e-c80f-4f79-ac5f-98ddb6d6c22b   \n",
       "2  https://www.seek.co.nz/job/50622169?type=standard#searchRequestToken=feee129e-c80f-4f79-ac5f-98ddb6d6c22b   \n",
       "3  https://www.seek.co.nz/job/50639620?type=standard#searchRequestToken=feee129e-c80f-4f79-ac5f-98ddb6d6c22b   \n",
       "4  https://www.seek.co.nz/job/50622432?type=standout#searchRequestToken=feee129e-c80f-4f79-ac5f-98ddb6d6c22b   \n",
       "\n",
       "                                    column2  \\\n",
       "0                                       NaN   \n",
       "1                      Avenues Orthodontics   \n",
       "2                        New Zealand Police   \n",
       "3  Kew Pacific Island Early Learning Centre   \n",
       "4                                       NaN   \n",
       "\n",
       "                                                        column3  \\\n",
       "0    location: Bay of PlentyBay of Plentyarea: TaurangaTauranga   \n",
       "1    location: Bay of PlentyBay of Plentyarea: TaurangaTauranga   \n",
       "2                                    location: AucklandAuckland   \n",
       "3    location: SouthlandSouthlandarea: InvercargillInvercargill   \n",
       "4  location: CanterburyCanterburyarea: ChristchurchChristchurch   \n",
       "\n",
       "                          column4  \\\n",
       "0  Featured,at,Private Advertiser   \n",
       "1                     Featured,at   \n",
       "2                       4d ago,at   \n",
       "3                       1h ago,at   \n",
       "4    4d ago,at,Private Advertiser   \n",
       "\n",
       "                                                                                                                                                       column5  \n",
       "0                          classification: Administration & Office SupportAdministration & Office SupportsubClassification: Office ManagementOffice Management  \n",
       "1                                  classification: Administration & Office SupportAdministration & Office SupportsubClassification: ReceptionistsReceptionists  \n",
       "2                                                  classification: Administration & Office SupportAdministration & Office SupportsubClassification: OtherOther  \n",
       "3          classification: Administration & Office SupportAdministration & Office SupportsubClassification: Administrative AssistantsAdministrative Assistants  \n",
       "4  classification: Administration & Office SupportAdministration & Office SupportsubClassification: Client & Sales AdministrationClient & Sales Administration  "
      ]
     },
     "execution_count": 6,
     "metadata": {},
     "output_type": "execute_result"
    }
   ],
   "source": [
    "nz_admin.head()"
   ]
  },
  {
   "cell_type": "code",
   "execution_count": null,
   "metadata": {
    "hidden": true
   },
   "outputs": [],
   "source": []
  },
  {
   "cell_type": "code",
   "execution_count": null,
   "metadata": {
    "hidden": true
   },
   "outputs": [],
   "source": []
  },
  {
   "cell_type": "markdown",
   "metadata": {},
   "source": [
    "# Data processing\n",
    "Put here the core of the notebook. Feel free di further split this section into subsections."
   ]
  },
  {
   "cell_type": "code",
   "execution_count": null,
   "metadata": {},
   "outputs": [],
   "source": []
  },
  {
   "cell_type": "markdown",
   "metadata": {
    "heading_collapsed": true
   },
   "source": [
    "## Column1_link - types of job posted"
   ]
  },
  {
   "cell_type": "code",
   "execution_count": 7,
   "metadata": {
    "hidden": true
   },
   "outputs": [
    {
     "data": {
      "text/plain": [
       "column1                                                                                                                               Administrator\n",
       "column1_link                              https://www.seek.co.nz/job/50582301?type=promoted#searchRequestToken=feee129e-c80f-4f79-ac5f-98ddb6d6c22b\n",
       "column2                                                                                                                                         NaN\n",
       "column3                                                                                  location: Bay of PlentyBay of Plentyarea: TaurangaTauranga\n",
       "column4                                                                                                              Featured,at,Private Advertiser\n",
       "column5         classification: Administration & Office SupportAdministration & Office SupportsubClassification: Office ManagementOffice Management\n",
       "Name: 0, dtype: object"
      ]
     },
     "execution_count": 7,
     "metadata": {},
     "output_type": "execute_result"
    }
   ],
   "source": [
    "nz_admin.iloc[0]"
   ]
  },
  {
   "cell_type": "code",
   "execution_count": 13,
   "metadata": {
    "hidden": true
   },
   "outputs": [
    {
     "data": {
      "text/plain": [
       "'50582301'"
      ]
     },
     "execution_count": 13,
     "metadata": {},
     "output_type": "execute_result"
    }
   ],
   "source": [
    "re.search(r'(\\/)(\\d+)(\\?)', nz_admin.iloc[0][1]).group(2)"
   ]
  },
  {
   "cell_type": "code",
   "execution_count": 52,
   "metadata": {
    "hidden": true
   },
   "outputs": [
    {
     "data": {
      "text/plain": [
       "'promoted'"
      ]
     },
     "execution_count": 52,
     "metadata": {},
     "output_type": "execute_result"
    }
   ],
   "source": [
    "# re.search(r'type=(\\w)', nz_admin.iloc[0][1]).group()\n",
    "re.search(r'=(\\w+)#', nz_admin.iloc[0][1]).group(1)"
   ]
  },
  {
   "cell_type": "code",
   "execution_count": 54,
   "metadata": {
    "hidden": true
   },
   "outputs": [
    {
     "data": {
      "text/plain": [
       "0       promoted\n",
       "1       promoted\n",
       "2       standard\n",
       "3       standard\n",
       "4       standout\n",
       "          ...   \n",
       "2703    standout\n",
       "2704    standout\n",
       "2705    standout\n",
       "2706    standout\n",
       "2707    standout\n",
       "Name: column1_link, Length: 2708, dtype: object"
      ]
     },
     "execution_count": 54,
     "metadata": {},
     "output_type": "execute_result"
    }
   ],
   "source": [
    "nz_admin['column1_link'].apply(lambda row: re.search(r'=(\\w+)#', row).group(1))"
   ]
  },
  {
   "cell_type": "code",
   "execution_count": 55,
   "metadata": {
    "hidden": true
   },
   "outputs": [],
   "source": [
    "nz_admin_01 = nz_admin.copy()"
   ]
  },
  {
   "cell_type": "code",
   "execution_count": 56,
   "metadata": {
    "hidden": true
   },
   "outputs": [
    {
     "data": {
      "text/html": [
       "<div>\n",
       "<style scoped>\n",
       "    .dataframe tbody tr th:only-of-type {\n",
       "        vertical-align: middle;\n",
       "    }\n",
       "\n",
       "    .dataframe tbody tr th {\n",
       "        vertical-align: top;\n",
       "    }\n",
       "\n",
       "    .dataframe thead th {\n",
       "        text-align: right;\n",
       "    }\n",
       "</style>\n",
       "<table border=\"1\" class=\"dataframe\">\n",
       "  <thead>\n",
       "    <tr style=\"text-align: right;\">\n",
       "      <th></th>\n",
       "      <th>column1</th>\n",
       "      <th>column1_link</th>\n",
       "      <th>column2</th>\n",
       "      <th>column3</th>\n",
       "      <th>column4</th>\n",
       "      <th>column5</th>\n",
       "    </tr>\n",
       "  </thead>\n",
       "  <tbody>\n",
       "    <tr>\n",
       "      <th>0</th>\n",
       "      <td>Administrator</td>\n",
       "      <td>https://www.seek.co.nz/job/50582301?type=promoted#searchRequestToken=feee129e-c80f-4f79-ac5f-98ddb6d6c22b</td>\n",
       "      <td>NaN</td>\n",
       "      <td>location: Bay of PlentyBay of Plentyarea: TaurangaTauranga</td>\n",
       "      <td>Featured,at,Private Advertiser</td>\n",
       "      <td>classification: Administration &amp; Office SupportAdministration &amp; Office SupportsubClassification: Office ManagementOffice Management</td>\n",
       "    </tr>\n",
       "    <tr>\n",
       "      <th>1</th>\n",
       "      <td>Receptionist</td>\n",
       "      <td>https://www.seek.co.nz/job/50620889?type=promoted#searchRequestToken=feee129e-c80f-4f79-ac5f-98ddb6d6c22b</td>\n",
       "      <td>Avenues Orthodontics</td>\n",
       "      <td>location: Bay of PlentyBay of Plentyarea: TaurangaTauranga</td>\n",
       "      <td>Featured,at</td>\n",
       "      <td>classification: Administration &amp; Office SupportAdministration &amp; Office SupportsubClassification: ReceptionistsReceptionists</td>\n",
       "    </tr>\n",
       "    <tr>\n",
       "      <th>2</th>\n",
       "      <td>Prosecutions Support Officer</td>\n",
       "      <td>https://www.seek.co.nz/job/50622169?type=standard#searchRequestToken=feee129e-c80f-4f79-ac5f-98ddb6d6c22b</td>\n",
       "      <td>New Zealand Police</td>\n",
       "      <td>location: AucklandAuckland</td>\n",
       "      <td>4d ago,at</td>\n",
       "      <td>classification: Administration &amp; Office SupportAdministration &amp; Office SupportsubClassification: OtherOther</td>\n",
       "    </tr>\n",
       "    <tr>\n",
       "      <th>3</th>\n",
       "      <td>Early Childhood Centre Administrator</td>\n",
       "      <td>https://www.seek.co.nz/job/50639620?type=standard#searchRequestToken=feee129e-c80f-4f79-ac5f-98ddb6d6c22b</td>\n",
       "      <td>Kew Pacific Island Early Learning Centre</td>\n",
       "      <td>location: SouthlandSouthlandarea: InvercargillInvercargill</td>\n",
       "      <td>1h ago,at</td>\n",
       "      <td>classification: Administration &amp; Office SupportAdministration &amp; Office SupportsubClassification: Administrative AssistantsAdministrative Assistants</td>\n",
       "    </tr>\n",
       "    <tr>\n",
       "      <th>4</th>\n",
       "      <td>Business Support Administrator</td>\n",
       "      <td>https://www.seek.co.nz/job/50622432?type=standout#searchRequestToken=feee129e-c80f-4f79-ac5f-98ddb6d6c22b</td>\n",
       "      <td>NaN</td>\n",
       "      <td>location: CanterburyCanterburyarea: ChristchurchChristchurch</td>\n",
       "      <td>4d ago,at,Private Advertiser</td>\n",
       "      <td>classification: Administration &amp; Office SupportAdministration &amp; Office SupportsubClassification: Client &amp; Sales AdministrationClient &amp; Sales Administration</td>\n",
       "    </tr>\n",
       "  </tbody>\n",
       "</table>\n",
       "</div>"
      ],
      "text/plain": [
       "                                column1  \\\n",
       "0                         Administrator   \n",
       "1                          Receptionist   \n",
       "2          Prosecutions Support Officer   \n",
       "3  Early Childhood Centre Administrator   \n",
       "4        Business Support Administrator   \n",
       "\n",
       "                                                                                                column1_link  \\\n",
       "0  https://www.seek.co.nz/job/50582301?type=promoted#searchRequestToken=feee129e-c80f-4f79-ac5f-98ddb6d6c22b   \n",
       "1  https://www.seek.co.nz/job/50620889?type=promoted#searchRequestToken=feee129e-c80f-4f79-ac5f-98ddb6d6c22b   \n",
       "2  https://www.seek.co.nz/job/50622169?type=standard#searchRequestToken=feee129e-c80f-4f79-ac5f-98ddb6d6c22b   \n",
       "3  https://www.seek.co.nz/job/50639620?type=standard#searchRequestToken=feee129e-c80f-4f79-ac5f-98ddb6d6c22b   \n",
       "4  https://www.seek.co.nz/job/50622432?type=standout#searchRequestToken=feee129e-c80f-4f79-ac5f-98ddb6d6c22b   \n",
       "\n",
       "                                    column2  \\\n",
       "0                                       NaN   \n",
       "1                      Avenues Orthodontics   \n",
       "2                        New Zealand Police   \n",
       "3  Kew Pacific Island Early Learning Centre   \n",
       "4                                       NaN   \n",
       "\n",
       "                                                        column3  \\\n",
       "0    location: Bay of PlentyBay of Plentyarea: TaurangaTauranga   \n",
       "1    location: Bay of PlentyBay of Plentyarea: TaurangaTauranga   \n",
       "2                                    location: AucklandAuckland   \n",
       "3    location: SouthlandSouthlandarea: InvercargillInvercargill   \n",
       "4  location: CanterburyCanterburyarea: ChristchurchChristchurch   \n",
       "\n",
       "                          column4  \\\n",
       "0  Featured,at,Private Advertiser   \n",
       "1                     Featured,at   \n",
       "2                       4d ago,at   \n",
       "3                       1h ago,at   \n",
       "4    4d ago,at,Private Advertiser   \n",
       "\n",
       "                                                                                                                                                       column5  \n",
       "0                          classification: Administration & Office SupportAdministration & Office SupportsubClassification: Office ManagementOffice Management  \n",
       "1                                  classification: Administration & Office SupportAdministration & Office SupportsubClassification: ReceptionistsReceptionists  \n",
       "2                                                  classification: Administration & Office SupportAdministration & Office SupportsubClassification: OtherOther  \n",
       "3          classification: Administration & Office SupportAdministration & Office SupportsubClassification: Administrative AssistantsAdministrative Assistants  \n",
       "4  classification: Administration & Office SupportAdministration & Office SupportsubClassification: Client & Sales AdministrationClient & Sales Administration  "
      ]
     },
     "execution_count": 56,
     "metadata": {},
     "output_type": "execute_result"
    }
   ],
   "source": [
    "nz_admin_01.head()"
   ]
  },
  {
   "cell_type": "code",
   "execution_count": 57,
   "metadata": {
    "hidden": true
   },
   "outputs": [],
   "source": [
    "nz_admin_01['job_advert_type'] = nz_admin['column1_link'].apply(lambda row: re.search(r'=(\\w+)#', row).group(1))"
   ]
  },
  {
   "cell_type": "code",
   "execution_count": 59,
   "metadata": {
    "hidden": true
   },
   "outputs": [
    {
     "data": {
      "text/html": [
       "<div>\n",
       "<style scoped>\n",
       "    .dataframe tbody tr th:only-of-type {\n",
       "        vertical-align: middle;\n",
       "    }\n",
       "\n",
       "    .dataframe tbody tr th {\n",
       "        vertical-align: top;\n",
       "    }\n",
       "\n",
       "    .dataframe thead th {\n",
       "        text-align: right;\n",
       "    }\n",
       "</style>\n",
       "<table border=\"1\" class=\"dataframe\">\n",
       "  <thead>\n",
       "    <tr style=\"text-align: right;\">\n",
       "      <th></th>\n",
       "      <th>column1</th>\n",
       "      <th>column1_link</th>\n",
       "      <th>column2</th>\n",
       "      <th>column3</th>\n",
       "      <th>column4</th>\n",
       "      <th>column5</th>\n",
       "      <th>job_advert_type</th>\n",
       "    </tr>\n",
       "  </thead>\n",
       "  <tbody>\n",
       "    <tr>\n",
       "      <th>0</th>\n",
       "      <td>Administrator</td>\n",
       "      <td>https://www.seek.co.nz/job/50582301?type=promoted#searchRequestToken=feee129e-c80f-4f79-ac5f-98ddb6d6c22b</td>\n",
       "      <td>NaN</td>\n",
       "      <td>location: Bay of PlentyBay of Plentyarea: TaurangaTauranga</td>\n",
       "      <td>Featured,at,Private Advertiser</td>\n",
       "      <td>classification: Administration &amp; Office SupportAdministration &amp; Office SupportsubClassification: Office ManagementOffice Management</td>\n",
       "      <td>promoted</td>\n",
       "    </tr>\n",
       "    <tr>\n",
       "      <th>1</th>\n",
       "      <td>Receptionist</td>\n",
       "      <td>https://www.seek.co.nz/job/50620889?type=promoted#searchRequestToken=feee129e-c80f-4f79-ac5f-98ddb6d6c22b</td>\n",
       "      <td>Avenues Orthodontics</td>\n",
       "      <td>location: Bay of PlentyBay of Plentyarea: TaurangaTauranga</td>\n",
       "      <td>Featured,at</td>\n",
       "      <td>classification: Administration &amp; Office SupportAdministration &amp; Office SupportsubClassification: ReceptionistsReceptionists</td>\n",
       "      <td>promoted</td>\n",
       "    </tr>\n",
       "  </tbody>\n",
       "</table>\n",
       "</div>"
      ],
      "text/plain": [
       "         column1  \\\n",
       "0  Administrator   \n",
       "1   Receptionist   \n",
       "\n",
       "                                                                                                column1_link  \\\n",
       "0  https://www.seek.co.nz/job/50582301?type=promoted#searchRequestToken=feee129e-c80f-4f79-ac5f-98ddb6d6c22b   \n",
       "1  https://www.seek.co.nz/job/50620889?type=promoted#searchRequestToken=feee129e-c80f-4f79-ac5f-98ddb6d6c22b   \n",
       "\n",
       "                column2  \\\n",
       "0                   NaN   \n",
       "1  Avenues Orthodontics   \n",
       "\n",
       "                                                      column3  \\\n",
       "0  location: Bay of PlentyBay of Plentyarea: TaurangaTauranga   \n",
       "1  location: Bay of PlentyBay of Plentyarea: TaurangaTauranga   \n",
       "\n",
       "                          column4  \\\n",
       "0  Featured,at,Private Advertiser   \n",
       "1                     Featured,at   \n",
       "\n",
       "                                                                                                                               column5  \\\n",
       "0  classification: Administration & Office SupportAdministration & Office SupportsubClassification: Office ManagementOffice Management   \n",
       "1          classification: Administration & Office SupportAdministration & Office SupportsubClassification: ReceptionistsReceptionists   \n",
       "\n",
       "  job_advert_type  \n",
       "0        promoted  \n",
       "1        promoted  "
      ]
     },
     "execution_count": 59,
     "metadata": {},
     "output_type": "execute_result"
    }
   ],
   "source": [
    "nz_admin_01.head(2)"
   ]
  },
  {
   "cell_type": "code",
   "execution_count": 60,
   "metadata": {
    "hidden": true
   },
   "outputs": [],
   "source": [
    "nz_admin_01.drop('column1_link', axis=1, inplace=True)"
   ]
  },
  {
   "cell_type": "code",
   "execution_count": 61,
   "metadata": {
    "hidden": true
   },
   "outputs": [
    {
     "data": {
      "text/html": [
       "<div>\n",
       "<style scoped>\n",
       "    .dataframe tbody tr th:only-of-type {\n",
       "        vertical-align: middle;\n",
       "    }\n",
       "\n",
       "    .dataframe tbody tr th {\n",
       "        vertical-align: top;\n",
       "    }\n",
       "\n",
       "    .dataframe thead th {\n",
       "        text-align: right;\n",
       "    }\n",
       "</style>\n",
       "<table border=\"1\" class=\"dataframe\">\n",
       "  <thead>\n",
       "    <tr style=\"text-align: right;\">\n",
       "      <th></th>\n",
       "      <th>column1</th>\n",
       "      <th>column2</th>\n",
       "      <th>column3</th>\n",
       "      <th>column4</th>\n",
       "      <th>column5</th>\n",
       "      <th>job_advert_type</th>\n",
       "    </tr>\n",
       "  </thead>\n",
       "  <tbody>\n",
       "    <tr>\n",
       "      <th>0</th>\n",
       "      <td>Administrator</td>\n",
       "      <td>NaN</td>\n",
       "      <td>location: Bay of PlentyBay of Plentyarea: TaurangaTauranga</td>\n",
       "      <td>Featured,at,Private Advertiser</td>\n",
       "      <td>classification: Administration &amp; Office SupportAdministration &amp; Office SupportsubClassification: Office ManagementOffice Management</td>\n",
       "      <td>promoted</td>\n",
       "    </tr>\n",
       "    <tr>\n",
       "      <th>1</th>\n",
       "      <td>Receptionist</td>\n",
       "      <td>Avenues Orthodontics</td>\n",
       "      <td>location: Bay of PlentyBay of Plentyarea: TaurangaTauranga</td>\n",
       "      <td>Featured,at</td>\n",
       "      <td>classification: Administration &amp; Office SupportAdministration &amp; Office SupportsubClassification: ReceptionistsReceptionists</td>\n",
       "      <td>promoted</td>\n",
       "    </tr>\n",
       "    <tr>\n",
       "      <th>2</th>\n",
       "      <td>Prosecutions Support Officer</td>\n",
       "      <td>New Zealand Police</td>\n",
       "      <td>location: AucklandAuckland</td>\n",
       "      <td>4d ago,at</td>\n",
       "      <td>classification: Administration &amp; Office SupportAdministration &amp; Office SupportsubClassification: OtherOther</td>\n",
       "      <td>standard</td>\n",
       "    </tr>\n",
       "  </tbody>\n",
       "</table>\n",
       "</div>"
      ],
      "text/plain": [
       "                        column1               column2  \\\n",
       "0                 Administrator                   NaN   \n",
       "1                  Receptionist  Avenues Orthodontics   \n",
       "2  Prosecutions Support Officer    New Zealand Police   \n",
       "\n",
       "                                                      column3  \\\n",
       "0  location: Bay of PlentyBay of Plentyarea: TaurangaTauranga   \n",
       "1  location: Bay of PlentyBay of Plentyarea: TaurangaTauranga   \n",
       "2                                  location: AucklandAuckland   \n",
       "\n",
       "                          column4  \\\n",
       "0  Featured,at,Private Advertiser   \n",
       "1                     Featured,at   \n",
       "2                       4d ago,at   \n",
       "\n",
       "                                                                                                                               column5  \\\n",
       "0  classification: Administration & Office SupportAdministration & Office SupportsubClassification: Office ManagementOffice Management   \n",
       "1          classification: Administration & Office SupportAdministration & Office SupportsubClassification: ReceptionistsReceptionists   \n",
       "2                          classification: Administration & Office SupportAdministration & Office SupportsubClassification: OtherOther   \n",
       "\n",
       "  job_advert_type  \n",
       "0        promoted  \n",
       "1        promoted  \n",
       "2        standard  "
      ]
     },
     "execution_count": 61,
     "metadata": {},
     "output_type": "execute_result"
    }
   ],
   "source": [
    "nz_admin_01.head(3)"
   ]
  },
  {
   "cell_type": "code",
   "execution_count": 64,
   "metadata": {
    "hidden": true
   },
   "outputs": [
    {
     "data": {
      "text/plain": [
       "standout    1877\n",
       "standard     811\n",
       "promoted      20\n",
       "Name: job_advert_type, dtype: int64"
      ]
     },
     "execution_count": 64,
     "metadata": {},
     "output_type": "execute_result"
    }
   ],
   "source": [
    "######## When we attempt to run data visualization, we could analyze whether the type of advert could affect\n",
    "######## the company to find the fit candidate quicker.\n",
    "nz_admin_01['job_advert_type'].value_counts()"
   ]
  },
  {
   "cell_type": "code",
   "execution_count": 65,
   "metadata": {
    "hidden": true
   },
   "outputs": [
    {
     "name": "stdout",
     "output_type": "stream",
     "text": [
      "<class 'pandas.core.frame.DataFrame'>\n",
      "RangeIndex: 2708 entries, 0 to 2707\n",
      "Data columns (total 6 columns):\n",
      " #   Column           Non-Null Count  Dtype \n",
      "---  ------           --------------  ----- \n",
      " 0   column1          2708 non-null   object\n",
      " 1   column2          2686 non-null   object\n",
      " 2   column3          2708 non-null   object\n",
      " 3   column4          2708 non-null   object\n",
      " 4   column5          2708 non-null   object\n",
      " 5   job_advert_type  2708 non-null   object\n",
      "dtypes: object(6)\n",
      "memory usage: 127.1+ KB\n"
     ]
    }
   ],
   "source": [
    "nz_admin_01.info()"
   ]
  },
  {
   "cell_type": "code",
   "execution_count": null,
   "metadata": {
    "hidden": true
   },
   "outputs": [],
   "source": []
  },
  {
   "cell_type": "code",
   "execution_count": null,
   "metadata": {
    "hidden": true
   },
   "outputs": [],
   "source": []
  },
  {
   "cell_type": "markdown",
   "metadata": {
    "heading_collapsed": true
   },
   "source": [
    "## Column1 - Occupation"
   ]
  },
  {
   "cell_type": "code",
   "execution_count": 66,
   "metadata": {
    "hidden": true
   },
   "outputs": [
    {
     "data": {
      "text/plain": [
       "Executive Assistant                                                301\n",
       "Temporary Office Roles                                             280\n",
       "Team Administrator                                                  76\n",
       "Contracts Administrator                                             76\n",
       "Temp Receptionists/Administrators - Ad Agencies/Music Companies     71\n",
       "                                                                  ... \n",
       "Casual Administrator                                                 1\n",
       "Operations Administrator                                             1\n",
       "Weighbridge Administrator                                            1\n",
       "Business Development Administrator                                   1\n",
       "Customer Service & Office Manager                                    1\n",
       "Name: column1, Length: 548, dtype: int64"
      ]
     },
     "execution_count": 66,
     "metadata": {},
     "output_type": "execute_result"
    }
   ],
   "source": [
    "nz_admin_01['column1'].value_counts()"
   ]
  },
  {
   "cell_type": "code",
   "execution_count": null,
   "metadata": {
    "hidden": true
   },
   "outputs": [],
   "source": []
  },
  {
   "cell_type": "code",
   "execution_count": 67,
   "metadata": {
    "hidden": true
   },
   "outputs": [
    {
     "data": {
      "text/plain": [
       "548"
      ]
     },
     "execution_count": 67,
     "metadata": {},
     "output_type": "execute_result"
    }
   ],
   "source": [
    "# The nz_admin dataset contains 548 unique profession.\n",
    "nz_admin_01['column1'].nunique()"
   ]
  },
  {
   "cell_type": "code",
   "execution_count": 68,
   "metadata": {
    "hidden": true
   },
   "outputs": [],
   "source": [
    "nz_admin_01.rename({'column1': 'occupation'}, axis=1, inplace=True)"
   ]
  },
  {
   "cell_type": "code",
   "execution_count": 69,
   "metadata": {
    "hidden": true
   },
   "outputs": [
    {
     "data": {
      "text/html": [
       "<div>\n",
       "<style scoped>\n",
       "    .dataframe tbody tr th:only-of-type {\n",
       "        vertical-align: middle;\n",
       "    }\n",
       "\n",
       "    .dataframe tbody tr th {\n",
       "        vertical-align: top;\n",
       "    }\n",
       "\n",
       "    .dataframe thead th {\n",
       "        text-align: right;\n",
       "    }\n",
       "</style>\n",
       "<table border=\"1\" class=\"dataframe\">\n",
       "  <thead>\n",
       "    <tr style=\"text-align: right;\">\n",
       "      <th></th>\n",
       "      <th>occupation</th>\n",
       "      <th>column2</th>\n",
       "      <th>column3</th>\n",
       "      <th>column4</th>\n",
       "      <th>column5</th>\n",
       "      <th>job_advert_type</th>\n",
       "    </tr>\n",
       "  </thead>\n",
       "  <tbody>\n",
       "    <tr>\n",
       "      <th>0</th>\n",
       "      <td>Administrator</td>\n",
       "      <td>NaN</td>\n",
       "      <td>location: Bay of PlentyBay of Plentyarea: TaurangaTauranga</td>\n",
       "      <td>Featured,at,Private Advertiser</td>\n",
       "      <td>classification: Administration &amp; Office SupportAdministration &amp; Office SupportsubClassification: Office ManagementOffice Management</td>\n",
       "      <td>promoted</td>\n",
       "    </tr>\n",
       "    <tr>\n",
       "      <th>1</th>\n",
       "      <td>Receptionist</td>\n",
       "      <td>Avenues Orthodontics</td>\n",
       "      <td>location: Bay of PlentyBay of Plentyarea: TaurangaTauranga</td>\n",
       "      <td>Featured,at</td>\n",
       "      <td>classification: Administration &amp; Office SupportAdministration &amp; Office SupportsubClassification: ReceptionistsReceptionists</td>\n",
       "      <td>promoted</td>\n",
       "    </tr>\n",
       "    <tr>\n",
       "      <th>2</th>\n",
       "      <td>Prosecutions Support Officer</td>\n",
       "      <td>New Zealand Police</td>\n",
       "      <td>location: AucklandAuckland</td>\n",
       "      <td>4d ago,at</td>\n",
       "      <td>classification: Administration &amp; Office SupportAdministration &amp; Office SupportsubClassification: OtherOther</td>\n",
       "      <td>standard</td>\n",
       "    </tr>\n",
       "    <tr>\n",
       "      <th>3</th>\n",
       "      <td>Early Childhood Centre Administrator</td>\n",
       "      <td>Kew Pacific Island Early Learning Centre</td>\n",
       "      <td>location: SouthlandSouthlandarea: InvercargillInvercargill</td>\n",
       "      <td>1h ago,at</td>\n",
       "      <td>classification: Administration &amp; Office SupportAdministration &amp; Office SupportsubClassification: Administrative AssistantsAdministrative Assistants</td>\n",
       "      <td>standard</td>\n",
       "    </tr>\n",
       "    <tr>\n",
       "      <th>4</th>\n",
       "      <td>Business Support Administrator</td>\n",
       "      <td>NaN</td>\n",
       "      <td>location: CanterburyCanterburyarea: ChristchurchChristchurch</td>\n",
       "      <td>4d ago,at,Private Advertiser</td>\n",
       "      <td>classification: Administration &amp; Office SupportAdministration &amp; Office SupportsubClassification: Client &amp; Sales AdministrationClient &amp; Sales Administration</td>\n",
       "      <td>standout</td>\n",
       "    </tr>\n",
       "  </tbody>\n",
       "</table>\n",
       "</div>"
      ],
      "text/plain": [
       "                             occupation  \\\n",
       "0                         Administrator   \n",
       "1                          Receptionist   \n",
       "2          Prosecutions Support Officer   \n",
       "3  Early Childhood Centre Administrator   \n",
       "4        Business Support Administrator   \n",
       "\n",
       "                                    column2  \\\n",
       "0                                       NaN   \n",
       "1                      Avenues Orthodontics   \n",
       "2                        New Zealand Police   \n",
       "3  Kew Pacific Island Early Learning Centre   \n",
       "4                                       NaN   \n",
       "\n",
       "                                                        column3  \\\n",
       "0    location: Bay of PlentyBay of Plentyarea: TaurangaTauranga   \n",
       "1    location: Bay of PlentyBay of Plentyarea: TaurangaTauranga   \n",
       "2                                    location: AucklandAuckland   \n",
       "3    location: SouthlandSouthlandarea: InvercargillInvercargill   \n",
       "4  location: CanterburyCanterburyarea: ChristchurchChristchurch   \n",
       "\n",
       "                          column4  \\\n",
       "0  Featured,at,Private Advertiser   \n",
       "1                     Featured,at   \n",
       "2                       4d ago,at   \n",
       "3                       1h ago,at   \n",
       "4    4d ago,at,Private Advertiser   \n",
       "\n",
       "                                                                                                                                                       column5  \\\n",
       "0                          classification: Administration & Office SupportAdministration & Office SupportsubClassification: Office ManagementOffice Management   \n",
       "1                                  classification: Administration & Office SupportAdministration & Office SupportsubClassification: ReceptionistsReceptionists   \n",
       "2                                                  classification: Administration & Office SupportAdministration & Office SupportsubClassification: OtherOther   \n",
       "3          classification: Administration & Office SupportAdministration & Office SupportsubClassification: Administrative AssistantsAdministrative Assistants   \n",
       "4  classification: Administration & Office SupportAdministration & Office SupportsubClassification: Client & Sales AdministrationClient & Sales Administration   \n",
       "\n",
       "  job_advert_type  \n",
       "0        promoted  \n",
       "1        promoted  \n",
       "2        standard  \n",
       "3        standard  \n",
       "4        standout  "
      ]
     },
     "execution_count": 69,
     "metadata": {},
     "output_type": "execute_result"
    }
   ],
   "source": [
    "nz_admin_01.head()"
   ]
  },
  {
   "cell_type": "code",
   "execution_count": null,
   "metadata": {
    "hidden": true
   },
   "outputs": [],
   "source": []
  },
  {
   "cell_type": "markdown",
   "metadata": {
    "heading_collapsed": true
   },
   "source": [
    "## Column2 - company name"
   ]
  },
  {
   "cell_type": "code",
   "execution_count": 70,
   "metadata": {
    "hidden": true
   },
   "outputs": [
    {
     "name": "stdout",
     "output_type": "stream",
     "text": [
      "<class 'pandas.core.frame.DataFrame'>\n",
      "RangeIndex: 2708 entries, 0 to 2707\n",
      "Data columns (total 6 columns):\n",
      " #   Column           Non-Null Count  Dtype \n",
      "---  ------           --------------  ----- \n",
      " 0   occupation       2708 non-null   object\n",
      " 1   column2          2686 non-null   object\n",
      " 2   column3          2708 non-null   object\n",
      " 3   column4          2708 non-null   object\n",
      " 4   column5          2708 non-null   object\n",
      " 5   job_advert_type  2708 non-null   object\n",
      "dtypes: object(6)\n",
      "memory usage: 127.1+ KB\n"
     ]
    }
   ],
   "source": [
    "# column \"字段2\" contains missing values. This column presents the corporate name, which allows to analyse \n",
    "# job vacancy within particular company.\n",
    "nz_admin_01.info()"
   ]
  },
  {
   "cell_type": "code",
   "execution_count": 71,
   "metadata": {
    "hidden": true
   },
   "outputs": [],
   "source": [
    "nz_admin_02 = nz_admin_01.copy()"
   ]
  },
  {
   "cell_type": "code",
   "execution_count": 72,
   "metadata": {
    "hidden": true
   },
   "outputs": [
    {
     "data": {
      "text/html": [
       "<div>\n",
       "<style scoped>\n",
       "    .dataframe tbody tr th:only-of-type {\n",
       "        vertical-align: middle;\n",
       "    }\n",
       "\n",
       "    .dataframe tbody tr th {\n",
       "        vertical-align: top;\n",
       "    }\n",
       "\n",
       "    .dataframe thead th {\n",
       "        text-align: right;\n",
       "    }\n",
       "</style>\n",
       "<table border=\"1\" class=\"dataframe\">\n",
       "  <thead>\n",
       "    <tr style=\"text-align: right;\">\n",
       "      <th></th>\n",
       "      <th>occupation</th>\n",
       "      <th>column2</th>\n",
       "      <th>column3</th>\n",
       "      <th>column4</th>\n",
       "      <th>column5</th>\n",
       "      <th>job_advert_type</th>\n",
       "    </tr>\n",
       "  </thead>\n",
       "  <tbody>\n",
       "    <tr>\n",
       "      <th>0</th>\n",
       "      <td>Administrator</td>\n",
       "      <td>NaN</td>\n",
       "      <td>location: Bay of PlentyBay of Plentyarea: TaurangaTauranga</td>\n",
       "      <td>Featured,at,Private Advertiser</td>\n",
       "      <td>classification: Administration &amp; Office SupportAdministration &amp; Office SupportsubClassification: Office ManagementOffice Management</td>\n",
       "      <td>promoted</td>\n",
       "    </tr>\n",
       "    <tr>\n",
       "      <th>1</th>\n",
       "      <td>Receptionist</td>\n",
       "      <td>Avenues Orthodontics</td>\n",
       "      <td>location: Bay of PlentyBay of Plentyarea: TaurangaTauranga</td>\n",
       "      <td>Featured,at</td>\n",
       "      <td>classification: Administration &amp; Office SupportAdministration &amp; Office SupportsubClassification: ReceptionistsReceptionists</td>\n",
       "      <td>promoted</td>\n",
       "    </tr>\n",
       "    <tr>\n",
       "      <th>2</th>\n",
       "      <td>Prosecutions Support Officer</td>\n",
       "      <td>New Zealand Police</td>\n",
       "      <td>location: AucklandAuckland</td>\n",
       "      <td>4d ago,at</td>\n",
       "      <td>classification: Administration &amp; Office SupportAdministration &amp; Office SupportsubClassification: OtherOther</td>\n",
       "      <td>standard</td>\n",
       "    </tr>\n",
       "    <tr>\n",
       "      <th>3</th>\n",
       "      <td>Early Childhood Centre Administrator</td>\n",
       "      <td>Kew Pacific Island Early Learning Centre</td>\n",
       "      <td>location: SouthlandSouthlandarea: InvercargillInvercargill</td>\n",
       "      <td>1h ago,at</td>\n",
       "      <td>classification: Administration &amp; Office SupportAdministration &amp; Office SupportsubClassification: Administrative AssistantsAdministrative Assistants</td>\n",
       "      <td>standard</td>\n",
       "    </tr>\n",
       "    <tr>\n",
       "      <th>4</th>\n",
       "      <td>Business Support Administrator</td>\n",
       "      <td>NaN</td>\n",
       "      <td>location: CanterburyCanterburyarea: ChristchurchChristchurch</td>\n",
       "      <td>4d ago,at,Private Advertiser</td>\n",
       "      <td>classification: Administration &amp; Office SupportAdministration &amp; Office SupportsubClassification: Client &amp; Sales AdministrationClient &amp; Sales Administration</td>\n",
       "      <td>standout</td>\n",
       "    </tr>\n",
       "    <tr>\n",
       "      <th>5</th>\n",
       "      <td>Support Officer</td>\n",
       "      <td>Ministry for Primary Industries</td>\n",
       "      <td>location: NorthlandNorthlandarea: WhangareiWhangarei</td>\n",
       "      <td>9m ago,at</td>\n",
       "      <td>classification: Administration &amp; Office SupportAdministration &amp; Office SupportsubClassification: Administrative AssistantsAdministrative Assistants</td>\n",
       "      <td>standout</td>\n",
       "    </tr>\n",
       "    <tr>\n",
       "      <th>6</th>\n",
       "      <td>Support Officer</td>\n",
       "      <td>Ministry of Business, Innovation and Employment</td>\n",
       "      <td>location: WellingtonWellingtonarea: Wellington CentralWellington Central</td>\n",
       "      <td>5d ago,at</td>\n",
       "      <td>classification: Administration &amp; Office SupportAdministration &amp; Office SupportsubClassification: OtherOther</td>\n",
       "      <td>standout</td>\n",
       "    </tr>\n",
       "  </tbody>\n",
       "</table>\n",
       "</div>"
      ],
      "text/plain": [
       "                             occupation  \\\n",
       "0                         Administrator   \n",
       "1                          Receptionist   \n",
       "2          Prosecutions Support Officer   \n",
       "3  Early Childhood Centre Administrator   \n",
       "4        Business Support Administrator   \n",
       "5                       Support Officer   \n",
       "6                       Support Officer   \n",
       "\n",
       "                                           column2  \\\n",
       "0                                              NaN   \n",
       "1                             Avenues Orthodontics   \n",
       "2                               New Zealand Police   \n",
       "3         Kew Pacific Island Early Learning Centre   \n",
       "4                                              NaN   \n",
       "5                  Ministry for Primary Industries   \n",
       "6  Ministry of Business, Innovation and Employment   \n",
       "\n",
       "                                                                    column3  \\\n",
       "0                location: Bay of PlentyBay of Plentyarea: TaurangaTauranga   \n",
       "1                location: Bay of PlentyBay of Plentyarea: TaurangaTauranga   \n",
       "2                                                location: AucklandAuckland   \n",
       "3                location: SouthlandSouthlandarea: InvercargillInvercargill   \n",
       "4              location: CanterburyCanterburyarea: ChristchurchChristchurch   \n",
       "5                      location: NorthlandNorthlandarea: WhangareiWhangarei   \n",
       "6  location: WellingtonWellingtonarea: Wellington CentralWellington Central   \n",
       "\n",
       "                          column4  \\\n",
       "0  Featured,at,Private Advertiser   \n",
       "1                     Featured,at   \n",
       "2                       4d ago,at   \n",
       "3                       1h ago,at   \n",
       "4    4d ago,at,Private Advertiser   \n",
       "5                       9m ago,at   \n",
       "6                       5d ago,at   \n",
       "\n",
       "                                                                                                                                                       column5  \\\n",
       "0                          classification: Administration & Office SupportAdministration & Office SupportsubClassification: Office ManagementOffice Management   \n",
       "1                                  classification: Administration & Office SupportAdministration & Office SupportsubClassification: ReceptionistsReceptionists   \n",
       "2                                                  classification: Administration & Office SupportAdministration & Office SupportsubClassification: OtherOther   \n",
       "3          classification: Administration & Office SupportAdministration & Office SupportsubClassification: Administrative AssistantsAdministrative Assistants   \n",
       "4  classification: Administration & Office SupportAdministration & Office SupportsubClassification: Client & Sales AdministrationClient & Sales Administration   \n",
       "5          classification: Administration & Office SupportAdministration & Office SupportsubClassification: Administrative AssistantsAdministrative Assistants   \n",
       "6                                                  classification: Administration & Office SupportAdministration & Office SupportsubClassification: OtherOther   \n",
       "\n",
       "  job_advert_type  \n",
       "0        promoted  \n",
       "1        promoted  \n",
       "2        standard  \n",
       "3        standard  \n",
       "4        standout  \n",
       "5        standout  \n",
       "6        standout  "
      ]
     },
     "execution_count": 72,
     "metadata": {},
     "output_type": "execute_result"
    }
   ],
   "source": [
    "nz_admin_02.head(7)"
   ]
  },
  {
   "cell_type": "code",
   "execution_count": 77,
   "metadata": {
    "hidden": true
   },
   "outputs": [
    {
     "data": {
      "text/html": [
       "<div>\n",
       "<style scoped>\n",
       "    .dataframe tbody tr th:only-of-type {\n",
       "        vertical-align: middle;\n",
       "    }\n",
       "\n",
       "    .dataframe tbody tr th {\n",
       "        vertical-align: top;\n",
       "    }\n",
       "\n",
       "    .dataframe thead th {\n",
       "        text-align: right;\n",
       "    }\n",
       "</style>\n",
       "<table border=\"1\" class=\"dataframe\">\n",
       "  <thead>\n",
       "    <tr style=\"text-align: right;\">\n",
       "      <th></th>\n",
       "      <th>occupation</th>\n",
       "      <th>column2</th>\n",
       "      <th>column3</th>\n",
       "      <th>column4</th>\n",
       "      <th>column5</th>\n",
       "      <th>job_advert_type</th>\n",
       "    </tr>\n",
       "  </thead>\n",
       "  <tbody>\n",
       "    <tr>\n",
       "      <th>0</th>\n",
       "      <td>Administrator</td>\n",
       "      <td>NaN</td>\n",
       "      <td>location: Bay of PlentyBay of Plentyarea: TaurangaTauranga</td>\n",
       "      <td>Featured,at,Private Advertiser</td>\n",
       "      <td>classification: Administration &amp; Office SupportAdministration &amp; Office SupportsubClassification: Office ManagementOffice Management</td>\n",
       "      <td>promoted</td>\n",
       "    </tr>\n",
       "    <tr>\n",
       "      <th>4</th>\n",
       "      <td>Business Support Administrator</td>\n",
       "      <td>NaN</td>\n",
       "      <td>location: CanterburyCanterburyarea: ChristchurchChristchurch</td>\n",
       "      <td>4d ago,at,Private Advertiser</td>\n",
       "      <td>classification: Administration &amp; Office SupportAdministration &amp; Office SupportsubClassification: Client &amp; Sales AdministrationClient &amp; Sales Administration</td>\n",
       "      <td>standout</td>\n",
       "    </tr>\n",
       "    <tr>\n",
       "      <th>19</th>\n",
       "      <td>Administrator</td>\n",
       "      <td>NaN</td>\n",
       "      <td>location: ManawatuManawatuarea: Rest of ManawatuRest of Manawatu</td>\n",
       "      <td>7d ago,at,Private Advertiser</td>\n",
       "      <td>classification: Administration &amp; Office SupportAdministration &amp; Office SupportsubClassification: OtherOther</td>\n",
       "      <td>standard</td>\n",
       "    </tr>\n",
       "    <tr>\n",
       "      <th>60</th>\n",
       "      <td>Administrator</td>\n",
       "      <td>NaN</td>\n",
       "      <td>location: Bay of PlentyBay of Plentyarea: TaurangaTauranga</td>\n",
       "      <td>11d ago,at,Private Advertiser</td>\n",
       "      <td>classification: Administration &amp; Office SupportAdministration &amp; Office SupportsubClassification: Office ManagementOffice Management</td>\n",
       "      <td>standout</td>\n",
       "    </tr>\n",
       "    <tr>\n",
       "      <th>64</th>\n",
       "      <td>ADMINISTRATION SPECIALIST - CONSTRUCTION</td>\n",
       "      <td>NaN</td>\n",
       "      <td>location: AucklandAucklandarea: Rodney &amp; North ShoreRodney &amp; North Shore</td>\n",
       "      <td>5h ago,at,Private Advertiser</td>\n",
       "      <td>classification: Administration &amp; Office SupportAdministration &amp; Office SupportsubClassification: Administrative AssistantsAdministrative Assistants</td>\n",
       "      <td>standout</td>\n",
       "    </tr>\n",
       "    <tr>\n",
       "      <th>67</th>\n",
       "      <td>Administrator</td>\n",
       "      <td>NaN</td>\n",
       "      <td>location: Bay of PlentyBay of Plentyarea: TaurangaTauranga</td>\n",
       "      <td>Featured,at,Private Advertiser</td>\n",
       "      <td>classification: Administration &amp; Office SupportAdministration &amp; Office SupportsubClassification: Office ManagementOffice Management</td>\n",
       "      <td>promoted</td>\n",
       "    </tr>\n",
       "    <tr>\n",
       "      <th>71</th>\n",
       "      <td>Administrator</td>\n",
       "      <td>NaN</td>\n",
       "      <td>location: AucklandAucklandarea: Rodney &amp; North ShoreRodney &amp; North Shore</td>\n",
       "      <td>6d ago,at,Private Advertiser</td>\n",
       "      <td>classification: Administration &amp; Office SupportAdministration &amp; Office SupportsubClassification: OtherOther</td>\n",
       "      <td>standout</td>\n",
       "    </tr>\n",
       "    <tr>\n",
       "      <th>95</th>\n",
       "      <td>Export Admin Support</td>\n",
       "      <td>NaN</td>\n",
       "      <td>location: Hawkes BayHawkes Bayarea: HastingsHastings</td>\n",
       "      <td>11d ago,at,Private Advertiser</td>\n",
       "      <td>classification: Administration &amp; Office SupportAdministration &amp; Office SupportsubClassification: Administrative AssistantsAdministrative Assistants</td>\n",
       "      <td>standard</td>\n",
       "    </tr>\n",
       "    <tr>\n",
       "      <th>135</th>\n",
       "      <td>Executive Assistant</td>\n",
       "      <td>NaN</td>\n",
       "      <td>location: AucklandAucklandarea: Manukau &amp; East AucklandManukau &amp; East Auckland</td>\n",
       "      <td>5d ago,at,Private Advertiser</td>\n",
       "      <td>classification: Administration &amp; Office SupportAdministration &amp; Office SupportsubClassification: PA, EA &amp; SecretarialPA, EA &amp; Secretarial</td>\n",
       "      <td>standard</td>\n",
       "    </tr>\n",
       "    <tr>\n",
       "      <th>187</th>\n",
       "      <td>PERSONAL ASSISTANT - PART TIME</td>\n",
       "      <td>NaN</td>\n",
       "      <td>location: AucklandAucklandarea: Auckland CentralAuckland Central</td>\n",
       "      <td>10d ago,at,Private Advertiser</td>\n",
       "      <td>classification: Administration &amp; Office SupportAdministration &amp; Office SupportsubClassification: PA, EA &amp; SecretarialPA, EA &amp; Secretarial</td>\n",
       "      <td>standard</td>\n",
       "    </tr>\n",
       "    <tr>\n",
       "      <th>215</th>\n",
       "      <td>Time Target Rostering Administrator</td>\n",
       "      <td>NaN</td>\n",
       "      <td>location: WaikatoWaikatoarea: Rest of WaikatoRest of Waikato</td>\n",
       "      <td>12d ago,at,Private Advertiser</td>\n",
       "      <td>classification: Administration &amp; Office SupportAdministration &amp; Office SupportsubClassification: Data Entry &amp; Word ProcessingData Entry &amp; Word Processing</td>\n",
       "      <td>standout</td>\n",
       "    </tr>\n",
       "    <tr>\n",
       "      <th>297</th>\n",
       "      <td>Operations Coordinator - South Island</td>\n",
       "      <td>NaN</td>\n",
       "      <td>location: CanterburyCanterburyarea: ChristchurchChristchurch</td>\n",
       "      <td>7d ago,at,Private Advertiser</td>\n",
       "      <td>classification: Administration &amp; Office SupportAdministration &amp; Office SupportsubClassification: Administrative AssistantsAdministrative Assistants</td>\n",
       "      <td>standout</td>\n",
       "    </tr>\n",
       "    <tr>\n",
       "      <th>318</th>\n",
       "      <td>Customer Service /Sales/Admin</td>\n",
       "      <td>NaN</td>\n",
       "      <td>location: AucklandAucklandarea: Rodney &amp; North ShoreRodney &amp; North Shore,$40,000 - $49,999</td>\n",
       "      <td>14d ago,at,Private Advertiser</td>\n",
       "      <td>$40,000 - $49,999</td>\n",
       "      <td>standard</td>\n",
       "    </tr>\n",
       "    <tr>\n",
       "      <th>385</th>\n",
       "      <td>Client Liaison</td>\n",
       "      <td>NaN</td>\n",
       "      <td>location: TaranakiTaranakiarea: New PlymouthNew Plymouth</td>\n",
       "      <td>11d ago,at,Private Advertiser</td>\n",
       "      <td>classification: Administration &amp; Office SupportAdministration &amp; Office SupportsubClassification: Client &amp; Sales AdministrationClient &amp; Sales Administration</td>\n",
       "      <td>standout</td>\n",
       "    </tr>\n",
       "    <tr>\n",
       "      <th>412</th>\n",
       "      <td>Executive Business Coordinator Cadetship - Graduate Opportunity!</td>\n",
       "      <td>NaN</td>\n",
       "      <td>location: AucklandAucklandarea: Manukau &amp; East AucklandManukau &amp; East Auckland</td>\n",
       "      <td>4d ago,at,Private Advertiser</td>\n",
       "      <td>classification: Administration &amp; Office SupportAdministration &amp; Office SupportsubClassification: Administrative AssistantsAdministrative Assistants</td>\n",
       "      <td>standard</td>\n",
       "    </tr>\n",
       "    <tr>\n",
       "      <th>437</th>\n",
       "      <td>Receptionist / Office Assistant</td>\n",
       "      <td>NaN</td>\n",
       "      <td>location: AucklandAucklandarea: Auckland CentralAuckland Central</td>\n",
       "      <td>24d ago,at,Private Advertiser</td>\n",
       "      <td>classification: Administration &amp; Office SupportAdministration &amp; Office SupportsubClassification: Administrative AssistantsAdministrative Assistants</td>\n",
       "      <td>standout</td>\n",
       "    </tr>\n",
       "    <tr>\n",
       "      <th>446</th>\n",
       "      <td>Receptionist</td>\n",
       "      <td>NaN</td>\n",
       "      <td>location: WellingtonWellingtonarea: Hutt ValleyHutt Valley</td>\n",
       "      <td>22d ago,at,Private Advertiser</td>\n",
       "      <td>classification: Administration &amp; Office SupportAdministration &amp; Office SupportsubClassification: ReceptionistsReceptionists</td>\n",
       "      <td>standout</td>\n",
       "    </tr>\n",
       "    <tr>\n",
       "      <th>470</th>\n",
       "      <td>Personal Assistant / Accounts Administrator</td>\n",
       "      <td>NaN</td>\n",
       "      <td>location: Bay of PlentyBay of Plentyarea: RotoruaRotorua</td>\n",
       "      <td>13d ago,at,Private Advertiser</td>\n",
       "      <td>classification: Administration &amp; Office SupportAdministration &amp; Office SupportsubClassification: PA, EA &amp; SecretarialPA, EA &amp; Secretarial</td>\n",
       "      <td>standout</td>\n",
       "    </tr>\n",
       "    <tr>\n",
       "      <th>510</th>\n",
       "      <td>Customer Service</td>\n",
       "      <td>NaN</td>\n",
       "      <td>location: AucklandAucklandarea: Rodney &amp; North ShoreRodney &amp; North Shore</td>\n",
       "      <td>19d ago,at,Private Advertiser</td>\n",
       "      <td>classification: Administration &amp; Office SupportAdministration &amp; Office SupportsubClassification: Client &amp; Sales AdministrationClient &amp; Sales Administration</td>\n",
       "      <td>standout</td>\n",
       "    </tr>\n",
       "    <tr>\n",
       "      <th>560</th>\n",
       "      <td>Client Side Office Manager</td>\n",
       "      <td>NaN</td>\n",
       "      <td>location: AucklandAucklandarea: Auckland CentralAuckland Central,$40 - $45 per hour</td>\n",
       "      <td>19d ago,at,Private Advertiser</td>\n",
       "      <td>$40 - $45 per hour</td>\n",
       "      <td>standout</td>\n",
       "    </tr>\n",
       "    <tr>\n",
       "      <th>623</th>\n",
       "      <td>Personal Assistant</td>\n",
       "      <td>NaN</td>\n",
       "      <td>location: AucklandAucklandarea: Manukau &amp; East AucklandManukau &amp; East Auckland</td>\n",
       "      <td>28d ago,at,Private Advertiser</td>\n",
       "      <td>classification: Administration &amp; Office SupportAdministration &amp; Office SupportsubClassification: PA, EA &amp; SecretarialPA, EA &amp; Secretarial</td>\n",
       "      <td>standout</td>\n",
       "    </tr>\n",
       "    <tr>\n",
       "      <th>656</th>\n",
       "      <td>Card Fulfillment Officer</td>\n",
       "      <td>NaN</td>\n",
       "      <td>location: AucklandAucklandarea: Auckland CentralAuckland Central,$45,000 - $54,999</td>\n",
       "      <td>24d ago,at,Private Advertiser</td>\n",
       "      <td>$45,000 - $54,999</td>\n",
       "      <td>standard</td>\n",
       "    </tr>\n",
       "  </tbody>\n",
       "</table>\n",
       "</div>"
      ],
      "text/plain": [
       "                                                           occupation column2  \\\n",
       "0                                                       Administrator     NaN   \n",
       "4                                      Business Support Administrator     NaN   \n",
       "19                                                      Administrator     NaN   \n",
       "60                                                      Administrator     NaN   \n",
       "64                           ADMINISTRATION SPECIALIST - CONSTRUCTION     NaN   \n",
       "67                                                      Administrator     NaN   \n",
       "71                                                      Administrator     NaN   \n",
       "95                                               Export Admin Support     NaN   \n",
       "135                                               Executive Assistant     NaN   \n",
       "187                                    PERSONAL ASSISTANT - PART TIME     NaN   \n",
       "215                               Time Target Rostering Administrator     NaN   \n",
       "297                             Operations Coordinator - South Island     NaN   \n",
       "318                                     Customer Service /Sales/Admin     NaN   \n",
       "385                                                    Client Liaison     NaN   \n",
       "412  Executive Business Coordinator Cadetship - Graduate Opportunity!     NaN   \n",
       "437                                   Receptionist / Office Assistant     NaN   \n",
       "446                                                      Receptionist     NaN   \n",
       "470                       Personal Assistant / Accounts Administrator     NaN   \n",
       "510                                                  Customer Service     NaN   \n",
       "560                                        Client Side Office Manager     NaN   \n",
       "623                                                Personal Assistant     NaN   \n",
       "656                                          Card Fulfillment Officer     NaN   \n",
       "\n",
       "                                                                                        column3  \\\n",
       "0                                    location: Bay of PlentyBay of Plentyarea: TaurangaTauranga   \n",
       "4                                  location: CanterburyCanterburyarea: ChristchurchChristchurch   \n",
       "19                             location: ManawatuManawatuarea: Rest of ManawatuRest of Manawatu   \n",
       "60                                   location: Bay of PlentyBay of Plentyarea: TaurangaTauranga   \n",
       "64                     location: AucklandAucklandarea: Rodney & North ShoreRodney & North Shore   \n",
       "67                                   location: Bay of PlentyBay of Plentyarea: TaurangaTauranga   \n",
       "71                     location: AucklandAucklandarea: Rodney & North ShoreRodney & North Shore   \n",
       "95                                         location: Hawkes BayHawkes Bayarea: HastingsHastings   \n",
       "135              location: AucklandAucklandarea: Manukau & East AucklandManukau & East Auckland   \n",
       "187                            location: AucklandAucklandarea: Auckland CentralAuckland Central   \n",
       "215                                location: WaikatoWaikatoarea: Rest of WaikatoRest of Waikato   \n",
       "297                                location: CanterburyCanterburyarea: ChristchurchChristchurch   \n",
       "318  location: AucklandAucklandarea: Rodney & North ShoreRodney & North Shore,$40,000 - $49,999   \n",
       "385                                    location: TaranakiTaranakiarea: New PlymouthNew Plymouth   \n",
       "412              location: AucklandAucklandarea: Manukau & East AucklandManukau & East Auckland   \n",
       "437                            location: AucklandAucklandarea: Auckland CentralAuckland Central   \n",
       "446                                  location: WellingtonWellingtonarea: Hutt ValleyHutt Valley   \n",
       "470                                    location: Bay of PlentyBay of Plentyarea: RotoruaRotorua   \n",
       "510                    location: AucklandAucklandarea: Rodney & North ShoreRodney & North Shore   \n",
       "560         location: AucklandAucklandarea: Auckland CentralAuckland Central,$40 - $45 per hour   \n",
       "623              location: AucklandAucklandarea: Manukau & East AucklandManukau & East Auckland   \n",
       "656          location: AucklandAucklandarea: Auckland CentralAuckland Central,$45,000 - $54,999   \n",
       "\n",
       "                            column4  \\\n",
       "0    Featured,at,Private Advertiser   \n",
       "4      4d ago,at,Private Advertiser   \n",
       "19     7d ago,at,Private Advertiser   \n",
       "60    11d ago,at,Private Advertiser   \n",
       "64     5h ago,at,Private Advertiser   \n",
       "67   Featured,at,Private Advertiser   \n",
       "71     6d ago,at,Private Advertiser   \n",
       "95    11d ago,at,Private Advertiser   \n",
       "135    5d ago,at,Private Advertiser   \n",
       "187   10d ago,at,Private Advertiser   \n",
       "215   12d ago,at,Private Advertiser   \n",
       "297    7d ago,at,Private Advertiser   \n",
       "318   14d ago,at,Private Advertiser   \n",
       "385   11d ago,at,Private Advertiser   \n",
       "412    4d ago,at,Private Advertiser   \n",
       "437   24d ago,at,Private Advertiser   \n",
       "446   22d ago,at,Private Advertiser   \n",
       "470   13d ago,at,Private Advertiser   \n",
       "510   19d ago,at,Private Advertiser   \n",
       "560   19d ago,at,Private Advertiser   \n",
       "623   28d ago,at,Private Advertiser   \n",
       "656   24d ago,at,Private Advertiser   \n",
       "\n",
       "                                                                                                                                                         column5  \\\n",
       "0                            classification: Administration & Office SupportAdministration & Office SupportsubClassification: Office ManagementOffice Management   \n",
       "4    classification: Administration & Office SupportAdministration & Office SupportsubClassification: Client & Sales AdministrationClient & Sales Administration   \n",
       "19                                                   classification: Administration & Office SupportAdministration & Office SupportsubClassification: OtherOther   \n",
       "60                           classification: Administration & Office SupportAdministration & Office SupportsubClassification: Office ManagementOffice Management   \n",
       "64           classification: Administration & Office SupportAdministration & Office SupportsubClassification: Administrative AssistantsAdministrative Assistants   \n",
       "67                           classification: Administration & Office SupportAdministration & Office SupportsubClassification: Office ManagementOffice Management   \n",
       "71                                                   classification: Administration & Office SupportAdministration & Office SupportsubClassification: OtherOther   \n",
       "95           classification: Administration & Office SupportAdministration & Office SupportsubClassification: Administrative AssistantsAdministrative Assistants   \n",
       "135                    classification: Administration & Office SupportAdministration & Office SupportsubClassification: PA, EA & SecretarialPA, EA & Secretarial   \n",
       "187                    classification: Administration & Office SupportAdministration & Office SupportsubClassification: PA, EA & SecretarialPA, EA & Secretarial   \n",
       "215    classification: Administration & Office SupportAdministration & Office SupportsubClassification: Data Entry & Word ProcessingData Entry & Word Processing   \n",
       "297          classification: Administration & Office SupportAdministration & Office SupportsubClassification: Administrative AssistantsAdministrative Assistants   \n",
       "318                                                                                                                                            $40,000 - $49,999   \n",
       "385  classification: Administration & Office SupportAdministration & Office SupportsubClassification: Client & Sales AdministrationClient & Sales Administration   \n",
       "412          classification: Administration & Office SupportAdministration & Office SupportsubClassification: Administrative AssistantsAdministrative Assistants   \n",
       "437          classification: Administration & Office SupportAdministration & Office SupportsubClassification: Administrative AssistantsAdministrative Assistants   \n",
       "446                                  classification: Administration & Office SupportAdministration & Office SupportsubClassification: ReceptionistsReceptionists   \n",
       "470                    classification: Administration & Office SupportAdministration & Office SupportsubClassification: PA, EA & SecretarialPA, EA & Secretarial   \n",
       "510  classification: Administration & Office SupportAdministration & Office SupportsubClassification: Client & Sales AdministrationClient & Sales Administration   \n",
       "560                                                                                                                                           $40 - $45 per hour   \n",
       "623                    classification: Administration & Office SupportAdministration & Office SupportsubClassification: PA, EA & SecretarialPA, EA & Secretarial   \n",
       "656                                                                                                                                            $45,000 - $54,999   \n",
       "\n",
       "    job_advert_type  \n",
       "0          promoted  \n",
       "4          standout  \n",
       "19         standard  \n",
       "60         standout  \n",
       "64         standout  \n",
       "67         promoted  \n",
       "71         standout  \n",
       "95         standard  \n",
       "135        standard  \n",
       "187        standard  \n",
       "215        standout  \n",
       "297        standout  \n",
       "318        standard  \n",
       "385        standout  \n",
       "412        standard  \n",
       "437        standout  \n",
       "446        standout  \n",
       "470        standout  \n",
       "510        standout  \n",
       "560        standout  \n",
       "623        standout  \n",
       "656        standard  "
      ]
     },
     "execution_count": 77,
     "metadata": {},
     "output_type": "execute_result"
    }
   ],
   "source": [
    "# we noticed that all job vacancies with null value filled at column2 showing the feature \"Private Advertiser\"\n",
    "# at column4, which may state that these job adverts are posted by job hunting agencies.\n",
    "nz_admin_02[nz_admin_02['column2'].isnull()]"
   ]
  },
  {
   "cell_type": "code",
   "execution_count": 79,
   "metadata": {
    "hidden": true
   },
   "outputs": [],
   "source": [
    "nz_admin_02['column2'].fillna(value=\"Private Advertiser\", inplace=True)"
   ]
  },
  {
   "cell_type": "code",
   "execution_count": 81,
   "metadata": {
    "hidden": true
   },
   "outputs": [
    {
     "name": "stdout",
     "output_type": "stream",
     "text": [
      "<class 'pandas.core.frame.DataFrame'>\n",
      "RangeIndex: 2708 entries, 0 to 2707\n",
      "Data columns (total 6 columns):\n",
      " #   Column           Non-Null Count  Dtype \n",
      "---  ------           --------------  ----- \n",
      " 0   occupation       2708 non-null   object\n",
      " 1   column2          2708 non-null   object\n",
      " 2   column3          2708 non-null   object\n",
      " 3   column4          2708 non-null   object\n",
      " 4   column5          2708 non-null   object\n",
      " 5   job_advert_type  2708 non-null   object\n",
      "dtypes: object(6)\n",
      "memory usage: 127.1+ KB\n"
     ]
    }
   ],
   "source": [
    "nz_admin_02.info()"
   ]
  },
  {
   "cell_type": "code",
   "execution_count": 82,
   "metadata": {
    "hidden": true
   },
   "outputs": [],
   "source": [
    "nz_admin_02.rename({'column2': 'Company Name'}, axis=1, inplace=True)"
   ]
  },
  {
   "cell_type": "code",
   "execution_count": 83,
   "metadata": {
    "hidden": true
   },
   "outputs": [
    {
     "data": {
      "text/html": [
       "<div>\n",
       "<style scoped>\n",
       "    .dataframe tbody tr th:only-of-type {\n",
       "        vertical-align: middle;\n",
       "    }\n",
       "\n",
       "    .dataframe tbody tr th {\n",
       "        vertical-align: top;\n",
       "    }\n",
       "\n",
       "    .dataframe thead th {\n",
       "        text-align: right;\n",
       "    }\n",
       "</style>\n",
       "<table border=\"1\" class=\"dataframe\">\n",
       "  <thead>\n",
       "    <tr style=\"text-align: right;\">\n",
       "      <th></th>\n",
       "      <th>occupation</th>\n",
       "      <th>Company Name</th>\n",
       "      <th>column3</th>\n",
       "      <th>column4</th>\n",
       "      <th>column5</th>\n",
       "      <th>job_advert_type</th>\n",
       "    </tr>\n",
       "  </thead>\n",
       "  <tbody>\n",
       "    <tr>\n",
       "      <th>0</th>\n",
       "      <td>Administrator</td>\n",
       "      <td>Private Advertiser</td>\n",
       "      <td>location: Bay of PlentyBay of Plentyarea: TaurangaTauranga</td>\n",
       "      <td>Featured,at,Private Advertiser</td>\n",
       "      <td>classification: Administration &amp; Office SupportAdministration &amp; Office SupportsubClassification: Office ManagementOffice Management</td>\n",
       "      <td>promoted</td>\n",
       "    </tr>\n",
       "    <tr>\n",
       "      <th>1</th>\n",
       "      <td>Receptionist</td>\n",
       "      <td>Avenues Orthodontics</td>\n",
       "      <td>location: Bay of PlentyBay of Plentyarea: TaurangaTauranga</td>\n",
       "      <td>Featured,at</td>\n",
       "      <td>classification: Administration &amp; Office SupportAdministration &amp; Office SupportsubClassification: ReceptionistsReceptionists</td>\n",
       "      <td>promoted</td>\n",
       "    </tr>\n",
       "    <tr>\n",
       "      <th>2</th>\n",
       "      <td>Prosecutions Support Officer</td>\n",
       "      <td>New Zealand Police</td>\n",
       "      <td>location: AucklandAuckland</td>\n",
       "      <td>4d ago,at</td>\n",
       "      <td>classification: Administration &amp; Office SupportAdministration &amp; Office SupportsubClassification: OtherOther</td>\n",
       "      <td>standard</td>\n",
       "    </tr>\n",
       "    <tr>\n",
       "      <th>3</th>\n",
       "      <td>Early Childhood Centre Administrator</td>\n",
       "      <td>Kew Pacific Island Early Learning Centre</td>\n",
       "      <td>location: SouthlandSouthlandarea: InvercargillInvercargill</td>\n",
       "      <td>1h ago,at</td>\n",
       "      <td>classification: Administration &amp; Office SupportAdministration &amp; Office SupportsubClassification: Administrative AssistantsAdministrative Assistants</td>\n",
       "      <td>standard</td>\n",
       "    </tr>\n",
       "    <tr>\n",
       "      <th>4</th>\n",
       "      <td>Business Support Administrator</td>\n",
       "      <td>Private Advertiser</td>\n",
       "      <td>location: CanterburyCanterburyarea: ChristchurchChristchurch</td>\n",
       "      <td>4d ago,at,Private Advertiser</td>\n",
       "      <td>classification: Administration &amp; Office SupportAdministration &amp; Office SupportsubClassification: Client &amp; Sales AdministrationClient &amp; Sales Administration</td>\n",
       "      <td>standout</td>\n",
       "    </tr>\n",
       "  </tbody>\n",
       "</table>\n",
       "</div>"
      ],
      "text/plain": [
       "                             occupation  \\\n",
       "0                         Administrator   \n",
       "1                          Receptionist   \n",
       "2          Prosecutions Support Officer   \n",
       "3  Early Childhood Centre Administrator   \n",
       "4        Business Support Administrator   \n",
       "\n",
       "                               Company Name  \\\n",
       "0                        Private Advertiser   \n",
       "1                      Avenues Orthodontics   \n",
       "2                        New Zealand Police   \n",
       "3  Kew Pacific Island Early Learning Centre   \n",
       "4                        Private Advertiser   \n",
       "\n",
       "                                                        column3  \\\n",
       "0    location: Bay of PlentyBay of Plentyarea: TaurangaTauranga   \n",
       "1    location: Bay of PlentyBay of Plentyarea: TaurangaTauranga   \n",
       "2                                    location: AucklandAuckland   \n",
       "3    location: SouthlandSouthlandarea: InvercargillInvercargill   \n",
       "4  location: CanterburyCanterburyarea: ChristchurchChristchurch   \n",
       "\n",
       "                          column4  \\\n",
       "0  Featured,at,Private Advertiser   \n",
       "1                     Featured,at   \n",
       "2                       4d ago,at   \n",
       "3                       1h ago,at   \n",
       "4    4d ago,at,Private Advertiser   \n",
       "\n",
       "                                                                                                                                                       column5  \\\n",
       "0                          classification: Administration & Office SupportAdministration & Office SupportsubClassification: Office ManagementOffice Management   \n",
       "1                                  classification: Administration & Office SupportAdministration & Office SupportsubClassification: ReceptionistsReceptionists   \n",
       "2                                                  classification: Administration & Office SupportAdministration & Office SupportsubClassification: OtherOther   \n",
       "3          classification: Administration & Office SupportAdministration & Office SupportsubClassification: Administrative AssistantsAdministrative Assistants   \n",
       "4  classification: Administration & Office SupportAdministration & Office SupportsubClassification: Client & Sales AdministrationClient & Sales Administration   \n",
       "\n",
       "  job_advert_type  \n",
       "0        promoted  \n",
       "1        promoted  \n",
       "2        standard  \n",
       "3        standard  \n",
       "4        standout  "
      ]
     },
     "execution_count": 83,
     "metadata": {},
     "output_type": "execute_result"
    }
   ],
   "source": [
    "nz_admin_02.head()"
   ]
  },
  {
   "cell_type": "code",
   "execution_count": null,
   "metadata": {
    "hidden": true
   },
   "outputs": [],
   "source": []
  },
  {
   "cell_type": "markdown",
   "metadata": {
    "heading_collapsed": true
   },
   "source": [
    "## Column3 - Company location (Area) / Company location (suburb) / Salary (Benefit)"
   ]
  },
  {
   "cell_type": "code",
   "execution_count": 84,
   "metadata": {
    "hidden": true
   },
   "outputs": [
    {
     "data": {
      "text/plain": [
       "0                  location: Bay of PlentyBay of Plentyarea: TaurangaTauranga\n",
       "1                  location: Bay of PlentyBay of Plentyarea: TaurangaTauranga\n",
       "2                                                  location: AucklandAuckland\n",
       "3                  location: SouthlandSouthlandarea: InvercargillInvercargill\n",
       "4                location: CanterburyCanterburyarea: ChristchurchChristchurch\n",
       "5                        location: NorthlandNorthlandarea: WhangareiWhangarei\n",
       "6    location: WellingtonWellingtonarea: Wellington CentralWellington Central\n",
       "7                    location: Bay of PlentyBay of Plentyarea: RotoruaRotorua\n",
       "8                  location: Bay of PlentyBay of Plentyarea: TaurangaTauranga\n",
       "9                                              location: CanterburyCanterbury\n",
       "Name: column3, dtype: object"
      ]
     },
     "execution_count": 84,
     "metadata": {},
     "output_type": "execute_result"
    }
   ],
   "source": [
    "# the column \"字段3\" presents the corporate address of each company. Many characters are all linked together.\n",
    "# In addition, all suburbs duplicates. \n",
    "nz_admin_02['column3'].head(10)"
   ]
  },
  {
   "cell_type": "code",
   "execution_count": 182,
   "metadata": {
    "hidden": true
   },
   "outputs": [
    {
     "name": "stdout",
     "output_type": "stream",
     "text": [
      "['location', 'Bay of PlentyBay of Plentyarea', 'TaurangaTauranga']\n",
      "Bay of PlentyBay of Plentyarea\n",
      "['Bay of ', 'Plenty', 'Bay of ', 'Plentyarea']\n",
      "Bay of Plenty\n"
     ]
    }
   ],
   "source": [
    "### Demonstration of steps to create Python function \"address_are\":\n",
    "# print([x.strip() for x in nz_admin_02['字段3'].iloc[0].split(\":\")])\n",
    "# print([x.strip() for x in nz_admin_02['字段3'].iloc[0].split(\":\")][1])\n",
    "# aaa = re.findall('[A-Z][^A-Z]*', [x.strip() for x in nz_admin_02['字段3'].iloc[0].split(\":\")][1])\n",
    "# print(aaa)\n",
    "# bbb = \"\"\n",
    "# for i in range(len(aaa)//2):\n",
    "#     bbb += aaa[i]\n",
    "# print(bbb)"
   ]
  },
  {
   "cell_type": "code",
   "execution_count": null,
   "metadata": {
    "hidden": true
   },
   "outputs": [],
   "source": []
  },
  {
   "cell_type": "code",
   "execution_count": null,
   "metadata": {
    "hidden": true
   },
   "outputs": [],
   "source": []
  },
  {
   "cell_type": "code",
   "execution_count": null,
   "metadata": {
    "hidden": true
   },
   "outputs": [],
   "source": []
  },
  {
   "cell_type": "code",
   "execution_count": 85,
   "metadata": {
    "hidden": true
   },
   "outputs": [],
   "source": [
    "def address_area(address):\n",
    "    lst_address = [x.strip() for x in address.split(\":\")][1]\n",
    "    lst_area = re.findall('[A-Z][^A-Z]*', lst_address)\n",
    "    area = \"\"\n",
    "    for i in range(len(lst_area)//2):\n",
    "        area += lst_area[i]\n",
    "    return area"
   ]
  },
  {
   "cell_type": "code",
   "execution_count": 86,
   "metadata": {
    "hidden": true
   },
   "outputs": [],
   "source": [
    "nz_admin_03 = nz_admin_02.copy()"
   ]
  },
  {
   "cell_type": "code",
   "execution_count": 87,
   "metadata": {
    "hidden": true
   },
   "outputs": [],
   "source": [
    "nz_admin_03['Company location (Area)'] = nz_admin_03['column3'].apply(lambda row: address_area(row))"
   ]
  },
  {
   "cell_type": "code",
   "execution_count": 88,
   "metadata": {
    "hidden": true
   },
   "outputs": [],
   "source": [
    "def address_suburb(address):\n",
    "    lst_address = [x.strip() for x in address.split(\":\")]\n",
    "    if len(lst_address) == 3:\n",
    "        lst_suburb = re.findall('[A-Z][^A-Z]*', lst_address[2])\n",
    "        suburb = \"\"\n",
    "        for i in range(len(lst_suburb)//2):\n",
    "            suburb += lst_suburb[i]\n",
    "        return suburb\n",
    "#     else:\n",
    "#         return 0"
   ]
  },
  {
   "cell_type": "code",
   "execution_count": 89,
   "metadata": {
    "hidden": true
   },
   "outputs": [],
   "source": [
    "nz_admin_03['Company location (suburb)'] = nz_admin_03['column3'].apply(lambda row: address_suburb(row))"
   ]
  },
  {
   "cell_type": "code",
   "execution_count": 90,
   "metadata": {
    "hidden": true
   },
   "outputs": [],
   "source": [
    "nz_admin_04 = nz_admin_03.copy()"
   ]
  },
  {
   "cell_type": "code",
   "execution_count": 268,
   "metadata": {
    "hidden": true
   },
   "outputs": [],
   "source": [
    "# nz_admin_04.drop('字段3', axis=1, inplace=True)"
   ]
  },
  {
   "cell_type": "code",
   "execution_count": 91,
   "metadata": {
    "hidden": true
   },
   "outputs": [
    {
     "data": {
      "text/html": [
       "<div>\n",
       "<style scoped>\n",
       "    .dataframe tbody tr th:only-of-type {\n",
       "        vertical-align: middle;\n",
       "    }\n",
       "\n",
       "    .dataframe tbody tr th {\n",
       "        vertical-align: top;\n",
       "    }\n",
       "\n",
       "    .dataframe thead th {\n",
       "        text-align: right;\n",
       "    }\n",
       "</style>\n",
       "<table border=\"1\" class=\"dataframe\">\n",
       "  <thead>\n",
       "    <tr style=\"text-align: right;\">\n",
       "      <th></th>\n",
       "      <th>occupation</th>\n",
       "      <th>Company Name</th>\n",
       "      <th>column3</th>\n",
       "      <th>column4</th>\n",
       "      <th>column5</th>\n",
       "      <th>job_advert_type</th>\n",
       "      <th>Company location (Area)</th>\n",
       "      <th>Company location (suburb)</th>\n",
       "    </tr>\n",
       "  </thead>\n",
       "  <tbody>\n",
       "    <tr>\n",
       "      <th>0</th>\n",
       "      <td>Administrator</td>\n",
       "      <td>Private Advertiser</td>\n",
       "      <td>location: Bay of PlentyBay of Plentyarea: TaurangaTauranga</td>\n",
       "      <td>Featured,at,Private Advertiser</td>\n",
       "      <td>classification: Administration &amp; Office SupportAdministration &amp; Office SupportsubClassification: Office ManagementOffice Management</td>\n",
       "      <td>promoted</td>\n",
       "      <td>Bay of Plenty</td>\n",
       "      <td>Tauranga</td>\n",
       "    </tr>\n",
       "    <tr>\n",
       "      <th>1</th>\n",
       "      <td>Receptionist</td>\n",
       "      <td>Avenues Orthodontics</td>\n",
       "      <td>location: Bay of PlentyBay of Plentyarea: TaurangaTauranga</td>\n",
       "      <td>Featured,at</td>\n",
       "      <td>classification: Administration &amp; Office SupportAdministration &amp; Office SupportsubClassification: ReceptionistsReceptionists</td>\n",
       "      <td>promoted</td>\n",
       "      <td>Bay of Plenty</td>\n",
       "      <td>Tauranga</td>\n",
       "    </tr>\n",
       "    <tr>\n",
       "      <th>2</th>\n",
       "      <td>Prosecutions Support Officer</td>\n",
       "      <td>New Zealand Police</td>\n",
       "      <td>location: AucklandAuckland</td>\n",
       "      <td>4d ago,at</td>\n",
       "      <td>classification: Administration &amp; Office SupportAdministration &amp; Office SupportsubClassification: OtherOther</td>\n",
       "      <td>standard</td>\n",
       "      <td>Auckland</td>\n",
       "      <td>None</td>\n",
       "    </tr>\n",
       "    <tr>\n",
       "      <th>3</th>\n",
       "      <td>Early Childhood Centre Administrator</td>\n",
       "      <td>Kew Pacific Island Early Learning Centre</td>\n",
       "      <td>location: SouthlandSouthlandarea: InvercargillInvercargill</td>\n",
       "      <td>1h ago,at</td>\n",
       "      <td>classification: Administration &amp; Office SupportAdministration &amp; Office SupportsubClassification: Administrative AssistantsAdministrative Assistants</td>\n",
       "      <td>standard</td>\n",
       "      <td>Southland</td>\n",
       "      <td>Invercargill</td>\n",
       "    </tr>\n",
       "    <tr>\n",
       "      <th>4</th>\n",
       "      <td>Business Support Administrator</td>\n",
       "      <td>Private Advertiser</td>\n",
       "      <td>location: CanterburyCanterburyarea: ChristchurchChristchurch</td>\n",
       "      <td>4d ago,at,Private Advertiser</td>\n",
       "      <td>classification: Administration &amp; Office SupportAdministration &amp; Office SupportsubClassification: Client &amp; Sales AdministrationClient &amp; Sales Administration</td>\n",
       "      <td>standout</td>\n",
       "      <td>Canterbury</td>\n",
       "      <td>Christchurch</td>\n",
       "    </tr>\n",
       "  </tbody>\n",
       "</table>\n",
       "</div>"
      ],
      "text/plain": [
       "                             occupation  \\\n",
       "0                         Administrator   \n",
       "1                          Receptionist   \n",
       "2          Prosecutions Support Officer   \n",
       "3  Early Childhood Centre Administrator   \n",
       "4        Business Support Administrator   \n",
       "\n",
       "                               Company Name  \\\n",
       "0                        Private Advertiser   \n",
       "1                      Avenues Orthodontics   \n",
       "2                        New Zealand Police   \n",
       "3  Kew Pacific Island Early Learning Centre   \n",
       "4                        Private Advertiser   \n",
       "\n",
       "                                                        column3  \\\n",
       "0    location: Bay of PlentyBay of Plentyarea: TaurangaTauranga   \n",
       "1    location: Bay of PlentyBay of Plentyarea: TaurangaTauranga   \n",
       "2                                    location: AucklandAuckland   \n",
       "3    location: SouthlandSouthlandarea: InvercargillInvercargill   \n",
       "4  location: CanterburyCanterburyarea: ChristchurchChristchurch   \n",
       "\n",
       "                          column4  \\\n",
       "0  Featured,at,Private Advertiser   \n",
       "1                     Featured,at   \n",
       "2                       4d ago,at   \n",
       "3                       1h ago,at   \n",
       "4    4d ago,at,Private Advertiser   \n",
       "\n",
       "                                                                                                                                                       column5  \\\n",
       "0                          classification: Administration & Office SupportAdministration & Office SupportsubClassification: Office ManagementOffice Management   \n",
       "1                                  classification: Administration & Office SupportAdministration & Office SupportsubClassification: ReceptionistsReceptionists   \n",
       "2                                                  classification: Administration & Office SupportAdministration & Office SupportsubClassification: OtherOther   \n",
       "3          classification: Administration & Office SupportAdministration & Office SupportsubClassification: Administrative AssistantsAdministrative Assistants   \n",
       "4  classification: Administration & Office SupportAdministration & Office SupportsubClassification: Client & Sales AdministrationClient & Sales Administration   \n",
       "\n",
       "  job_advert_type Company location (Area) Company location (suburb)  \n",
       "0        promoted           Bay of Plenty                  Tauranga  \n",
       "1        promoted           Bay of Plenty                  Tauranga  \n",
       "2        standard                Auckland                      None  \n",
       "3        standard               Southland              Invercargill  \n",
       "4        standout              Canterbury              Christchurch  "
      ]
     },
     "execution_count": 91,
     "metadata": {},
     "output_type": "execute_result"
    }
   ],
   "source": [
    "nz_admin_04.head()"
   ]
  },
  {
   "cell_type": "code",
   "execution_count": null,
   "metadata": {
    "hidden": true
   },
   "outputs": [],
   "source": []
  },
  {
   "cell_type": "code",
   "execution_count": 96,
   "metadata": {
    "hidden": true
   },
   "outputs": [
    {
     "name": "stdout",
     "output_type": "stream",
     "text": [
      "$20 - $24.99 per hour\n",
      "$40,000 - $49,999\n",
      "Includes life and health insurance\n"
     ]
    }
   ],
   "source": [
    "# There are three types of formats to present employee benefits including annual salary, hourly rate and insurance\n",
    "print(nz_admin_04['column3'].iloc[17].split(',', 1)[1])\n",
    "print(nz_admin_04['column3'].iloc[42].split(',', 1)[1])\n",
    "print(nz_admin_04['column3'].iloc[57].split(',', 1)[1])"
   ]
  },
  {
   "cell_type": "code",
   "execution_count": 97,
   "metadata": {
    "hidden": true
   },
   "outputs": [],
   "source": [
    "def address_benefit(address):\n",
    "#     lst_address = [x.strip() for x in address.split(\":\")]\n",
    "#     if len(lst_address) == 3:\n",
    "    benefit = address.split(',', 1)\n",
    "    if len(benefit)>1:\n",
    "        return benefit[1]"
   ]
  },
  {
   "cell_type": "code",
   "execution_count": 98,
   "metadata": {
    "hidden": true
   },
   "outputs": [],
   "source": [
    "nz_admin_04['Salary($)(Benefit)'] = nz_admin_04['column3'].apply(lambda row: address_benefit(row))"
   ]
  },
  {
   "cell_type": "code",
   "execution_count": 99,
   "metadata": {
    "hidden": true
   },
   "outputs": [],
   "source": [
    "nz_admin_05 = nz_admin_04.copy()"
   ]
  },
  {
   "cell_type": "code",
   "execution_count": 100,
   "metadata": {
    "hidden": true
   },
   "outputs": [],
   "source": [
    "nz_admin_05.drop('column3', axis=1, inplace=True)"
   ]
  },
  {
   "cell_type": "code",
   "execution_count": 102,
   "metadata": {
    "hidden": true
   },
   "outputs": [
    {
     "name": "stdout",
     "output_type": "stream",
     "text": [
      "<class 'pandas.core.frame.DataFrame'>\n",
      "RangeIndex: 2708 entries, 0 to 2707\n",
      "Data columns (total 8 columns):\n",
      " #   Column                     Non-Null Count  Dtype \n",
      "---  ------                     --------------  ----- \n",
      " 0   occupation                 2708 non-null   object\n",
      " 1   Company Name               2708 non-null   object\n",
      " 2   column4                    2708 non-null   object\n",
      " 3   column5                    2708 non-null   object\n",
      " 4   job_advert_type            2708 non-null   object\n",
      " 5   Company location (Area)    2708 non-null   object\n",
      " 6   Company location (suburb)  2167 non-null   object\n",
      " 7   Salary($)(Benefit)         603 non-null    object\n",
      "dtypes: object(8)\n",
      "memory usage: 169.4+ KB\n"
     ]
    }
   ],
   "source": [
    "# The column \"Salary and benefits\" contains the majority of missing values.\n",
    "nz_admin_05.info()"
   ]
  },
  {
   "cell_type": "code",
   "execution_count": 103,
   "metadata": {
    "hidden": true
   },
   "outputs": [
    {
     "data": {
      "text/html": [
       "<div>\n",
       "<style scoped>\n",
       "    .dataframe tbody tr th:only-of-type {\n",
       "        vertical-align: middle;\n",
       "    }\n",
       "\n",
       "    .dataframe tbody tr th {\n",
       "        vertical-align: top;\n",
       "    }\n",
       "\n",
       "    .dataframe thead th {\n",
       "        text-align: right;\n",
       "    }\n",
       "</style>\n",
       "<table border=\"1\" class=\"dataframe\">\n",
       "  <thead>\n",
       "    <tr style=\"text-align: right;\">\n",
       "      <th></th>\n",
       "      <th>occupation</th>\n",
       "      <th>Company Name</th>\n",
       "      <th>column4</th>\n",
       "      <th>column5</th>\n",
       "      <th>job_advert_type</th>\n",
       "      <th>Company location (Area)</th>\n",
       "      <th>Company location (suburb)</th>\n",
       "      <th>Salary($)(Benefit)</th>\n",
       "    </tr>\n",
       "  </thead>\n",
       "  <tbody>\n",
       "    <tr>\n",
       "      <th>0</th>\n",
       "      <td>Administrator</td>\n",
       "      <td>Private Advertiser</td>\n",
       "      <td>Featured,at,Private Advertiser</td>\n",
       "      <td>classification: Administration &amp; Office SupportAdministration &amp; Office SupportsubClassification: Office ManagementOffice Management</td>\n",
       "      <td>promoted</td>\n",
       "      <td>Bay of Plenty</td>\n",
       "      <td>Tauranga</td>\n",
       "      <td>None</td>\n",
       "    </tr>\n",
       "    <tr>\n",
       "      <th>1</th>\n",
       "      <td>Receptionist</td>\n",
       "      <td>Avenues Orthodontics</td>\n",
       "      <td>Featured,at</td>\n",
       "      <td>classification: Administration &amp; Office SupportAdministration &amp; Office SupportsubClassification: ReceptionistsReceptionists</td>\n",
       "      <td>promoted</td>\n",
       "      <td>Bay of Plenty</td>\n",
       "      <td>Tauranga</td>\n",
       "      <td>None</td>\n",
       "    </tr>\n",
       "    <tr>\n",
       "      <th>2</th>\n",
       "      <td>Prosecutions Support Officer</td>\n",
       "      <td>New Zealand Police</td>\n",
       "      <td>4d ago,at</td>\n",
       "      <td>classification: Administration &amp; Office SupportAdministration &amp; Office SupportsubClassification: OtherOther</td>\n",
       "      <td>standard</td>\n",
       "      <td>Auckland</td>\n",
       "      <td>None</td>\n",
       "      <td>None</td>\n",
       "    </tr>\n",
       "    <tr>\n",
       "      <th>3</th>\n",
       "      <td>Early Childhood Centre Administrator</td>\n",
       "      <td>Kew Pacific Island Early Learning Centre</td>\n",
       "      <td>1h ago,at</td>\n",
       "      <td>classification: Administration &amp; Office SupportAdministration &amp; Office SupportsubClassification: Administrative AssistantsAdministrative Assistants</td>\n",
       "      <td>standard</td>\n",
       "      <td>Southland</td>\n",
       "      <td>Invercargill</td>\n",
       "      <td>None</td>\n",
       "    </tr>\n",
       "    <tr>\n",
       "      <th>4</th>\n",
       "      <td>Business Support Administrator</td>\n",
       "      <td>Private Advertiser</td>\n",
       "      <td>4d ago,at,Private Advertiser</td>\n",
       "      <td>classification: Administration &amp; Office SupportAdministration &amp; Office SupportsubClassification: Client &amp; Sales AdministrationClient &amp; Sales Administration</td>\n",
       "      <td>standout</td>\n",
       "      <td>Canterbury</td>\n",
       "      <td>Christchurch</td>\n",
       "      <td>None</td>\n",
       "    </tr>\n",
       "    <tr>\n",
       "      <th>...</th>\n",
       "      <td>...</td>\n",
       "      <td>...</td>\n",
       "      <td>...</td>\n",
       "      <td>...</td>\n",
       "      <td>...</td>\n",
       "      <td>...</td>\n",
       "      <td>...</td>\n",
       "      <td>...</td>\n",
       "    </tr>\n",
       "    <tr>\n",
       "      <th>153</th>\n",
       "      <td>Executive Assistant/ Support Co-ordinator</td>\n",
       "      <td>Sime Darby Motors Group</td>\n",
       "      <td>6d ago,at</td>\n",
       "      <td>classification: Administration &amp; Office SupportAdministration &amp; Office SupportsubClassification: PA, EA &amp; SecretarialPA, EA &amp; Secretarial</td>\n",
       "      <td>standout</td>\n",
       "      <td>Auckland</td>\n",
       "      <td>Manukau &amp; East Auckland</td>\n",
       "      <td>None</td>\n",
       "    </tr>\n",
       "    <tr>\n",
       "      <th>154</th>\n",
       "      <td>Customer Service Officer</td>\n",
       "      <td>CM Trailer Parts</td>\n",
       "      <td>Featured,at</td>\n",
       "      <td>classification: Administration &amp; Office SupportAdministration &amp; Office SupportsubClassification: Client &amp; Sales AdministrationClient &amp; Sales Administration</td>\n",
       "      <td>promoted</td>\n",
       "      <td>Canterbury</td>\n",
       "      <td>Timaru &amp; South Canterbury</td>\n",
       "      <td>None</td>\n",
       "    </tr>\n",
       "    <tr>\n",
       "      <th>155</th>\n",
       "      <td>Business Support Administrator</td>\n",
       "      <td>S&amp;L Land Development and Design Specialists</td>\n",
       "      <td>Featured,at</td>\n",
       "      <td>classification: Administration &amp; Office SupportAdministration &amp; Office SupportsubClassification: Administrative AssistantsAdministrative Assistants</td>\n",
       "      <td>promoted</td>\n",
       "      <td>Bay of Plenty</td>\n",
       "      <td>Tauranga</td>\n",
       "      <td>None</td>\n",
       "    </tr>\n",
       "    <tr>\n",
       "      <th>156</th>\n",
       "      <td>Branch and Events Administrator</td>\n",
       "      <td>Momentum Consulting Group</td>\n",
       "      <td>7d ago,at</td>\n",
       "      <td>Up to $27ph</td>\n",
       "      <td>standout</td>\n",
       "      <td>Manawatu</td>\n",
       "      <td>Palmerston North</td>\n",
       "      <td>Up to $27ph</td>\n",
       "    </tr>\n",
       "    <tr>\n",
       "      <th>157</th>\n",
       "      <td>Office Administrator</td>\n",
       "      <td>Lewis Plumbing Co</td>\n",
       "      <td>13d ago,at</td>\n",
       "      <td>classification: Administration &amp; Office SupportAdministration &amp; Office SupportsubClassification: Administrative AssistantsAdministrative Assistants</td>\n",
       "      <td>standard</td>\n",
       "      <td>Bay of Plenty</td>\n",
       "      <td>Rotorua</td>\n",
       "      <td>None</td>\n",
       "    </tr>\n",
       "  </tbody>\n",
       "</table>\n",
       "<p>158 rows × 8 columns</p>\n",
       "</div>"
      ],
      "text/plain": [
       "                                    occupation  \\\n",
       "0                                Administrator   \n",
       "1                                 Receptionist   \n",
       "2                 Prosecutions Support Officer   \n",
       "3         Early Childhood Centre Administrator   \n",
       "4               Business Support Administrator   \n",
       "..                                         ...   \n",
       "153  Executive Assistant/ Support Co-ordinator   \n",
       "154                   Customer Service Officer   \n",
       "155             Business Support Administrator   \n",
       "156            Branch and Events Administrator   \n",
       "157                       Office Administrator   \n",
       "\n",
       "                                    Company Name  \\\n",
       "0                             Private Advertiser   \n",
       "1                           Avenues Orthodontics   \n",
       "2                             New Zealand Police   \n",
       "3       Kew Pacific Island Early Learning Centre   \n",
       "4                             Private Advertiser   \n",
       "..                                           ...   \n",
       "153                      Sime Darby Motors Group   \n",
       "154                             CM Trailer Parts   \n",
       "155  S&L Land Development and Design Specialists   \n",
       "156                    Momentum Consulting Group   \n",
       "157                            Lewis Plumbing Co   \n",
       "\n",
       "                            column4  \\\n",
       "0    Featured,at,Private Advertiser   \n",
       "1                       Featured,at   \n",
       "2                         4d ago,at   \n",
       "3                         1h ago,at   \n",
       "4      4d ago,at,Private Advertiser   \n",
       "..                              ...   \n",
       "153                       6d ago,at   \n",
       "154                     Featured,at   \n",
       "155                     Featured,at   \n",
       "156                       7d ago,at   \n",
       "157                      13d ago,at   \n",
       "\n",
       "                                                                                                                                                         column5  \\\n",
       "0                            classification: Administration & Office SupportAdministration & Office SupportsubClassification: Office ManagementOffice Management   \n",
       "1                                    classification: Administration & Office SupportAdministration & Office SupportsubClassification: ReceptionistsReceptionists   \n",
       "2                                                    classification: Administration & Office SupportAdministration & Office SupportsubClassification: OtherOther   \n",
       "3            classification: Administration & Office SupportAdministration & Office SupportsubClassification: Administrative AssistantsAdministrative Assistants   \n",
       "4    classification: Administration & Office SupportAdministration & Office SupportsubClassification: Client & Sales AdministrationClient & Sales Administration   \n",
       "..                                                                                                                                                           ...   \n",
       "153                    classification: Administration & Office SupportAdministration & Office SupportsubClassification: PA, EA & SecretarialPA, EA & Secretarial   \n",
       "154  classification: Administration & Office SupportAdministration & Office SupportsubClassification: Client & Sales AdministrationClient & Sales Administration   \n",
       "155          classification: Administration & Office SupportAdministration & Office SupportsubClassification: Administrative AssistantsAdministrative Assistants   \n",
       "156                                                                                                                                                  Up to $27ph   \n",
       "157          classification: Administration & Office SupportAdministration & Office SupportsubClassification: Administrative AssistantsAdministrative Assistants   \n",
       "\n",
       "    job_advert_type Company location (Area)  Company location (suburb)  \\\n",
       "0          promoted           Bay of Plenty                   Tauranga   \n",
       "1          promoted           Bay of Plenty                   Tauranga   \n",
       "2          standard                Auckland                       None   \n",
       "3          standard               Southland               Invercargill   \n",
       "4          standout              Canterbury               Christchurch   \n",
       "..              ...                     ...                        ...   \n",
       "153        standout                Auckland    Manukau & East Auckland   \n",
       "154        promoted              Canterbury  Timaru & South Canterbury   \n",
       "155        promoted           Bay of Plenty                   Tauranga   \n",
       "156        standout                Manawatu           Palmerston North   \n",
       "157        standard           Bay of Plenty                    Rotorua   \n",
       "\n",
       "    Salary($)(Benefit)  \n",
       "0                 None  \n",
       "1                 None  \n",
       "2                 None  \n",
       "3                 None  \n",
       "4                 None  \n",
       "..                 ...  \n",
       "153               None  \n",
       "154               None  \n",
       "155               None  \n",
       "156        Up to $27ph  \n",
       "157               None  \n",
       "\n",
       "[158 rows x 8 columns]"
      ]
     },
     "execution_count": 103,
     "metadata": {},
     "output_type": "execute_result"
    }
   ],
   "source": [
    "nz_admin_05.head(158)"
   ]
  },
  {
   "cell_type": "code",
   "execution_count": null,
   "metadata": {
    "hidden": true
   },
   "outputs": [],
   "source": []
  },
  {
   "cell_type": "markdown",
   "metadata": {
    "heading_collapsed": true
   },
   "source": [
    "## Column4 - Job_Posted(days ago)"
   ]
  },
  {
   "cell_type": "code",
   "execution_count": 106,
   "metadata": {
    "hidden": true
   },
   "outputs": [
    {
     "data": {
      "text/plain": [
       "'Featured,at'"
      ]
     },
     "execution_count": 106,
     "metadata": {},
     "output_type": "execute_result"
    }
   ],
   "source": [
    "nz_admin_05['column4'].iloc[154]"
   ]
  },
  {
   "cell_type": "code",
   "execution_count": 108,
   "metadata": {
    "hidden": true
   },
   "outputs": [
    {
     "data": {
      "text/plain": [
       "'7'"
      ]
     },
     "execution_count": 108,
     "metadata": {},
     "output_type": "execute_result"
    }
   ],
   "source": [
    "re.search(r'(\\d+)', nz_admin_05['column4'].iloc[145]).group()"
   ]
  },
  {
   "cell_type": "code",
   "execution_count": 110,
   "metadata": {
    "hidden": true
   },
   "outputs": [
    {
     "name": "stdout",
     "output_type": "stream",
     "text": [
      "An exception occurred\n"
     ]
    }
   ],
   "source": [
    "try:\n",
    "  print(re.search(r'(\\d+)', nz_admin_05['column4'].iloc[154]).group())\n",
    "except:\n",
    "  print(\"An exception occurred\")"
   ]
  },
  {
   "cell_type": "code",
   "execution_count": 111,
   "metadata": {
    "hidden": true
   },
   "outputs": [],
   "source": [
    "def job_posted(row):\n",
    "    try:\n",
    "      return re.search(r'(\\d+)(\\w)', row).group()\n",
    "    except:\n",
    "      return None"
   ]
  },
  {
   "cell_type": "code",
   "execution_count": 112,
   "metadata": {
    "hidden": true
   },
   "outputs": [],
   "source": [
    "nz_admin_06 = nz_admin_05.copy()"
   ]
  },
  {
   "cell_type": "code",
   "execution_count": null,
   "metadata": {
    "hidden": true
   },
   "outputs": [],
   "source": []
  },
  {
   "cell_type": "code",
   "execution_count": 114,
   "metadata": {
    "hidden": true
   },
   "outputs": [],
   "source": [
    "nz_admin_06['Job_Posted(mins/hrs/days ago)'] = nz_admin_06['column4'].apply(lambda row: job_posted(row))"
   ]
  },
  {
   "cell_type": "code",
   "execution_count": 115,
   "metadata": {
    "hidden": true
   },
   "outputs": [
    {
     "name": "stdout",
     "output_type": "stream",
     "text": [
      "<class 'pandas.core.frame.DataFrame'>\n",
      "RangeIndex: 2708 entries, 0 to 2707\n",
      "Data columns (total 9 columns):\n",
      " #   Column                         Non-Null Count  Dtype \n",
      "---  ------                         --------------  ----- \n",
      " 0   occupation                     2708 non-null   object\n",
      " 1   Company Name                   2708 non-null   object\n",
      " 2   column4                        2708 non-null   object\n",
      " 3   column5                        2708 non-null   object\n",
      " 4   job_advert_type                2708 non-null   object\n",
      " 5   Company location (Area)        2708 non-null   object\n",
      " 6   Company location (suburb)      2167 non-null   object\n",
      " 7   Salary($)(Benefit)             603 non-null    object\n",
      " 8   Job_Posted(mins/hrs/days ago)  2688 non-null   object\n",
      "dtypes: object(9)\n",
      "memory usage: 190.5+ KB\n"
     ]
    }
   ],
   "source": [
    "# The column \"Job_Posted(mins/hrs/days ago)\" contains a small amount of missing values.\n",
    "nz_admin_06.info()"
   ]
  },
  {
   "cell_type": "code",
   "execution_count": 116,
   "metadata": {
    "hidden": true
   },
   "outputs": [],
   "source": [
    "nz_admin_07 = nz_admin_06.copy()"
   ]
  },
  {
   "cell_type": "code",
   "execution_count": 117,
   "metadata": {
    "hidden": true
   },
   "outputs": [],
   "source": [
    "nz_admin_07.drop('column4', axis=1, inplace=True)"
   ]
  },
  {
   "cell_type": "code",
   "execution_count": 118,
   "metadata": {
    "hidden": true
   },
   "outputs": [
    {
     "data": {
      "text/html": [
       "<div>\n",
       "<style scoped>\n",
       "    .dataframe tbody tr th:only-of-type {\n",
       "        vertical-align: middle;\n",
       "    }\n",
       "\n",
       "    .dataframe tbody tr th {\n",
       "        vertical-align: top;\n",
       "    }\n",
       "\n",
       "    .dataframe thead th {\n",
       "        text-align: right;\n",
       "    }\n",
       "</style>\n",
       "<table border=\"1\" class=\"dataframe\">\n",
       "  <thead>\n",
       "    <tr style=\"text-align: right;\">\n",
       "      <th></th>\n",
       "      <th>occupation</th>\n",
       "      <th>Company Name</th>\n",
       "      <th>column5</th>\n",
       "      <th>job_advert_type</th>\n",
       "      <th>Company location (Area)</th>\n",
       "      <th>Company location (suburb)</th>\n",
       "      <th>Salary($)(Benefit)</th>\n",
       "      <th>Job_Posted(mins/hrs/days ago)</th>\n",
       "    </tr>\n",
       "  </thead>\n",
       "  <tbody>\n",
       "    <tr>\n",
       "      <th>0</th>\n",
       "      <td>Administrator</td>\n",
       "      <td>Private Advertiser</td>\n",
       "      <td>classification: Administration &amp; Office SupportAdministration &amp; Office SupportsubClassification: Office ManagementOffice Management</td>\n",
       "      <td>promoted</td>\n",
       "      <td>Bay of Plenty</td>\n",
       "      <td>Tauranga</td>\n",
       "      <td>None</td>\n",
       "      <td>None</td>\n",
       "    </tr>\n",
       "    <tr>\n",
       "      <th>1</th>\n",
       "      <td>Receptionist</td>\n",
       "      <td>Avenues Orthodontics</td>\n",
       "      <td>classification: Administration &amp; Office SupportAdministration &amp; Office SupportsubClassification: ReceptionistsReceptionists</td>\n",
       "      <td>promoted</td>\n",
       "      <td>Bay of Plenty</td>\n",
       "      <td>Tauranga</td>\n",
       "      <td>None</td>\n",
       "      <td>None</td>\n",
       "    </tr>\n",
       "    <tr>\n",
       "      <th>2</th>\n",
       "      <td>Prosecutions Support Officer</td>\n",
       "      <td>New Zealand Police</td>\n",
       "      <td>classification: Administration &amp; Office SupportAdministration &amp; Office SupportsubClassification: OtherOther</td>\n",
       "      <td>standard</td>\n",
       "      <td>Auckland</td>\n",
       "      <td>None</td>\n",
       "      <td>None</td>\n",
       "      <td>4d</td>\n",
       "    </tr>\n",
       "    <tr>\n",
       "      <th>3</th>\n",
       "      <td>Early Childhood Centre Administrator</td>\n",
       "      <td>Kew Pacific Island Early Learning Centre</td>\n",
       "      <td>classification: Administration &amp; Office SupportAdministration &amp; Office SupportsubClassification: Administrative AssistantsAdministrative Assistants</td>\n",
       "      <td>standard</td>\n",
       "      <td>Southland</td>\n",
       "      <td>Invercargill</td>\n",
       "      <td>None</td>\n",
       "      <td>1h</td>\n",
       "    </tr>\n",
       "    <tr>\n",
       "      <th>4</th>\n",
       "      <td>Business Support Administrator</td>\n",
       "      <td>Private Advertiser</td>\n",
       "      <td>classification: Administration &amp; Office SupportAdministration &amp; Office SupportsubClassification: Client &amp; Sales AdministrationClient &amp; Sales Administration</td>\n",
       "      <td>standout</td>\n",
       "      <td>Canterbury</td>\n",
       "      <td>Christchurch</td>\n",
       "      <td>None</td>\n",
       "      <td>4d</td>\n",
       "    </tr>\n",
       "  </tbody>\n",
       "</table>\n",
       "</div>"
      ],
      "text/plain": [
       "                             occupation  \\\n",
       "0                         Administrator   \n",
       "1                          Receptionist   \n",
       "2          Prosecutions Support Officer   \n",
       "3  Early Childhood Centre Administrator   \n",
       "4        Business Support Administrator   \n",
       "\n",
       "                               Company Name  \\\n",
       "0                        Private Advertiser   \n",
       "1                      Avenues Orthodontics   \n",
       "2                        New Zealand Police   \n",
       "3  Kew Pacific Island Early Learning Centre   \n",
       "4                        Private Advertiser   \n",
       "\n",
       "                                                                                                                                                       column5  \\\n",
       "0                          classification: Administration & Office SupportAdministration & Office SupportsubClassification: Office ManagementOffice Management   \n",
       "1                                  classification: Administration & Office SupportAdministration & Office SupportsubClassification: ReceptionistsReceptionists   \n",
       "2                                                  classification: Administration & Office SupportAdministration & Office SupportsubClassification: OtherOther   \n",
       "3          classification: Administration & Office SupportAdministration & Office SupportsubClassification: Administrative AssistantsAdministrative Assistants   \n",
       "4  classification: Administration & Office SupportAdministration & Office SupportsubClassification: Client & Sales AdministrationClient & Sales Administration   \n",
       "\n",
       "  job_advert_type Company location (Area) Company location (suburb)  \\\n",
       "0        promoted           Bay of Plenty                  Tauranga   \n",
       "1        promoted           Bay of Plenty                  Tauranga   \n",
       "2        standard                Auckland                      None   \n",
       "3        standard               Southland              Invercargill   \n",
       "4        standout              Canterbury              Christchurch   \n",
       "\n",
       "  Salary($)(Benefit) Job_Posted(mins/hrs/days ago)  \n",
       "0               None                          None  \n",
       "1               None                          None  \n",
       "2               None                            4d  \n",
       "3               None                            1h  \n",
       "4               None                            4d  "
      ]
     },
     "execution_count": 118,
     "metadata": {},
     "output_type": "execute_result"
    }
   ],
   "source": [
    "nz_admin_07.head()"
   ]
  },
  {
   "cell_type": "code",
   "execution_count": 124,
   "metadata": {
    "hidden": true
   },
   "outputs": [
    {
     "name": "stdout",
     "output_type": "stream",
     "text": [
      "<class 'pandas.core.frame.DataFrame'>\n",
      "RangeIndex: 2708 entries, 0 to 2707\n",
      "Data columns (total 8 columns):\n",
      " #   Column                         Non-Null Count  Dtype \n",
      "---  ------                         --------------  ----- \n",
      " 0   occupation                     2708 non-null   object\n",
      " 1   Company Name                   2708 non-null   object\n",
      " 2   column5                        2708 non-null   object\n",
      " 3   job_advert_type                2708 non-null   object\n",
      " 4   Company location (Area)        2708 non-null   object\n",
      " 5   Company location (suburb)      2167 non-null   object\n",
      " 6   Salary($)(Benefit)             603 non-null    object\n",
      " 7   Job_Posted(mins/hrs/days ago)  2688 non-null   object\n",
      "dtypes: object(8)\n",
      "memory usage: 169.4+ KB\n"
     ]
    }
   ],
   "source": [
    "##### Job_Posted with value filled by None either \"Featured,at,Private Advertiser\" or \"Featured,at\"\n",
    "nz_admin_07.info()"
   ]
  },
  {
   "cell_type": "code",
   "execution_count": 133,
   "metadata": {
    "hidden": true
   },
   "outputs": [
    {
     "data": {
      "text/plain": [
       "'7d'"
      ]
     },
     "execution_count": 133,
     "metadata": {},
     "output_type": "execute_result"
    }
   ],
   "source": [
    "nz_admin_07['Job_Posted(mins/hrs/days ago)'].iloc[10]"
   ]
  },
  {
   "cell_type": "code",
   "execution_count": 146,
   "metadata": {
    "hidden": true
   },
   "outputs": [
    {
     "data": {
      "text/plain": [
       "'9'"
      ]
     },
     "execution_count": 146,
     "metadata": {},
     "output_type": "execute_result"
    }
   ],
   "source": [
    "re.search(r'(\\d*)(\\w)', nz_admin_07['Job_Posted(mins/hrs/days ago)'].iloc[5]).group(1)"
   ]
  },
  {
   "cell_type": "code",
   "execution_count": 148,
   "metadata": {
    "hidden": true
   },
   "outputs": [],
   "source": [
    "def job_posted_days(row):\n",
    "    try:\n",
    "        if re.search(r'(\\d*)(\\w)', row).group(2) == 'd':\n",
    "            return re.search(r'(\\d*)(\\w)', row).group(1)\n",
    "        else:\n",
    "            return 0\n",
    "    except:\n",
    "      return None"
   ]
  },
  {
   "cell_type": "code",
   "execution_count": 157,
   "metadata": {
    "hidden": true
   },
   "outputs": [
    {
     "data": {
      "text/plain": [
       "0       None\n",
       "1       None\n",
       "2          4\n",
       "3          0\n",
       "4          4\n",
       "        ... \n",
       "2703      27\n",
       "2704      27\n",
       "2705      20\n",
       "2706      28\n",
       "2707      26\n",
       "Name: Job_Posted(mins/hrs/days ago), Length: 2708, dtype: object"
      ]
     },
     "execution_count": 157,
     "metadata": {},
     "output_type": "execute_result"
    }
   ],
   "source": [
    "nz_admin_07['Job_Posted(mins/hrs/days ago)'].apply(lambda row: job_posted_days(row))"
   ]
  },
  {
   "cell_type": "code",
   "execution_count": 158,
   "metadata": {
    "hidden": true
   },
   "outputs": [],
   "source": [
    "nz_admin_07['Job_Posted(days ago)'] = nz_admin_07['Job_Posted(mins/hrs/days ago)'].apply(lambda row: job_posted_days(row))"
   ]
  },
  {
   "cell_type": "code",
   "execution_count": 160,
   "metadata": {
    "hidden": true
   },
   "outputs": [
    {
     "name": "stdout",
     "output_type": "stream",
     "text": [
      "<class 'pandas.core.frame.DataFrame'>\n",
      "RangeIndex: 2708 entries, 0 to 2707\n",
      "Data columns (total 9 columns):\n",
      " #   Column                         Non-Null Count  Dtype \n",
      "---  ------                         --------------  ----- \n",
      " 0   occupation                     2708 non-null   object\n",
      " 1   Company Name                   2708 non-null   object\n",
      " 2   column5                        2708 non-null   object\n",
      " 3   job_advert_type                2708 non-null   object\n",
      " 4   Company location (Area)        2708 non-null   object\n",
      " 5   Company location (suburb)      2167 non-null   object\n",
      " 6   Salary($)(Benefit)             603 non-null    object\n",
      " 7   Job_Posted(mins/hrs/days ago)  2688 non-null   object\n",
      " 8   Job_Posted(days ago)           2688 non-null   object\n",
      "dtypes: object(9)\n",
      "memory usage: 190.5+ KB\n"
     ]
    }
   ],
   "source": [
    "nz_admin_07.info()"
   ]
  },
  {
   "cell_type": "code",
   "execution_count": 161,
   "metadata": {
    "hidden": true
   },
   "outputs": [],
   "source": [
    "nz_admin_07.drop('Job_Posted(mins/hrs/days ago)', axis=1, inplace=True)"
   ]
  },
  {
   "cell_type": "code",
   "execution_count": 162,
   "metadata": {
    "hidden": true
   },
   "outputs": [
    {
     "data": {
      "text/html": [
       "<div>\n",
       "<style scoped>\n",
       "    .dataframe tbody tr th:only-of-type {\n",
       "        vertical-align: middle;\n",
       "    }\n",
       "\n",
       "    .dataframe tbody tr th {\n",
       "        vertical-align: top;\n",
       "    }\n",
       "\n",
       "    .dataframe thead th {\n",
       "        text-align: right;\n",
       "    }\n",
       "</style>\n",
       "<table border=\"1\" class=\"dataframe\">\n",
       "  <thead>\n",
       "    <tr style=\"text-align: right;\">\n",
       "      <th></th>\n",
       "      <th>occupation</th>\n",
       "      <th>Company Name</th>\n",
       "      <th>column5</th>\n",
       "      <th>job_advert_type</th>\n",
       "      <th>Company location (Area)</th>\n",
       "      <th>Company location (suburb)</th>\n",
       "      <th>Salary($)(Benefit)</th>\n",
       "      <th>Job_Posted(days ago)</th>\n",
       "    </tr>\n",
       "  </thead>\n",
       "  <tbody>\n",
       "    <tr>\n",
       "      <th>0</th>\n",
       "      <td>Administrator</td>\n",
       "      <td>Private Advertiser</td>\n",
       "      <td>classification: Administration &amp; Office SupportAdministration &amp; Office SupportsubClassification: Office ManagementOffice Management</td>\n",
       "      <td>promoted</td>\n",
       "      <td>Bay of Plenty</td>\n",
       "      <td>Tauranga</td>\n",
       "      <td>None</td>\n",
       "      <td>None</td>\n",
       "    </tr>\n",
       "    <tr>\n",
       "      <th>1</th>\n",
       "      <td>Receptionist</td>\n",
       "      <td>Avenues Orthodontics</td>\n",
       "      <td>classification: Administration &amp; Office SupportAdministration &amp; Office SupportsubClassification: ReceptionistsReceptionists</td>\n",
       "      <td>promoted</td>\n",
       "      <td>Bay of Plenty</td>\n",
       "      <td>Tauranga</td>\n",
       "      <td>None</td>\n",
       "      <td>None</td>\n",
       "    </tr>\n",
       "    <tr>\n",
       "      <th>2</th>\n",
       "      <td>Prosecutions Support Officer</td>\n",
       "      <td>New Zealand Police</td>\n",
       "      <td>classification: Administration &amp; Office SupportAdministration &amp; Office SupportsubClassification: OtherOther</td>\n",
       "      <td>standard</td>\n",
       "      <td>Auckland</td>\n",
       "      <td>None</td>\n",
       "      <td>None</td>\n",
       "      <td>4</td>\n",
       "    </tr>\n",
       "    <tr>\n",
       "      <th>3</th>\n",
       "      <td>Early Childhood Centre Administrator</td>\n",
       "      <td>Kew Pacific Island Early Learning Centre</td>\n",
       "      <td>classification: Administration &amp; Office SupportAdministration &amp; Office SupportsubClassification: Administrative AssistantsAdministrative Assistants</td>\n",
       "      <td>standard</td>\n",
       "      <td>Southland</td>\n",
       "      <td>Invercargill</td>\n",
       "      <td>None</td>\n",
       "      <td>0</td>\n",
       "    </tr>\n",
       "    <tr>\n",
       "      <th>4</th>\n",
       "      <td>Business Support Administrator</td>\n",
       "      <td>Private Advertiser</td>\n",
       "      <td>classification: Administration &amp; Office SupportAdministration &amp; Office SupportsubClassification: Client &amp; Sales AdministrationClient &amp; Sales Administration</td>\n",
       "      <td>standout</td>\n",
       "      <td>Canterbury</td>\n",
       "      <td>Christchurch</td>\n",
       "      <td>None</td>\n",
       "      <td>4</td>\n",
       "    </tr>\n",
       "  </tbody>\n",
       "</table>\n",
       "</div>"
      ],
      "text/plain": [
       "                             occupation  \\\n",
       "0                         Administrator   \n",
       "1                          Receptionist   \n",
       "2          Prosecutions Support Officer   \n",
       "3  Early Childhood Centre Administrator   \n",
       "4        Business Support Administrator   \n",
       "\n",
       "                               Company Name  \\\n",
       "0                        Private Advertiser   \n",
       "1                      Avenues Orthodontics   \n",
       "2                        New Zealand Police   \n",
       "3  Kew Pacific Island Early Learning Centre   \n",
       "4                        Private Advertiser   \n",
       "\n",
       "                                                                                                                                                       column5  \\\n",
       "0                          classification: Administration & Office SupportAdministration & Office SupportsubClassification: Office ManagementOffice Management   \n",
       "1                                  classification: Administration & Office SupportAdministration & Office SupportsubClassification: ReceptionistsReceptionists   \n",
       "2                                                  classification: Administration & Office SupportAdministration & Office SupportsubClassification: OtherOther   \n",
       "3          classification: Administration & Office SupportAdministration & Office SupportsubClassification: Administrative AssistantsAdministrative Assistants   \n",
       "4  classification: Administration & Office SupportAdministration & Office SupportsubClassification: Client & Sales AdministrationClient & Sales Administration   \n",
       "\n",
       "  job_advert_type Company location (Area) Company location (suburb)  \\\n",
       "0        promoted           Bay of Plenty                  Tauranga   \n",
       "1        promoted           Bay of Plenty                  Tauranga   \n",
       "2        standard                Auckland                      None   \n",
       "3        standard               Southland              Invercargill   \n",
       "4        standout              Canterbury              Christchurch   \n",
       "\n",
       "  Salary($)(Benefit) Job_Posted(days ago)  \n",
       "0               None                 None  \n",
       "1               None                 None  \n",
       "2               None                    4  \n",
       "3               None                    0  \n",
       "4               None                    4  "
      ]
     },
     "execution_count": 162,
     "metadata": {},
     "output_type": "execute_result"
    }
   ],
   "source": [
    "nz_admin_07.head()"
   ]
  },
  {
   "cell_type": "code",
   "execution_count": null,
   "metadata": {
    "hidden": true
   },
   "outputs": [],
   "source": []
  },
  {
   "cell_type": "code",
   "execution_count": null,
   "metadata": {
    "hidden": true
   },
   "outputs": [],
   "source": []
  },
  {
   "cell_type": "code",
   "execution_count": null,
   "metadata": {
    "hidden": true
   },
   "outputs": [],
   "source": []
  },
  {
   "cell_type": "markdown",
   "metadata": {
    "heading_collapsed": true
   },
   "source": [
    "## Column5 - job_classification / job_subclassification"
   ]
  },
  {
   "cell_type": "code",
   "execution_count": 163,
   "metadata": {
    "hidden": true
   },
   "outputs": [],
   "source": [
    "nz_admin_08 = nz_admin_07.copy()"
   ]
  },
  {
   "cell_type": "code",
   "execution_count": 564,
   "metadata": {
    "code_folding": [],
    "hidden": true
   },
   "outputs": [
    {
     "name": "stdout",
     "output_type": "stream",
     "text": [
      "$20 per hour\n",
      "['$20 per hour']\n",
      "['classification', ' Administration & Office SupportAdministration & Office SupportsubClassification', ' Office ManagementOffice Management']\n",
      " Administration & Office SupportAdministration & Office SupportsubClassification\n",
      "[' Administration & Office SupportAdministration & Office Support', '']\n",
      "['Administration & ', 'Office ', 'Support', 'Administration & ', 'Office ', 'Support']\n",
      "Administration & Office Support\n",
      " OtherOther\n"
     ]
    }
   ],
   "source": [
    "######### Demonstration of steps to create Python function \"return_classification\" and \"return_subclass\":\n",
    "# print(nz_admin_08['字段5'].iloc[10])\n",
    "# print(nz_admin_08['字段5'].iloc[10].split(':'))\n",
    "# print(nz_admin_08['字段5'].iloc[11].split(':'))\n",
    "# print(nz_admin_08['字段5'].iloc[11].split(':')[1])\n",
    "# print(nz_admin_08['字段5'].iloc[11].split(':')[1].split('subClassification'))\n",
    "# print(re.findall('[A-Z][^A-Z]*', nz_admin_08['字段5'].iloc[11].split(':')[1].split('subClassification')[0]))\n",
    "# print(re.search(r'(\\w+\\s*&\\s*\\w+\\s*\\w[a-z]+)', nz_admin_08['字段5'].iloc[11].split(':')[1]).group())\n",
    "# print(nz_admin_08['字段5'].iloc[4].split(':')[2])\n",
    "# # print(re.findall('[A-Z][^A-Z]*', nz_admin_08['字段5'].iloc[13].split(':')[2]) #13)"
   ]
  },
  {
   "cell_type": "code",
   "execution_count": 164,
   "metadata": {
    "hidden": true
   },
   "outputs": [],
   "source": [
    "def return_classification(row):\n",
    "    lst_row = row.split(':')\n",
    "    classfication = \"\"\n",
    "    if len(lst_row)==1:\n",
    "        return None\n",
    "    else:\n",
    "        lst_class = re.findall('[A-Z][^A-Z]*', lst_row[1].split('subClassfication')[0])\n",
    "        for i in range(len(lst_class)//2):\n",
    "            classfication += lst_class[i]\n",
    "        return classfication"
   ]
  },
  {
   "cell_type": "code",
   "execution_count": 165,
   "metadata": {
    "hidden": true
   },
   "outputs": [],
   "source": [
    "nz_admin_08['job_classification'] = nz_admin_08['column5'].apply(lambda row: return_classification(row))"
   ]
  },
  {
   "cell_type": "code",
   "execution_count": 166,
   "metadata": {
    "hidden": true
   },
   "outputs": [
    {
     "name": "stdout",
     "output_type": "stream",
     "text": [
      "<class 'pandas.core.frame.DataFrame'>\n",
      "RangeIndex: 2708 entries, 0 to 2707\n",
      "Data columns (total 9 columns):\n",
      " #   Column                     Non-Null Count  Dtype \n",
      "---  ------                     --------------  ----- \n",
      " 0   occupation                 2708 non-null   object\n",
      " 1   Company Name               2708 non-null   object\n",
      " 2   column5                    2708 non-null   object\n",
      " 3   job_advert_type            2708 non-null   object\n",
      " 4   Company location (Area)    2708 non-null   object\n",
      " 5   Company location (suburb)  2167 non-null   object\n",
      " 6   Salary($)(Benefit)         603 non-null    object\n",
      " 7   Job_Posted(days ago)       2688 non-null   object\n",
      " 8   job_classification         2105 non-null   object\n",
      "dtypes: object(9)\n",
      "memory usage: 190.5+ KB\n"
     ]
    }
   ],
   "source": [
    "nz_admin_08.info()"
   ]
  },
  {
   "cell_type": "code",
   "execution_count": null,
   "metadata": {
    "hidden": true
   },
   "outputs": [],
   "source": []
  },
  {
   "cell_type": "code",
   "execution_count": 167,
   "metadata": {
    "hidden": true
   },
   "outputs": [],
   "source": [
    "def return_subclass(row):\n",
    "    lst_row = row.split(':')\n",
    "    subclass = \"\"\n",
    "    if len(lst_row)==1:\n",
    "        return None\n",
    "    else:\n",
    "        lst_subclass = re.findall('[A-Z][^A-Z]*', lst_row[2])\n",
    "        for i in range(len(lst_subclass)//2):\n",
    "            subclass += lst_subclass[i]\n",
    "        return subclass"
   ]
  },
  {
   "cell_type": "code",
   "execution_count": 168,
   "metadata": {
    "hidden": true
   },
   "outputs": [
    {
     "data": {
      "text/plain": [
       "0                   Office Management\n",
       "1                       Receptionists\n",
       "2                               Other\n",
       "3           Administrative Assistants\n",
       "4       Client & Sales Administration\n",
       "                    ...              \n",
       "2703    Client & Sales Administration\n",
       "2704                             None\n",
       "2705                             None\n",
       "2706                             None\n",
       "2707             PA, EA & Secretarial\n",
       "Name: column5, Length: 2708, dtype: object"
      ]
     },
     "execution_count": 168,
     "metadata": {},
     "output_type": "execute_result"
    }
   ],
   "source": [
    "nz_admin_08['column5'].apply(lambda row: return_subclass(row))"
   ]
  },
  {
   "cell_type": "code",
   "execution_count": 169,
   "metadata": {
    "hidden": true
   },
   "outputs": [
    {
     "name": "stdout",
     "output_type": "stream",
     "text": [
      "<class 'pandas.core.frame.DataFrame'>\n",
      "RangeIndex: 2708 entries, 0 to 2707\n",
      "Data columns (total 9 columns):\n",
      " #   Column                     Non-Null Count  Dtype \n",
      "---  ------                     --------------  ----- \n",
      " 0   occupation                 2708 non-null   object\n",
      " 1   Company Name               2708 non-null   object\n",
      " 2   column5                    2708 non-null   object\n",
      " 3   job_advert_type            2708 non-null   object\n",
      " 4   Company location (Area)    2708 non-null   object\n",
      " 5   Company location (suburb)  2167 non-null   object\n",
      " 6   Salary($)(Benefit)         603 non-null    object\n",
      " 7   Job_Posted(days ago)       2688 non-null   object\n",
      " 8   job_classification         2105 non-null   object\n",
      "dtypes: object(9)\n",
      "memory usage: 190.5+ KB\n"
     ]
    }
   ],
   "source": [
    "nz_admin_08.info()"
   ]
  },
  {
   "cell_type": "code",
   "execution_count": 170,
   "metadata": {
    "hidden": true
   },
   "outputs": [],
   "source": [
    "nz_admin_08['job_subclassification'] = nz_admin_08['column5'].apply(lambda row: return_subclass(row))"
   ]
  },
  {
   "cell_type": "code",
   "execution_count": 171,
   "metadata": {
    "hidden": true
   },
   "outputs": [
    {
     "name": "stdout",
     "output_type": "stream",
     "text": [
      "<class 'pandas.core.frame.DataFrame'>\n",
      "RangeIndex: 2708 entries, 0 to 2707\n",
      "Data columns (total 10 columns):\n",
      " #   Column                     Non-Null Count  Dtype \n",
      "---  ------                     --------------  ----- \n",
      " 0   occupation                 2708 non-null   object\n",
      " 1   Company Name               2708 non-null   object\n",
      " 2   column5                    2708 non-null   object\n",
      " 3   job_advert_type            2708 non-null   object\n",
      " 4   Company location (Area)    2708 non-null   object\n",
      " 5   Company location (suburb)  2167 non-null   object\n",
      " 6   Salary($)(Benefit)         603 non-null    object\n",
      " 7   Job_Posted(days ago)       2688 non-null   object\n",
      " 8   job_classification         2105 non-null   object\n",
      " 9   job_subclassification      2105 non-null   object\n",
      "dtypes: object(10)\n",
      "memory usage: 211.7+ KB\n"
     ]
    }
   ],
   "source": [
    "nz_admin_08.info()"
   ]
  },
  {
   "cell_type": "code",
   "execution_count": null,
   "metadata": {
    "hidden": true
   },
   "outputs": [],
   "source": []
  },
  {
   "cell_type": "code",
   "execution_count": 172,
   "metadata": {
    "hidden": true
   },
   "outputs": [],
   "source": [
    "nz_admin_09 = nz_admin_08.copy()"
   ]
  },
  {
   "cell_type": "code",
   "execution_count": 173,
   "metadata": {
    "hidden": true
   },
   "outputs": [],
   "source": [
    "nz_admin_09.drop('column5', axis=1, inplace=True)"
   ]
  },
  {
   "cell_type": "code",
   "execution_count": 174,
   "metadata": {
    "hidden": true
   },
   "outputs": [
    {
     "name": "stdout",
     "output_type": "stream",
     "text": [
      "<class 'pandas.core.frame.DataFrame'>\n",
      "RangeIndex: 2708 entries, 0 to 2707\n",
      "Data columns (total 9 columns):\n",
      " #   Column                     Non-Null Count  Dtype \n",
      "---  ------                     --------------  ----- \n",
      " 0   occupation                 2708 non-null   object\n",
      " 1   Company Name               2708 non-null   object\n",
      " 2   job_advert_type            2708 non-null   object\n",
      " 3   Company location (Area)    2708 non-null   object\n",
      " 4   Company location (suburb)  2167 non-null   object\n",
      " 5   Salary($)(Benefit)         603 non-null    object\n",
      " 6   Job_Posted(days ago)       2688 non-null   object\n",
      " 7   job_classification         2105 non-null   object\n",
      " 8   job_subclassification      2105 non-null   object\n",
      "dtypes: object(9)\n",
      "memory usage: 190.5+ KB\n"
     ]
    }
   ],
   "source": [
    "# The columns \"job_classification\" and \"job_subclassification\" contains some missing values.\n",
    "nz_admin_09.info()"
   ]
  },
  {
   "cell_type": "code",
   "execution_count": 175,
   "metadata": {
    "hidden": true
   },
   "outputs": [
    {
     "data": {
      "text/html": [
       "<div>\n",
       "<style scoped>\n",
       "    .dataframe tbody tr th:only-of-type {\n",
       "        vertical-align: middle;\n",
       "    }\n",
       "\n",
       "    .dataframe tbody tr th {\n",
       "        vertical-align: top;\n",
       "    }\n",
       "\n",
       "    .dataframe thead th {\n",
       "        text-align: right;\n",
       "    }\n",
       "</style>\n",
       "<table border=\"1\" class=\"dataframe\">\n",
       "  <thead>\n",
       "    <tr style=\"text-align: right;\">\n",
       "      <th></th>\n",
       "      <th>occupation</th>\n",
       "      <th>Company Name</th>\n",
       "      <th>job_advert_type</th>\n",
       "      <th>Company location (Area)</th>\n",
       "      <th>Company location (suburb)</th>\n",
       "      <th>Salary($)(Benefit)</th>\n",
       "      <th>Job_Posted(days ago)</th>\n",
       "      <th>job_classification</th>\n",
       "      <th>job_subclassification</th>\n",
       "    </tr>\n",
       "  </thead>\n",
       "  <tbody>\n",
       "    <tr>\n",
       "      <th>0</th>\n",
       "      <td>Administrator</td>\n",
       "      <td>Private Advertiser</td>\n",
       "      <td>promoted</td>\n",
       "      <td>Bay of Plenty</td>\n",
       "      <td>Tauranga</td>\n",
       "      <td>None</td>\n",
       "      <td>None</td>\n",
       "      <td>Administration &amp; Office Support</td>\n",
       "      <td>Office Management</td>\n",
       "    </tr>\n",
       "    <tr>\n",
       "      <th>1</th>\n",
       "      <td>Receptionist</td>\n",
       "      <td>Avenues Orthodontics</td>\n",
       "      <td>promoted</td>\n",
       "      <td>Bay of Plenty</td>\n",
       "      <td>Tauranga</td>\n",
       "      <td>None</td>\n",
       "      <td>None</td>\n",
       "      <td>Administration &amp; Office Support</td>\n",
       "      <td>Receptionists</td>\n",
       "    </tr>\n",
       "    <tr>\n",
       "      <th>2</th>\n",
       "      <td>Prosecutions Support Officer</td>\n",
       "      <td>New Zealand Police</td>\n",
       "      <td>standard</td>\n",
       "      <td>Auckland</td>\n",
       "      <td>None</td>\n",
       "      <td>None</td>\n",
       "      <td>4</td>\n",
       "      <td>Administration &amp; Office Support</td>\n",
       "      <td>Other</td>\n",
       "    </tr>\n",
       "    <tr>\n",
       "      <th>3</th>\n",
       "      <td>Early Childhood Centre Administrator</td>\n",
       "      <td>Kew Pacific Island Early Learning Centre</td>\n",
       "      <td>standard</td>\n",
       "      <td>Southland</td>\n",
       "      <td>Invercargill</td>\n",
       "      <td>None</td>\n",
       "      <td>0</td>\n",
       "      <td>Administration &amp; Office Support</td>\n",
       "      <td>Administrative Assistants</td>\n",
       "    </tr>\n",
       "    <tr>\n",
       "      <th>4</th>\n",
       "      <td>Business Support Administrator</td>\n",
       "      <td>Private Advertiser</td>\n",
       "      <td>standout</td>\n",
       "      <td>Canterbury</td>\n",
       "      <td>Christchurch</td>\n",
       "      <td>None</td>\n",
       "      <td>4</td>\n",
       "      <td>Administration &amp; Office Support</td>\n",
       "      <td>Client &amp; Sales Administration</td>\n",
       "    </tr>\n",
       "  </tbody>\n",
       "</table>\n",
       "</div>"
      ],
      "text/plain": [
       "                             occupation  \\\n",
       "0                         Administrator   \n",
       "1                          Receptionist   \n",
       "2          Prosecutions Support Officer   \n",
       "3  Early Childhood Centre Administrator   \n",
       "4        Business Support Administrator   \n",
       "\n",
       "                               Company Name job_advert_type  \\\n",
       "0                        Private Advertiser        promoted   \n",
       "1                      Avenues Orthodontics        promoted   \n",
       "2                        New Zealand Police        standard   \n",
       "3  Kew Pacific Island Early Learning Centre        standard   \n",
       "4                        Private Advertiser        standout   \n",
       "\n",
       "  Company location (Area) Company location (suburb) Salary($)(Benefit)  \\\n",
       "0           Bay of Plenty                  Tauranga               None   \n",
       "1           Bay of Plenty                  Tauranga               None   \n",
       "2                Auckland                      None               None   \n",
       "3               Southland              Invercargill               None   \n",
       "4              Canterbury              Christchurch               None   \n",
       "\n",
       "  Job_Posted(days ago)               job_classification  \\\n",
       "0                 None  Administration & Office Support   \n",
       "1                 None  Administration & Office Support   \n",
       "2                    4  Administration & Office Support   \n",
       "3                    0  Administration & Office Support   \n",
       "4                    4  Administration & Office Support   \n",
       "\n",
       "           job_subclassification  \n",
       "0              Office Management  \n",
       "1                  Receptionists  \n",
       "2                          Other  \n",
       "3      Administrative Assistants  \n",
       "4  Client & Sales Administration  "
      ]
     },
     "execution_count": 175,
     "metadata": {},
     "output_type": "execute_result"
    }
   ],
   "source": [
    "nz_admin_09.head()"
   ]
  },
  {
   "cell_type": "code",
   "execution_count": null,
   "metadata": {
    "hidden": true
   },
   "outputs": [],
   "source": []
  },
  {
   "cell_type": "markdown",
   "metadata": {},
   "source": [
    "## Clean dataset"
   ]
  },
  {
   "cell_type": "code",
   "execution_count": 176,
   "metadata": {},
   "outputs": [],
   "source": [
    "nz_admin_clean = nz_admin_09.copy()"
   ]
  },
  {
   "cell_type": "code",
   "execution_count": 177,
   "metadata": {},
   "outputs": [
    {
     "data": {
      "text/html": [
       "<div>\n",
       "<style scoped>\n",
       "    .dataframe tbody tr th:only-of-type {\n",
       "        vertical-align: middle;\n",
       "    }\n",
       "\n",
       "    .dataframe tbody tr th {\n",
       "        vertical-align: top;\n",
       "    }\n",
       "\n",
       "    .dataframe thead th {\n",
       "        text-align: right;\n",
       "    }\n",
       "</style>\n",
       "<table border=\"1\" class=\"dataframe\">\n",
       "  <thead>\n",
       "    <tr style=\"text-align: right;\">\n",
       "      <th></th>\n",
       "      <th>occupation</th>\n",
       "      <th>Company Name</th>\n",
       "      <th>job_advert_type</th>\n",
       "      <th>Company location (Area)</th>\n",
       "      <th>Company location (suburb)</th>\n",
       "      <th>Salary($)(Benefit)</th>\n",
       "      <th>Job_Posted(days ago)</th>\n",
       "      <th>job_classification</th>\n",
       "      <th>job_subclassification</th>\n",
       "    </tr>\n",
       "  </thead>\n",
       "  <tbody>\n",
       "    <tr>\n",
       "      <th>0</th>\n",
       "      <td>Administrator</td>\n",
       "      <td>Private Advertiser</td>\n",
       "      <td>promoted</td>\n",
       "      <td>Bay of Plenty</td>\n",
       "      <td>Tauranga</td>\n",
       "      <td>None</td>\n",
       "      <td>None</td>\n",
       "      <td>Administration &amp; Office Support</td>\n",
       "      <td>Office Management</td>\n",
       "    </tr>\n",
       "    <tr>\n",
       "      <th>1</th>\n",
       "      <td>Receptionist</td>\n",
       "      <td>Avenues Orthodontics</td>\n",
       "      <td>promoted</td>\n",
       "      <td>Bay of Plenty</td>\n",
       "      <td>Tauranga</td>\n",
       "      <td>None</td>\n",
       "      <td>None</td>\n",
       "      <td>Administration &amp; Office Support</td>\n",
       "      <td>Receptionists</td>\n",
       "    </tr>\n",
       "    <tr>\n",
       "      <th>2</th>\n",
       "      <td>Prosecutions Support Officer</td>\n",
       "      <td>New Zealand Police</td>\n",
       "      <td>standard</td>\n",
       "      <td>Auckland</td>\n",
       "      <td>None</td>\n",
       "      <td>None</td>\n",
       "      <td>4</td>\n",
       "      <td>Administration &amp; Office Support</td>\n",
       "      <td>Other</td>\n",
       "    </tr>\n",
       "    <tr>\n",
       "      <th>3</th>\n",
       "      <td>Early Childhood Centre Administrator</td>\n",
       "      <td>Kew Pacific Island Early Learning Centre</td>\n",
       "      <td>standard</td>\n",
       "      <td>Southland</td>\n",
       "      <td>Invercargill</td>\n",
       "      <td>None</td>\n",
       "      <td>0</td>\n",
       "      <td>Administration &amp; Office Support</td>\n",
       "      <td>Administrative Assistants</td>\n",
       "    </tr>\n",
       "    <tr>\n",
       "      <th>4</th>\n",
       "      <td>Business Support Administrator</td>\n",
       "      <td>Private Advertiser</td>\n",
       "      <td>standout</td>\n",
       "      <td>Canterbury</td>\n",
       "      <td>Christchurch</td>\n",
       "      <td>None</td>\n",
       "      <td>4</td>\n",
       "      <td>Administration &amp; Office Support</td>\n",
       "      <td>Client &amp; Sales Administration</td>\n",
       "    </tr>\n",
       "    <tr>\n",
       "      <th>5</th>\n",
       "      <td>Support Officer</td>\n",
       "      <td>Ministry for Primary Industries</td>\n",
       "      <td>standout</td>\n",
       "      <td>Northland</td>\n",
       "      <td>Whangarei</td>\n",
       "      <td>None</td>\n",
       "      <td>0</td>\n",
       "      <td>Administration &amp; Office Support</td>\n",
       "      <td>Administrative Assistants</td>\n",
       "    </tr>\n",
       "    <tr>\n",
       "      <th>6</th>\n",
       "      <td>Support Officer</td>\n",
       "      <td>Ministry of Business, Innovation and Employment</td>\n",
       "      <td>standout</td>\n",
       "      <td>Wellington</td>\n",
       "      <td>Wellington Central</td>\n",
       "      <td>None</td>\n",
       "      <td>5</td>\n",
       "      <td>Administration &amp; Office Support</td>\n",
       "      <td>Other</td>\n",
       "    </tr>\n",
       "    <tr>\n",
       "      <th>7</th>\n",
       "      <td>office administrator</td>\n",
       "      <td>Hepburn Electrical Ltd</td>\n",
       "      <td>standard</td>\n",
       "      <td>Bay of Plenty</td>\n",
       "      <td>Rotorua</td>\n",
       "      <td>None</td>\n",
       "      <td>0</td>\n",
       "      <td>Administration &amp; Office Support</td>\n",
       "      <td>Administrative Assistants</td>\n",
       "    </tr>\n",
       "    <tr>\n",
       "      <th>8</th>\n",
       "      <td>Office Administrator</td>\n",
       "      <td>Webster Holland Ltd</td>\n",
       "      <td>standard</td>\n",
       "      <td>Bay of Plenty</td>\n",
       "      <td>Tauranga</td>\n",
       "      <td>None</td>\n",
       "      <td>0</td>\n",
       "      <td>Administration &amp; Office Support</td>\n",
       "      <td>Administrative Assistants</td>\n",
       "    </tr>\n",
       "    <tr>\n",
       "      <th>9</th>\n",
       "      <td>Administration Officer</td>\n",
       "      <td>New Zealand Police</td>\n",
       "      <td>standard</td>\n",
       "      <td>Canterbury</td>\n",
       "      <td>None</td>\n",
       "      <td>None</td>\n",
       "      <td>3</td>\n",
       "      <td>Administration &amp; Office Support</td>\n",
       "      <td>Other</td>\n",
       "    </tr>\n",
       "    <tr>\n",
       "      <th>10</th>\n",
       "      <td>Administration Officer</td>\n",
       "      <td>Department of Conservation</td>\n",
       "      <td>standout</td>\n",
       "      <td>West Coast</td>\n",
       "      <td>Rest of West Coast</td>\n",
       "      <td>None</td>\n",
       "      <td>7</td>\n",
       "      <td>Administration &amp; Office Support</td>\n",
       "      <td>Administrative Assistants</td>\n",
       "    </tr>\n",
       "    <tr>\n",
       "      <th>11</th>\n",
       "      <td>Data Entry</td>\n",
       "      <td>Triple One Care</td>\n",
       "      <td>standard</td>\n",
       "      <td>Tasman</td>\n",
       "      <td>Nelson</td>\n",
       "      <td>None</td>\n",
       "      <td>5</td>\n",
       "      <td>Administration &amp; Office Support</td>\n",
       "      <td>Data Entry &amp; Word Processing</td>\n",
       "    </tr>\n",
       "    <tr>\n",
       "      <th>12</th>\n",
       "      <td>Office Admin Assistant (10hrs per week)</td>\n",
       "      <td>UIV Limited - Premier Insulation North Central</td>\n",
       "      <td>standard</td>\n",
       "      <td>Auckland</td>\n",
       "      <td>Manukau &amp; East Auckland</td>\n",
       "      <td>$20 per hour</td>\n",
       "      <td>8</td>\n",
       "      <td>None</td>\n",
       "      <td>None</td>\n",
       "    </tr>\n",
       "    <tr>\n",
       "      <th>13</th>\n",
       "      <td>Office Administrator</td>\n",
       "      <td>Wraight and Associates Ltd.</td>\n",
       "      <td>standard</td>\n",
       "      <td>Wellington</td>\n",
       "      <td>Wellington Central</td>\n",
       "      <td>None</td>\n",
       "      <td>3</td>\n",
       "      <td>Administration &amp; Office Support</td>\n",
       "      <td>Office Management</td>\n",
       "    </tr>\n",
       "    <tr>\n",
       "      <th>14</th>\n",
       "      <td>Office Administrator</td>\n",
       "      <td>Morgan &amp; Pollard Landscapes Ltd</td>\n",
       "      <td>standout</td>\n",
       "      <td>Canterbury</td>\n",
       "      <td>Rest of Canterbury</td>\n",
       "      <td>None</td>\n",
       "      <td>3</td>\n",
       "      <td>Administration &amp; Office Support</td>\n",
       "      <td>Administrative Assistants</td>\n",
       "    </tr>\n",
       "    <tr>\n",
       "      <th>15</th>\n",
       "      <td>Customer Service Officer</td>\n",
       "      <td>CM Trailer Parts</td>\n",
       "      <td>standout</td>\n",
       "      <td>Canterbury</td>\n",
       "      <td>Timaru &amp; South Canterbury</td>\n",
       "      <td>None</td>\n",
       "      <td>5</td>\n",
       "      <td>Administration &amp; Office Support</td>\n",
       "      <td>Client &amp; Sales Administration</td>\n",
       "    </tr>\n",
       "    <tr>\n",
       "      <th>16</th>\n",
       "      <td>Administration Assistant - Mt Wellington</td>\n",
       "      <td>Harvey Norman</td>\n",
       "      <td>standout</td>\n",
       "      <td>Auckland</td>\n",
       "      <td>Auckland Central</td>\n",
       "      <td>None</td>\n",
       "      <td>0</td>\n",
       "      <td>Administration &amp; Office Support</td>\n",
       "      <td>Administrative Assistants</td>\n",
       "    </tr>\n",
       "    <tr>\n",
       "      <th>17</th>\n",
       "      <td>Part-time Health &amp; Disability Administrative Assistant</td>\n",
       "      <td>LIFEWISE</td>\n",
       "      <td>standout</td>\n",
       "      <td>Auckland</td>\n",
       "      <td>Auckland Central</td>\n",
       "      <td>$20 - $24.99 per hour</td>\n",
       "      <td>6</td>\n",
       "      <td>None</td>\n",
       "      <td>None</td>\n",
       "    </tr>\n",
       "    <tr>\n",
       "      <th>18</th>\n",
       "      <td>Office Coordinator, Whangarei Youth Space</td>\n",
       "      <td>Whangarei Youth Space</td>\n",
       "      <td>standard</td>\n",
       "      <td>Northland</td>\n",
       "      <td>Whangarei</td>\n",
       "      <td>None</td>\n",
       "      <td>3</td>\n",
       "      <td>Administration &amp; Office Support</td>\n",
       "      <td>Administrative Assistants</td>\n",
       "    </tr>\n",
       "    <tr>\n",
       "      <th>19</th>\n",
       "      <td>Administrator</td>\n",
       "      <td>Private Advertiser</td>\n",
       "      <td>standard</td>\n",
       "      <td>Manawatu</td>\n",
       "      <td>Rest of Manawatu</td>\n",
       "      <td>None</td>\n",
       "      <td>7</td>\n",
       "      <td>Administration &amp; Office Support</td>\n",
       "      <td>Other</td>\n",
       "    </tr>\n",
       "  </tbody>\n",
       "</table>\n",
       "</div>"
      ],
      "text/plain": [
       "                                                occupation  \\\n",
       "0                                            Administrator   \n",
       "1                                             Receptionist   \n",
       "2                             Prosecutions Support Officer   \n",
       "3                     Early Childhood Centre Administrator   \n",
       "4                           Business Support Administrator   \n",
       "5                                          Support Officer   \n",
       "6                                          Support Officer   \n",
       "7                                     office administrator   \n",
       "8                                     Office Administrator   \n",
       "9                                   Administration Officer   \n",
       "10                                  Administration Officer   \n",
       "11                                              Data Entry   \n",
       "12                 Office Admin Assistant (10hrs per week)   \n",
       "13                                    Office Administrator   \n",
       "14                                    Office Administrator   \n",
       "15                                Customer Service Officer   \n",
       "16                Administration Assistant - Mt Wellington   \n",
       "17  Part-time Health & Disability Administrative Assistant   \n",
       "18               Office Coordinator, Whangarei Youth Space   \n",
       "19                                           Administrator   \n",
       "\n",
       "                                       Company Name job_advert_type  \\\n",
       "0                                Private Advertiser        promoted   \n",
       "1                              Avenues Orthodontics        promoted   \n",
       "2                                New Zealand Police        standard   \n",
       "3          Kew Pacific Island Early Learning Centre        standard   \n",
       "4                                Private Advertiser        standout   \n",
       "5                   Ministry for Primary Industries        standout   \n",
       "6   Ministry of Business, Innovation and Employment        standout   \n",
       "7                            Hepburn Electrical Ltd        standard   \n",
       "8                               Webster Holland Ltd        standard   \n",
       "9                                New Zealand Police        standard   \n",
       "10                       Department of Conservation        standout   \n",
       "11                                  Triple One Care        standard   \n",
       "12   UIV Limited - Premier Insulation North Central        standard   \n",
       "13                      Wraight and Associates Ltd.        standard   \n",
       "14                  Morgan & Pollard Landscapes Ltd        standout   \n",
       "15                                 CM Trailer Parts        standout   \n",
       "16                                    Harvey Norman        standout   \n",
       "17                                         LIFEWISE        standout   \n",
       "18                            Whangarei Youth Space        standard   \n",
       "19                               Private Advertiser        standard   \n",
       "\n",
       "   Company location (Area)  Company location (suburb)     Salary($)(Benefit)  \\\n",
       "0            Bay of Plenty                   Tauranga                   None   \n",
       "1            Bay of Plenty                   Tauranga                   None   \n",
       "2                 Auckland                       None                   None   \n",
       "3                Southland               Invercargill                   None   \n",
       "4               Canterbury               Christchurch                   None   \n",
       "5                Northland                  Whangarei                   None   \n",
       "6               Wellington         Wellington Central                   None   \n",
       "7            Bay of Plenty                    Rotorua                   None   \n",
       "8            Bay of Plenty                   Tauranga                   None   \n",
       "9               Canterbury                       None                   None   \n",
       "10              West Coast         Rest of West Coast                   None   \n",
       "11                  Tasman                     Nelson                   None   \n",
       "12                Auckland    Manukau & East Auckland           $20 per hour   \n",
       "13              Wellington         Wellington Central                   None   \n",
       "14              Canterbury         Rest of Canterbury                   None   \n",
       "15              Canterbury  Timaru & South Canterbury                   None   \n",
       "16                Auckland           Auckland Central                   None   \n",
       "17                Auckland           Auckland Central  $20 - $24.99 per hour   \n",
       "18               Northland                  Whangarei                   None   \n",
       "19                Manawatu           Rest of Manawatu                   None   \n",
       "\n",
       "   Job_Posted(days ago)               job_classification  \\\n",
       "0                  None  Administration & Office Support   \n",
       "1                  None  Administration & Office Support   \n",
       "2                     4  Administration & Office Support   \n",
       "3                     0  Administration & Office Support   \n",
       "4                     4  Administration & Office Support   \n",
       "5                     0  Administration & Office Support   \n",
       "6                     5  Administration & Office Support   \n",
       "7                     0  Administration & Office Support   \n",
       "8                     0  Administration & Office Support   \n",
       "9                     3  Administration & Office Support   \n",
       "10                    7  Administration & Office Support   \n",
       "11                    5  Administration & Office Support   \n",
       "12                    8                             None   \n",
       "13                    3  Administration & Office Support   \n",
       "14                    3  Administration & Office Support   \n",
       "15                    5  Administration & Office Support   \n",
       "16                    0  Administration & Office Support   \n",
       "17                    6                             None   \n",
       "18                    3  Administration & Office Support   \n",
       "19                    7  Administration & Office Support   \n",
       "\n",
       "            job_subclassification  \n",
       "0               Office Management  \n",
       "1                   Receptionists  \n",
       "2                           Other  \n",
       "3       Administrative Assistants  \n",
       "4   Client & Sales Administration  \n",
       "5       Administrative Assistants  \n",
       "6                           Other  \n",
       "7       Administrative Assistants  \n",
       "8       Administrative Assistants  \n",
       "9                           Other  \n",
       "10      Administrative Assistants  \n",
       "11   Data Entry & Word Processing  \n",
       "12                           None  \n",
       "13              Office Management  \n",
       "14      Administrative Assistants  \n",
       "15  Client & Sales Administration  \n",
       "16      Administrative Assistants  \n",
       "17                           None  \n",
       "18      Administrative Assistants  \n",
       "19                          Other  "
      ]
     },
     "execution_count": 177,
     "metadata": {},
     "output_type": "execute_result"
    }
   ],
   "source": [
    "nz_admin_clean.head(20)"
   ]
  },
  {
   "cell_type": "code",
   "execution_count": null,
   "metadata": {},
   "outputs": [],
   "source": []
  },
  {
   "cell_type": "code",
   "execution_count": null,
   "metadata": {},
   "outputs": [],
   "source": []
  },
  {
   "cell_type": "markdown",
   "metadata": {},
   "source": [
    "# References\n",
    "We report here relevant references:\n",
    "1. author1, article1, journal1, year1, url1\n",
    "2. author2, article2, journal2, year2, url2"
   ]
  },
  {
   "cell_type": "code",
   "execution_count": null,
   "metadata": {},
   "outputs": [],
   "source": []
  },
  {
   "cell_type": "code",
   "execution_count": null,
   "metadata": {},
   "outputs": [],
   "source": []
  }
 ],
 "metadata": {
  "kernelspec": {
   "display_name": "Python 3",
   "language": "python",
   "name": "python3"
  },
  "language_info": {
   "codemirror_mode": {
    "name": "ipython",
    "version": 3
   },
   "file_extension": ".py",
   "mimetype": "text/x-python",
   "name": "python",
   "nbconvert_exporter": "python",
   "pygments_lexer": "ipython3",
   "version": "3.8.5"
  }
 },
 "nbformat": 4,
 "nbformat_minor": 4
}

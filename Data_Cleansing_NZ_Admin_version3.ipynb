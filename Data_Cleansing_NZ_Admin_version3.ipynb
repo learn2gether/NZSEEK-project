{
 "cells": [
  {
   "cell_type": "markdown",
   "metadata": {},
   "source": [
    "# Setup\n",
    "\n",
    "## Library import\n",
    "We import all the required Python libraries"
   ]
  },
  {
   "cell_type": "code",
   "execution_count": 1,
   "metadata": {},
   "outputs": [],
   "source": [
    "# Data manipulation\n",
    "import pandas as pd\n",
    "import numpy as np\n",
    "import re\n",
    "\n",
    "# Options for pandas\n",
    "pd.options.display.max_columns = 50\n",
    "pd.options.display.max_rows = 30\n",
    "pd.options.display.max_colwidth = None"
   ]
  },
  {
   "cell_type": "markdown",
   "metadata": {},
   "source": [
    "# Parameter definition\n",
    "We set all relevant parameters for our notebook. By convention, parameters are uppercase, while all the \n",
    "other variables follow Python's guidelines."
   ]
  },
  {
   "cell_type": "markdown",
   "metadata": {},
   "source": [
    "\n",
    "# Data import\n",
    "We retrieve all the required data for the analysis."
   ]
  },
  {
   "cell_type": "code",
   "execution_count": 2,
   "metadata": {},
   "outputs": [],
   "source": [
    "nz_admin = pd.read_excel(r'NZ_Admin_JOBS.xlsx')"
   ]
  },
  {
   "cell_type": "code",
   "execution_count": null,
   "metadata": {},
   "outputs": [],
   "source": []
  },
  {
   "cell_type": "code",
   "execution_count": 3,
   "metadata": {},
   "outputs": [
    {
     "name": "stdout",
     "output_type": "stream",
     "text": [
      "<class 'pandas.core.frame.DataFrame'>\n",
      "RangeIndex: 2708 entries, 0 to 2707\n",
      "Data columns (total 6 columns):\n",
      " #   Column    Non-Null Count  Dtype \n",
      "---  ------    --------------  ----- \n",
      " 0   字段1       2708 non-null   object\n",
      " 1   字段1_link  2708 non-null   object\n",
      " 2   字段2       2686 non-null   object\n",
      " 3   字段3       2708 non-null   object\n",
      " 4   字段4       2708 non-null   object\n",
      " 5   字段5       2708 non-null   object\n",
      "dtypes: object(6)\n",
      "memory usage: 127.1+ KB\n"
     ]
    }
   ],
   "source": [
    "nz_admin.info()"
   ]
  },
  {
   "cell_type": "markdown",
   "metadata": {},
   "source": [
    "## Function \"renameCol\""
   ]
  },
  {
   "cell_type": "code",
   "execution_count": 4,
   "metadata": {},
   "outputs": [],
   "source": [
    "def renameCol(df):\n",
    "    return df.rename({\n",
    "                '字段1': 'column1', \n",
    "                '字段1_link': 'column1_link',\n",
    "                '字段2': 'column2', \n",
    "                '字段3': 'column3',\n",
    "                '字段4': 'column4', \n",
    "                '字段5': 'column5'\n",
    "            }, axis=1, inplace=True)"
   ]
  },
  {
   "cell_type": "code",
   "execution_count": 5,
   "metadata": {},
   "outputs": [],
   "source": [
    "renameCol(nz_admin)"
   ]
  },
  {
   "cell_type": "markdown",
   "metadata": {},
   "source": [
    "# Data processing\n",
    "Put here the core of the notebook. Feel free di further split this section into subsections."
   ]
  },
  {
   "cell_type": "code",
   "execution_count": null,
   "metadata": {},
   "outputs": [],
   "source": []
  },
  {
   "cell_type": "markdown",
   "metadata": {},
   "source": [
    "## Column1_link - types of job posted\n",
    "## Function \"cleanCol1_link\""
   ]
  },
  {
   "cell_type": "code",
   "execution_count": 6,
   "metadata": {},
   "outputs": [],
   "source": [
    "def cleanCol1_link(df, col_edit, col_add, col_drop):\n",
    "    df[col_add] = df[col_edit].apply(lambda row: re.search(r'=(\\w+)#', row).group(1))\n",
    "    df.drop(col_drop, axis=1, inplace=True)\n",
    "    return df"
   ]
  },
  {
   "cell_type": "code",
   "execution_count": 7,
   "metadata": {},
   "outputs": [],
   "source": [
    "df = cleanCol1_link(nz_admin, 'column1_link', 'job_advert_type', 'column1_link')"
   ]
  },
  {
   "cell_type": "markdown",
   "metadata": {},
   "source": [
    "## Column1 - Occupation"
   ]
  },
  {
   "cell_type": "code",
   "execution_count": 8,
   "metadata": {},
   "outputs": [],
   "source": [
    "nz_admin.rename({'column1': 'occupation'}, axis=1, inplace=True)"
   ]
  },
  {
   "cell_type": "markdown",
   "metadata": {},
   "source": [
    "## Column2 - company name"
   ]
  },
  {
   "cell_type": "code",
   "execution_count": 9,
   "metadata": {},
   "outputs": [],
   "source": [
    "nz_admin['column2'].fillna(value=\"Private Advertiser\", inplace=True)"
   ]
  },
  {
   "cell_type": "code",
   "execution_count": 10,
   "metadata": {},
   "outputs": [],
   "source": [
    "nz_admin.rename({'column2': 'Company Name'}, axis=1, inplace=True)"
   ]
  },
  {
   "cell_type": "markdown",
   "metadata": {},
   "source": [
    "## Column3 - Company location (Area) / Company location (suburb) / Salary (Benefit)\n",
    "## Function \"clean_Col3\""
   ]
  },
  {
   "cell_type": "code",
   "execution_count": 11,
   "metadata": {},
   "outputs": [],
   "source": [
    "def address_area(address):\n",
    "    lst_address = [x.strip() for x in address.split(\":\")][1]\n",
    "    lst_area = re.findall('[A-Z][^A-Z]*', lst_address)\n",
    "    area = \"\"\n",
    "    for i in range(len(lst_area)//2):\n",
    "        area += lst_area[i]\n",
    "    return area"
   ]
  },
  {
   "cell_type": "code",
   "execution_count": 12,
   "metadata": {},
   "outputs": [],
   "source": [
    "def address_suburb(address):\n",
    "    lst_address = [x.strip() for x in address.split(\":\")]\n",
    "    if len(lst_address) == 3:\n",
    "        lst_suburb = re.findall('[A-Z][^A-Z]*', lst_address[2])\n",
    "        suburb = \"\"\n",
    "        for i in range(len(lst_suburb)//2):\n",
    "            suburb += lst_suburb[i]\n",
    "        return suburb"
   ]
  },
  {
   "cell_type": "code",
   "execution_count": 13,
   "metadata": {},
   "outputs": [],
   "source": [
    "def address_benefit(address):\n",
    "    benefit = address.split(',', 1)\n",
    "    if len(benefit)>1:\n",
    "        return benefit[1]"
   ]
  },
  {
   "cell_type": "code",
   "execution_count": 14,
   "metadata": {},
   "outputs": [],
   "source": [
    "col_add = [\n",
    "    'Company location (Area)',\n",
    "    'Company location (suburb)',\n",
    "    'Salary($)(Benefit)'\n",
    "]"
   ]
  },
  {
   "cell_type": "code",
   "execution_count": 15,
   "metadata": {},
   "outputs": [],
   "source": [
    "func = [\n",
    "    address_area,\n",
    "    address_suburb,\n",
    "    address_benefit\n",
    "]"
   ]
  },
  {
   "cell_type": "code",
   "execution_count": 16,
   "metadata": {},
   "outputs": [],
   "source": [
    "def clean_Col3(df, col_edit, col_add, col_drop, func):\n",
    "    df[col_add[0]] = df[col_edit].apply(lambda row: func[0](row))\n",
    "    df[col_add[1]] = df[col_edit].apply(lambda row: func[1](row))\n",
    "    df[col_add[2]] = df[col_edit].apply(lambda row: func[2](row))\n",
    "    df.drop(col_drop, axis=1, inplace=True)\n",
    "    return df"
   ]
  },
  {
   "cell_type": "code",
   "execution_count": 17,
   "metadata": {},
   "outputs": [],
   "source": [
    "df = clean_Col3(nz_admin, 'column3', col_add, 'column3', func)"
   ]
  },
  {
   "cell_type": "markdown",
   "metadata": {},
   "source": [
    "## Column4 - Job_Posted(days ago)"
   ]
  },
  {
   "cell_type": "code",
   "execution_count": 18,
   "metadata": {},
   "outputs": [],
   "source": [
    "def job_posted_days(row):\n",
    "    try:\n",
    "        if re.search(r'(\\d*)(\\w)', re.search(r'(\\d+)(\\w)', row).group()).group(2) == 'd':\n",
    "            return re.search(r'(\\d*)(\\w)', re.search(r'(\\d+)(\\w)', row).group()).group(1)\n",
    "        else:\n",
    "            return 0\n",
    "    except:\n",
    "      return None"
   ]
  },
  {
   "cell_type": "code",
   "execution_count": 19,
   "metadata": {},
   "outputs": [],
   "source": [
    "def clean_Col4(df, col_edit, col_add, col_drop, func):\n",
    "    df[col_add] = df[col_edit].apply(lambda row: func(row))\n",
    "    df.drop(col_drop, axis=1, inplace=True)\n",
    "    return df"
   ]
  },
  {
   "cell_type": "code",
   "execution_count": 20,
   "metadata": {},
   "outputs": [],
   "source": [
    "df = clean_Col4(nz_admin, 'column4', 'Job_Posted(days ago)', 'column4', job_posted_days)"
   ]
  },
  {
   "cell_type": "markdown",
   "metadata": {},
   "source": [
    "## Column5 - job_classification / job_subclassification"
   ]
  },
  {
   "cell_type": "code",
   "execution_count": 21,
   "metadata": {},
   "outputs": [],
   "source": [
    "def return_classification(row):\n",
    "    lst_row = row.split(':')\n",
    "    classfication = \"\"\n",
    "    if len(lst_row)==1:\n",
    "        return None\n",
    "    else:\n",
    "        lst_class = re.findall('[A-Z][^A-Z]*', lst_row[1].split('subClassfication')[0])\n",
    "        for i in range(len(lst_class)//2):\n",
    "            classfication += lst_class[i]\n",
    "        return classfication"
   ]
  },
  {
   "cell_type": "code",
   "execution_count": 22,
   "metadata": {},
   "outputs": [],
   "source": [
    "def return_subclass(row):\n",
    "    lst_row = row.split(':')\n",
    "    subclass = \"\"\n",
    "    if len(lst_row)==1:\n",
    "        return None\n",
    "    else:\n",
    "        lst_subclass = re.findall('[A-Z][^A-Z]*', lst_row[2])\n",
    "        for i in range(len(lst_subclass)//2):\n",
    "            subclass += lst_subclass[i]\n",
    "        return subclass"
   ]
  },
  {
   "cell_type": "code",
   "execution_count": 23,
   "metadata": {},
   "outputs": [],
   "source": [
    "col_add = [\n",
    "    'job_classification',\n",
    "    'job_subclassification'\n",
    "]"
   ]
  },
  {
   "cell_type": "code",
   "execution_count": 24,
   "metadata": {},
   "outputs": [],
   "source": [
    "func = [\n",
    "    return_classification,\n",
    "    return_subclass\n",
    "]"
   ]
  },
  {
   "cell_type": "code",
   "execution_count": 25,
   "metadata": {},
   "outputs": [],
   "source": [
    "def clean_Col5(df, col_edit, col_add, col_drop, func):\n",
    "    df[col_add[0]] = df[col_edit].apply(lambda row: func[0](row))\n",
    "    df[col_add[1]] = df[col_edit].apply(lambda row: func[1](row))\n",
    "    df.drop(col_drop, axis=1, inplace=True)\n",
    "    return df"
   ]
  },
  {
   "cell_type": "code",
   "execution_count": 26,
   "metadata": {},
   "outputs": [],
   "source": [
    "df = clean_Col5(nz_admin, 'column5', col_add, 'column5', func)"
   ]
  },
  {
   "cell_type": "markdown",
   "metadata": {},
   "source": [
    "## Clean dataset"
   ]
  },
  {
   "cell_type": "code",
   "execution_count": 27,
   "metadata": {},
   "outputs": [],
   "source": [
    "nz_admin_clean = nz_admin"
   ]
  },
  {
   "cell_type": "code",
   "execution_count": 28,
   "metadata": {},
   "outputs": [
    {
     "data": {
      "text/html": [
       "<div>\n",
       "<style scoped>\n",
       "    .dataframe tbody tr th:only-of-type {\n",
       "        vertical-align: middle;\n",
       "    }\n",
       "\n",
       "    .dataframe tbody tr th {\n",
       "        vertical-align: top;\n",
       "    }\n",
       "\n",
       "    .dataframe thead th {\n",
       "        text-align: right;\n",
       "    }\n",
       "</style>\n",
       "<table border=\"1\" class=\"dataframe\">\n",
       "  <thead>\n",
       "    <tr style=\"text-align: right;\">\n",
       "      <th></th>\n",
       "      <th>occupation</th>\n",
       "      <th>Company Name</th>\n",
       "      <th>job_advert_type</th>\n",
       "      <th>Company location (Area)</th>\n",
       "      <th>Company location (suburb)</th>\n",
       "      <th>Salary($)(Benefit)</th>\n",
       "      <th>Job_Posted(days ago)</th>\n",
       "      <th>job_classification</th>\n",
       "      <th>job_subclassification</th>\n",
       "    </tr>\n",
       "  </thead>\n",
       "  <tbody>\n",
       "    <tr>\n",
       "      <th>0</th>\n",
       "      <td>Administrator</td>\n",
       "      <td>Private Advertiser</td>\n",
       "      <td>promoted</td>\n",
       "      <td>Bay of Plenty</td>\n",
       "      <td>Tauranga</td>\n",
       "      <td>None</td>\n",
       "      <td>None</td>\n",
       "      <td>Administration &amp; Office Support</td>\n",
       "      <td>Office Management</td>\n",
       "    </tr>\n",
       "    <tr>\n",
       "      <th>1</th>\n",
       "      <td>Receptionist</td>\n",
       "      <td>Avenues Orthodontics</td>\n",
       "      <td>promoted</td>\n",
       "      <td>Bay of Plenty</td>\n",
       "      <td>Tauranga</td>\n",
       "      <td>None</td>\n",
       "      <td>None</td>\n",
       "      <td>Administration &amp; Office Support</td>\n",
       "      <td>Receptionists</td>\n",
       "    </tr>\n",
       "    <tr>\n",
       "      <th>2</th>\n",
       "      <td>Prosecutions Support Officer</td>\n",
       "      <td>New Zealand Police</td>\n",
       "      <td>standard</td>\n",
       "      <td>Auckland</td>\n",
       "      <td>None</td>\n",
       "      <td>None</td>\n",
       "      <td>4</td>\n",
       "      <td>Administration &amp; Office Support</td>\n",
       "      <td>Other</td>\n",
       "    </tr>\n",
       "    <tr>\n",
       "      <th>3</th>\n",
       "      <td>Early Childhood Centre Administrator</td>\n",
       "      <td>Kew Pacific Island Early Learning Centre</td>\n",
       "      <td>standard</td>\n",
       "      <td>Southland</td>\n",
       "      <td>Invercargill</td>\n",
       "      <td>None</td>\n",
       "      <td>0</td>\n",
       "      <td>Administration &amp; Office Support</td>\n",
       "      <td>Administrative Assistants</td>\n",
       "    </tr>\n",
       "    <tr>\n",
       "      <th>4</th>\n",
       "      <td>Business Support Administrator</td>\n",
       "      <td>Private Advertiser</td>\n",
       "      <td>standout</td>\n",
       "      <td>Canterbury</td>\n",
       "      <td>Christchurch</td>\n",
       "      <td>None</td>\n",
       "      <td>4</td>\n",
       "      <td>Administration &amp; Office Support</td>\n",
       "      <td>Client &amp; Sales Administration</td>\n",
       "    </tr>\n",
       "    <tr>\n",
       "      <th>5</th>\n",
       "      <td>Support Officer</td>\n",
       "      <td>Ministry for Primary Industries</td>\n",
       "      <td>standout</td>\n",
       "      <td>Northland</td>\n",
       "      <td>Whangarei</td>\n",
       "      <td>None</td>\n",
       "      <td>0</td>\n",
       "      <td>Administration &amp; Office Support</td>\n",
       "      <td>Administrative Assistants</td>\n",
       "    </tr>\n",
       "    <tr>\n",
       "      <th>6</th>\n",
       "      <td>Support Officer</td>\n",
       "      <td>Ministry of Business, Innovation and Employment</td>\n",
       "      <td>standout</td>\n",
       "      <td>Wellington</td>\n",
       "      <td>Wellington Central</td>\n",
       "      <td>None</td>\n",
       "      <td>5</td>\n",
       "      <td>Administration &amp; Office Support</td>\n",
       "      <td>Other</td>\n",
       "    </tr>\n",
       "    <tr>\n",
       "      <th>7</th>\n",
       "      <td>office administrator</td>\n",
       "      <td>Hepburn Electrical Ltd</td>\n",
       "      <td>standard</td>\n",
       "      <td>Bay of Plenty</td>\n",
       "      <td>Rotorua</td>\n",
       "      <td>None</td>\n",
       "      <td>0</td>\n",
       "      <td>Administration &amp; Office Support</td>\n",
       "      <td>Administrative Assistants</td>\n",
       "    </tr>\n",
       "    <tr>\n",
       "      <th>8</th>\n",
       "      <td>Office Administrator</td>\n",
       "      <td>Webster Holland Ltd</td>\n",
       "      <td>standard</td>\n",
       "      <td>Bay of Plenty</td>\n",
       "      <td>Tauranga</td>\n",
       "      <td>None</td>\n",
       "      <td>0</td>\n",
       "      <td>Administration &amp; Office Support</td>\n",
       "      <td>Administrative Assistants</td>\n",
       "    </tr>\n",
       "    <tr>\n",
       "      <th>9</th>\n",
       "      <td>Administration Officer</td>\n",
       "      <td>New Zealand Police</td>\n",
       "      <td>standard</td>\n",
       "      <td>Canterbury</td>\n",
       "      <td>None</td>\n",
       "      <td>None</td>\n",
       "      <td>3</td>\n",
       "      <td>Administration &amp; Office Support</td>\n",
       "      <td>Other</td>\n",
       "    </tr>\n",
       "    <tr>\n",
       "      <th>10</th>\n",
       "      <td>Administration Officer</td>\n",
       "      <td>Department of Conservation</td>\n",
       "      <td>standout</td>\n",
       "      <td>West Coast</td>\n",
       "      <td>Rest of West Coast</td>\n",
       "      <td>None</td>\n",
       "      <td>7</td>\n",
       "      <td>Administration &amp; Office Support</td>\n",
       "      <td>Administrative Assistants</td>\n",
       "    </tr>\n",
       "    <tr>\n",
       "      <th>11</th>\n",
       "      <td>Data Entry</td>\n",
       "      <td>Triple One Care</td>\n",
       "      <td>standard</td>\n",
       "      <td>Tasman</td>\n",
       "      <td>Nelson</td>\n",
       "      <td>None</td>\n",
       "      <td>5</td>\n",
       "      <td>Administration &amp; Office Support</td>\n",
       "      <td>Data Entry &amp; Word Processing</td>\n",
       "    </tr>\n",
       "    <tr>\n",
       "      <th>12</th>\n",
       "      <td>Office Admin Assistant (10hrs per week)</td>\n",
       "      <td>UIV Limited - Premier Insulation North Central</td>\n",
       "      <td>standard</td>\n",
       "      <td>Auckland</td>\n",
       "      <td>Manukau &amp; East Auckland</td>\n",
       "      <td>$20 per hour</td>\n",
       "      <td>8</td>\n",
       "      <td>None</td>\n",
       "      <td>None</td>\n",
       "    </tr>\n",
       "    <tr>\n",
       "      <th>13</th>\n",
       "      <td>Office Administrator</td>\n",
       "      <td>Wraight and Associates Ltd.</td>\n",
       "      <td>standard</td>\n",
       "      <td>Wellington</td>\n",
       "      <td>Wellington Central</td>\n",
       "      <td>None</td>\n",
       "      <td>3</td>\n",
       "      <td>Administration &amp; Office Support</td>\n",
       "      <td>Office Management</td>\n",
       "    </tr>\n",
       "    <tr>\n",
       "      <th>14</th>\n",
       "      <td>Office Administrator</td>\n",
       "      <td>Morgan &amp; Pollard Landscapes Ltd</td>\n",
       "      <td>standout</td>\n",
       "      <td>Canterbury</td>\n",
       "      <td>Rest of Canterbury</td>\n",
       "      <td>None</td>\n",
       "      <td>3</td>\n",
       "      <td>Administration &amp; Office Support</td>\n",
       "      <td>Administrative Assistants</td>\n",
       "    </tr>\n",
       "    <tr>\n",
       "      <th>15</th>\n",
       "      <td>Customer Service Officer</td>\n",
       "      <td>CM Trailer Parts</td>\n",
       "      <td>standout</td>\n",
       "      <td>Canterbury</td>\n",
       "      <td>Timaru &amp; South Canterbury</td>\n",
       "      <td>None</td>\n",
       "      <td>5</td>\n",
       "      <td>Administration &amp; Office Support</td>\n",
       "      <td>Client &amp; Sales Administration</td>\n",
       "    </tr>\n",
       "    <tr>\n",
       "      <th>16</th>\n",
       "      <td>Administration Assistant - Mt Wellington</td>\n",
       "      <td>Harvey Norman</td>\n",
       "      <td>standout</td>\n",
       "      <td>Auckland</td>\n",
       "      <td>Auckland Central</td>\n",
       "      <td>None</td>\n",
       "      <td>0</td>\n",
       "      <td>Administration &amp; Office Support</td>\n",
       "      <td>Administrative Assistants</td>\n",
       "    </tr>\n",
       "    <tr>\n",
       "      <th>17</th>\n",
       "      <td>Part-time Health &amp; Disability Administrative Assistant</td>\n",
       "      <td>LIFEWISE</td>\n",
       "      <td>standout</td>\n",
       "      <td>Auckland</td>\n",
       "      <td>Auckland Central</td>\n",
       "      <td>$20 - $24.99 per hour</td>\n",
       "      <td>6</td>\n",
       "      <td>None</td>\n",
       "      <td>None</td>\n",
       "    </tr>\n",
       "    <tr>\n",
       "      <th>18</th>\n",
       "      <td>Office Coordinator, Whangarei Youth Space</td>\n",
       "      <td>Whangarei Youth Space</td>\n",
       "      <td>standard</td>\n",
       "      <td>Northland</td>\n",
       "      <td>Whangarei</td>\n",
       "      <td>None</td>\n",
       "      <td>3</td>\n",
       "      <td>Administration &amp; Office Support</td>\n",
       "      <td>Administrative Assistants</td>\n",
       "    </tr>\n",
       "    <tr>\n",
       "      <th>19</th>\n",
       "      <td>Administrator</td>\n",
       "      <td>Private Advertiser</td>\n",
       "      <td>standard</td>\n",
       "      <td>Manawatu</td>\n",
       "      <td>Rest of Manawatu</td>\n",
       "      <td>None</td>\n",
       "      <td>7</td>\n",
       "      <td>Administration &amp; Office Support</td>\n",
       "      <td>Other</td>\n",
       "    </tr>\n",
       "  </tbody>\n",
       "</table>\n",
       "</div>"
      ],
      "text/plain": [
       "                                                occupation  \\\n",
       "0                                            Administrator   \n",
       "1                                             Receptionist   \n",
       "2                             Prosecutions Support Officer   \n",
       "3                     Early Childhood Centre Administrator   \n",
       "4                           Business Support Administrator   \n",
       "5                                          Support Officer   \n",
       "6                                          Support Officer   \n",
       "7                                     office administrator   \n",
       "8                                     Office Administrator   \n",
       "9                                   Administration Officer   \n",
       "10                                  Administration Officer   \n",
       "11                                              Data Entry   \n",
       "12                 Office Admin Assistant (10hrs per week)   \n",
       "13                                    Office Administrator   \n",
       "14                                    Office Administrator   \n",
       "15                                Customer Service Officer   \n",
       "16                Administration Assistant - Mt Wellington   \n",
       "17  Part-time Health & Disability Administrative Assistant   \n",
       "18               Office Coordinator, Whangarei Youth Space   \n",
       "19                                           Administrator   \n",
       "\n",
       "                                       Company Name job_advert_type  \\\n",
       "0                                Private Advertiser        promoted   \n",
       "1                              Avenues Orthodontics        promoted   \n",
       "2                                New Zealand Police        standard   \n",
       "3          Kew Pacific Island Early Learning Centre        standard   \n",
       "4                                Private Advertiser        standout   \n",
       "5                   Ministry for Primary Industries        standout   \n",
       "6   Ministry of Business, Innovation and Employment        standout   \n",
       "7                            Hepburn Electrical Ltd        standard   \n",
       "8                               Webster Holland Ltd        standard   \n",
       "9                                New Zealand Police        standard   \n",
       "10                       Department of Conservation        standout   \n",
       "11                                  Triple One Care        standard   \n",
       "12   UIV Limited - Premier Insulation North Central        standard   \n",
       "13                      Wraight and Associates Ltd.        standard   \n",
       "14                  Morgan & Pollard Landscapes Ltd        standout   \n",
       "15                                 CM Trailer Parts        standout   \n",
       "16                                    Harvey Norman        standout   \n",
       "17                                         LIFEWISE        standout   \n",
       "18                            Whangarei Youth Space        standard   \n",
       "19                               Private Advertiser        standard   \n",
       "\n",
       "   Company location (Area)  Company location (suburb)     Salary($)(Benefit)  \\\n",
       "0            Bay of Plenty                   Tauranga                   None   \n",
       "1            Bay of Plenty                   Tauranga                   None   \n",
       "2                 Auckland                       None                   None   \n",
       "3                Southland               Invercargill                   None   \n",
       "4               Canterbury               Christchurch                   None   \n",
       "5                Northland                  Whangarei                   None   \n",
       "6               Wellington         Wellington Central                   None   \n",
       "7            Bay of Plenty                    Rotorua                   None   \n",
       "8            Bay of Plenty                   Tauranga                   None   \n",
       "9               Canterbury                       None                   None   \n",
       "10              West Coast         Rest of West Coast                   None   \n",
       "11                  Tasman                     Nelson                   None   \n",
       "12                Auckland    Manukau & East Auckland           $20 per hour   \n",
       "13              Wellington         Wellington Central                   None   \n",
       "14              Canterbury         Rest of Canterbury                   None   \n",
       "15              Canterbury  Timaru & South Canterbury                   None   \n",
       "16                Auckland           Auckland Central                   None   \n",
       "17                Auckland           Auckland Central  $20 - $24.99 per hour   \n",
       "18               Northland                  Whangarei                   None   \n",
       "19                Manawatu           Rest of Manawatu                   None   \n",
       "\n",
       "   Job_Posted(days ago)               job_classification  \\\n",
       "0                  None  Administration & Office Support   \n",
       "1                  None  Administration & Office Support   \n",
       "2                     4  Administration & Office Support   \n",
       "3                     0  Administration & Office Support   \n",
       "4                     4  Administration & Office Support   \n",
       "5                     0  Administration & Office Support   \n",
       "6                     5  Administration & Office Support   \n",
       "7                     0  Administration & Office Support   \n",
       "8                     0  Administration & Office Support   \n",
       "9                     3  Administration & Office Support   \n",
       "10                    7  Administration & Office Support   \n",
       "11                    5  Administration & Office Support   \n",
       "12                    8                             None   \n",
       "13                    3  Administration & Office Support   \n",
       "14                    3  Administration & Office Support   \n",
       "15                    5  Administration & Office Support   \n",
       "16                    0  Administration & Office Support   \n",
       "17                    6                             None   \n",
       "18                    3  Administration & Office Support   \n",
       "19                    7  Administration & Office Support   \n",
       "\n",
       "            job_subclassification  \n",
       "0               Office Management  \n",
       "1                   Receptionists  \n",
       "2                           Other  \n",
       "3       Administrative Assistants  \n",
       "4   Client & Sales Administration  \n",
       "5       Administrative Assistants  \n",
       "6                           Other  \n",
       "7       Administrative Assistants  \n",
       "8       Administrative Assistants  \n",
       "9                           Other  \n",
       "10      Administrative Assistants  \n",
       "11   Data Entry & Word Processing  \n",
       "12                           None  \n",
       "13              Office Management  \n",
       "14      Administrative Assistants  \n",
       "15  Client & Sales Administration  \n",
       "16      Administrative Assistants  \n",
       "17                           None  \n",
       "18      Administrative Assistants  \n",
       "19                          Other  "
      ]
     },
     "execution_count": 28,
     "metadata": {},
     "output_type": "execute_result"
    }
   ],
   "source": [
    "nz_admin_clean.head(20)"
   ]
  },
  {
   "cell_type": "code",
   "execution_count": null,
   "metadata": {},
   "outputs": [],
   "source": []
  },
  {
   "cell_type": "code",
   "execution_count": null,
   "metadata": {},
   "outputs": [],
   "source": []
  },
  {
   "cell_type": "markdown",
   "metadata": {},
   "source": [
    "# References\n",
    "We report here relevant references:\n",
    "1. author1, article1, journal1, year1, url1\n",
    "2. author2, article2, journal2, year2, url2"
   ]
  },
  {
   "cell_type": "code",
   "execution_count": null,
   "metadata": {},
   "outputs": [],
   "source": []
  },
  {
   "cell_type": "code",
   "execution_count": null,
   "metadata": {},
   "outputs": [],
   "source": []
  }
 ],
 "metadata": {
  "kernelspec": {
   "display_name": "Python 3",
   "language": "python",
   "name": "python3"
  },
  "language_info": {
   "codemirror_mode": {
    "name": "ipython",
    "version": 3
   },
   "file_extension": ".py",
   "mimetype": "text/x-python",
   "name": "python",
   "nbconvert_exporter": "python",
   "pygments_lexer": "ipython3",
   "version": "3.8.5"
  }
 },
 "nbformat": 4,
 "nbformat_minor": 4
}

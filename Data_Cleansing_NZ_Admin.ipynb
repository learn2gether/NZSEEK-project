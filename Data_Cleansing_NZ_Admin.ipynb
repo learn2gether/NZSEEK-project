{
 "cells": [
  {
   "cell_type": "markdown",
   "metadata": {},
   "source": [
    "# Title   \n",
    "*YL_Data_Cleansing_NZ_Admin.ipynb*\n",
    "\n",
    "## Purpose\n",
    "- NZ_admin is a raw dataset, and the task is to conduct a data-cleansing.\n",
    "- The clean dataset should be readable and able to do the further analysis such as data visualization. \n",
    "\n",
    "## Methodology\n",
    "Quickly describe assumptions and processing steps.\n",
    "\n",
    "## WIP - improvements\n",
    "Use this section only if the notebook is not final.\n",
    "\n",
    "Notable TODOs:\n",
    "- todo 1;\n",
    "- todo 2;\n",
    "- todo 3.\n",
    "\n",
    "## Results\n",
    "Describe and comment the most important results.\n",
    "\n",
    "## Suggested next steps\n",
    "State suggested next steps, based on results obtained in this notebook."
   ]
  },
  {
   "cell_type": "markdown",
   "metadata": {
    "heading_collapsed": true
   },
   "source": [
    "# Setup\n",
    "\n",
    "## Library import\n",
    "We import all the required Python libraries"
   ]
  },
  {
   "cell_type": "code",
   "execution_count": 154,
   "metadata": {
    "hidden": true
   },
   "outputs": [
    {
     "data": {
      "text/html": [
       "        <script type=\"text/javascript\">\n",
       "        window.PlotlyConfig = {MathJaxConfig: 'local'};\n",
       "        if (window.MathJax) {MathJax.Hub.Config({SVG: {font: \"STIX-Web\"}});}\n",
       "        if (typeof require !== 'undefined') {\n",
       "        require.undef(\"plotly\");\n",
       "        requirejs.config({\n",
       "            paths: {\n",
       "                'plotly': ['https://cdn.plot.ly/plotly-latest.min']\n",
       "            }\n",
       "        });\n",
       "        require(['plotly'], function(Plotly) {\n",
       "            window._Plotly = Plotly;\n",
       "        });\n",
       "        }\n",
       "        </script>\n",
       "        "
      ]
     },
     "metadata": {},
     "output_type": "display_data"
    }
   ],
   "source": [
    "# Data manipulation\n",
    "import pandas as pd\n",
    "import numpy as np\n",
    "\n",
    "# Options for pandas\n",
    "pd.options.display.max_columns = 50\n",
    "pd.options.display.max_rows = 30\n",
    "pd.options.display.max_colwidth = None\n",
    "\n",
    "# Visualizations\n",
    "import plotly\n",
    "import plotly.graph_objs as go\n",
    "import plotly.offline as ply\n",
    "plotly.offline.init_notebook_mode(connected=True)\n",
    "\n",
    "# import cufflinks as cf\n",
    "# cf.go_offline(connected=True)\n",
    "# cf.set_config_file(theme='white')\n",
    "\n",
    "import matplotlib as plt\n",
    "%matplotlib inline\n",
    "\n",
    "# missing value visualization\n",
    "import missingno as msno\n",
    "\n",
    "# python regex\n",
    "import re\n",
    "\n",
    "# Autoreload extension\n",
    "if 'autoreload' not in get_ipython().extension_manager.loaded:\n",
    "    %load_ext autoreload\n",
    "    \n",
    "%autoreload 2"
   ]
  },
  {
   "cell_type": "markdown",
   "metadata": {
    "heading_collapsed": true,
    "hidden": true
   },
   "source": [
    "## Local library import\n",
    "We import all the required local libraries libraries"
   ]
  },
  {
   "cell_type": "code",
   "execution_count": null,
   "metadata": {
    "hidden": true
   },
   "outputs": [],
   "source": [
    "# Include local library paths\n",
    "import sys\n",
    "# sys.path.append('path/to/local/lib') # uncomment and fill to import local libraries\n",
    "\n",
    "# Import local libraries"
   ]
  },
  {
   "cell_type": "markdown",
   "metadata": {
    "heading_collapsed": true
   },
   "source": [
    "# Parameter definition\n",
    "We set all relevant parameters for our notebook. By convention, parameters are uppercase, while all the \n",
    "other variables follow Python's guidelines."
   ]
  },
  {
   "cell_type": "markdown",
   "metadata": {
    "hidden": true
   },
   "source": [
    "\n",
    "# Data import\n",
    "We retrieve all the required data for the analysis."
   ]
  },
  {
   "cell_type": "code",
   "execution_count": 6,
   "metadata": {
    "hidden": true
   },
   "outputs": [],
   "source": [
    "nz_admin = pd.read_excel(r'NZ_Admin_JOBS.xlsx')"
   ]
  },
  {
   "cell_type": "code",
   "execution_count": 8,
   "metadata": {
    "hidden": true
   },
   "outputs": [
    {
     "data": {
      "text/html": [
       "<div>\n",
       "<style scoped>\n",
       "    .dataframe tbody tr th:only-of-type {\n",
       "        vertical-align: middle;\n",
       "    }\n",
       "\n",
       "    .dataframe tbody tr th {\n",
       "        vertical-align: top;\n",
       "    }\n",
       "\n",
       "    .dataframe thead th {\n",
       "        text-align: right;\n",
       "    }\n",
       "</style>\n",
       "<table border=\"1\" class=\"dataframe\">\n",
       "  <thead>\n",
       "    <tr style=\"text-align: right;\">\n",
       "      <th></th>\n",
       "      <th>字段1</th>\n",
       "      <th>字段1_link</th>\n",
       "      <th>字段2</th>\n",
       "      <th>字段3</th>\n",
       "      <th>字段4</th>\n",
       "      <th>字段5</th>\n",
       "    </tr>\n",
       "  </thead>\n",
       "  <tbody>\n",
       "    <tr>\n",
       "      <th>0</th>\n",
       "      <td>Administrator</td>\n",
       "      <td>https://www.seek.co.nz/job/50582301?type=promo...</td>\n",
       "      <td>NaN</td>\n",
       "      <td>location: Bay of PlentyBay of Plentyarea: Taur...</td>\n",
       "      <td>Featured,at,Private Advertiser</td>\n",
       "      <td>classification: Administration &amp; Office Suppor...</td>\n",
       "    </tr>\n",
       "    <tr>\n",
       "      <th>1</th>\n",
       "      <td>Receptionist</td>\n",
       "      <td>https://www.seek.co.nz/job/50620889?type=promo...</td>\n",
       "      <td>Avenues Orthodontics</td>\n",
       "      <td>location: Bay of PlentyBay of Plentyarea: Taur...</td>\n",
       "      <td>Featured,at</td>\n",
       "      <td>classification: Administration &amp; Office Suppor...</td>\n",
       "    </tr>\n",
       "    <tr>\n",
       "      <th>2</th>\n",
       "      <td>Prosecutions Support Officer</td>\n",
       "      <td>https://www.seek.co.nz/job/50622169?type=stand...</td>\n",
       "      <td>New Zealand Police</td>\n",
       "      <td>location: AucklandAuckland</td>\n",
       "      <td>4d ago,at</td>\n",
       "      <td>classification: Administration &amp; Office Suppor...</td>\n",
       "    </tr>\n",
       "    <tr>\n",
       "      <th>3</th>\n",
       "      <td>Early Childhood Centre Administrator</td>\n",
       "      <td>https://www.seek.co.nz/job/50639620?type=stand...</td>\n",
       "      <td>Kew Pacific Island Early Learning Centre</td>\n",
       "      <td>location: SouthlandSouthlandarea: Invercargill...</td>\n",
       "      <td>1h ago,at</td>\n",
       "      <td>classification: Administration &amp; Office Suppor...</td>\n",
       "    </tr>\n",
       "    <tr>\n",
       "      <th>4</th>\n",
       "      <td>Business Support Administrator</td>\n",
       "      <td>https://www.seek.co.nz/job/50622432?type=stand...</td>\n",
       "      <td>NaN</td>\n",
       "      <td>location: CanterburyCanterburyarea: Christchur...</td>\n",
       "      <td>4d ago,at,Private Advertiser</td>\n",
       "      <td>classification: Administration &amp; Office Suppor...</td>\n",
       "    </tr>\n",
       "  </tbody>\n",
       "</table>\n",
       "</div>"
      ],
      "text/plain": [
       "                                    字段1  \\\n",
       "0                         Administrator   \n",
       "1                          Receptionist   \n",
       "2          Prosecutions Support Officer   \n",
       "3  Early Childhood Centre Administrator   \n",
       "4        Business Support Administrator   \n",
       "\n",
       "                                            字段1_link  \\\n",
       "0  https://www.seek.co.nz/job/50582301?type=promo...   \n",
       "1  https://www.seek.co.nz/job/50620889?type=promo...   \n",
       "2  https://www.seek.co.nz/job/50622169?type=stand...   \n",
       "3  https://www.seek.co.nz/job/50639620?type=stand...   \n",
       "4  https://www.seek.co.nz/job/50622432?type=stand...   \n",
       "\n",
       "                                        字段2  \\\n",
       "0                                       NaN   \n",
       "1                      Avenues Orthodontics   \n",
       "2                        New Zealand Police   \n",
       "3  Kew Pacific Island Early Learning Centre   \n",
       "4                                       NaN   \n",
       "\n",
       "                                                 字段3  \\\n",
       "0  location: Bay of PlentyBay of Plentyarea: Taur...   \n",
       "1  location: Bay of PlentyBay of Plentyarea: Taur...   \n",
       "2                         location: AucklandAuckland   \n",
       "3  location: SouthlandSouthlandarea: Invercargill...   \n",
       "4  location: CanterburyCanterburyarea: Christchur...   \n",
       "\n",
       "                              字段4  \\\n",
       "0  Featured,at,Private Advertiser   \n",
       "1                     Featured,at   \n",
       "2                       4d ago,at   \n",
       "3                       1h ago,at   \n",
       "4    4d ago,at,Private Advertiser   \n",
       "\n",
       "                                                 字段5  \n",
       "0  classification: Administration & Office Suppor...  \n",
       "1  classification: Administration & Office Suppor...  \n",
       "2  classification: Administration & Office Suppor...  \n",
       "3  classification: Administration & Office Suppor...  \n",
       "4  classification: Administration & Office Suppor...  "
      ]
     },
     "execution_count": 8,
     "metadata": {},
     "output_type": "execute_result"
    }
   ],
   "source": [
    "nz_admin.head()"
   ]
  },
  {
   "cell_type": "code",
   "execution_count": 14,
   "metadata": {
    "hidden": true
   },
   "outputs": [
    {
     "name": "stdout",
     "output_type": "stream",
     "text": [
      "<class 'pandas.core.frame.DataFrame'>\n",
      "RangeIndex: 2708 entries, 0 to 2707\n",
      "Data columns (total 6 columns):\n",
      " #   Column    Non-Null Count  Dtype \n",
      "---  ------    --------------  ----- \n",
      " 0   字段1       2708 non-null   object\n",
      " 1   字段1_link  2708 non-null   object\n",
      " 2   字段2       2686 non-null   object\n",
      " 3   字段3       2708 non-null   object\n",
      " 4   字段4       2708 non-null   object\n",
      " 5   字段5       2708 non-null   object\n",
      "dtypes: object(6)\n",
      "memory usage: 127.1+ KB\n"
     ]
    }
   ],
   "source": [
    "nz_admin.info()"
   ]
  },
  {
   "cell_type": "code",
   "execution_count": null,
   "metadata": {
    "hidden": true
   },
   "outputs": [],
   "source": []
  },
  {
   "cell_type": "code",
   "execution_count": null,
   "metadata": {
    "hidden": true
   },
   "outputs": [],
   "source": []
  },
  {
   "cell_type": "code",
   "execution_count": null,
   "metadata": {
    "hidden": true
   },
   "outputs": [],
   "source": []
  },
  {
   "cell_type": "code",
   "execution_count": null,
   "metadata": {
    "hidden": true
   },
   "outputs": [],
   "source": []
  },
  {
   "cell_type": "markdown",
   "metadata": {},
   "source": [
    "# Data processing\n",
    "Put here the core of the notebook. Feel free di further split this section into subsections."
   ]
  },
  {
   "cell_type": "code",
   "execution_count": null,
   "metadata": {},
   "outputs": [],
   "source": []
  },
  {
   "cell_type": "markdown",
   "metadata": {
    "heading_collapsed": true
   },
   "source": [
    "## Column \"字段1_link\" "
   ]
  },
  {
   "cell_type": "code",
   "execution_count": 111,
   "metadata": {
    "hidden": true
   },
   "outputs": [
    {
     "data": {
      "text/plain": [
       "字段1                                             Administrator\n",
       "字段1_link    https://www.seek.co.nz/job/50582301?type=promo...\n",
       "字段2                                                       NaN\n",
       "字段3         location: Bay of PlentyBay of Plentyarea: Taur...\n",
       "字段4                            Featured,at,Private Advertiser\n",
       "字段5         classification: Administration & Office Suppor...\n",
       "Name: 0, dtype: object"
      ]
     },
     "execution_count": 111,
     "metadata": {},
     "output_type": "execute_result"
    }
   ],
   "source": [
    "nz_admin.iloc[0]"
   ]
  },
  {
   "cell_type": "code",
   "execution_count": 79,
   "metadata": {
    "hidden": true
   },
   "outputs": [
    {
     "data": {
      "text/plain": [
       "'50582301'"
      ]
     },
     "execution_count": 79,
     "metadata": {},
     "output_type": "execute_result"
    }
   ],
   "source": [
    "re.search(r'(\\/)(\\d+)(\\?)', nz_admin.iloc[0][1]).group(2)"
   ]
  },
  {
   "cell_type": "code",
   "execution_count": 93,
   "metadata": {
    "hidden": true
   },
   "outputs": [
    {
     "data": {
      "text/plain": [
       "0       50582301\n",
       "1       50620889\n",
       "2       50622169\n",
       "3       50639620\n",
       "4       50622432\n",
       "          ...   \n",
       "2703    50490062\n",
       "2704    50488000\n",
       "2705    50524865\n",
       "2706    50477118\n",
       "2707    50496571\n",
       "Name: 字段1_link, Length: 2708, dtype: object"
      ]
     },
     "execution_count": 93,
     "metadata": {},
     "output_type": "execute_result"
    }
   ],
   "source": [
    "nz_admin['字段1_link'].apply(lambda row: re.search(r'(\\/)(\\d+)(\\?)', row).group(2))"
   ]
  },
  {
   "cell_type": "code",
   "execution_count": 104,
   "metadata": {
    "hidden": true
   },
   "outputs": [],
   "source": [
    "nz_admin_01 = nz_admin.copy()"
   ]
  },
  {
   "cell_type": "code",
   "execution_count": 105,
   "metadata": {
    "hidden": true
   },
   "outputs": [],
   "source": [
    "# column 字段1_link contains webpage link of each job vacancy, and it seems no much useful information.\n",
    "# There is a set of numbers that may be a vancncy number, and I will extract it as a new column named as Ref_No. \n",
    "nz_admin_01['Ref_No'] = nz_admin_01['字段1_link'].apply(lambda row: re.search(r'(\\/)(\\d+)(\\?)', row).group(2))"
   ]
  },
  {
   "cell_type": "code",
   "execution_count": 106,
   "metadata": {
    "hidden": true
   },
   "outputs": [],
   "source": [
    "nz_admin_01.drop('字段1_link', axis=1, inplace=True)"
   ]
  },
  {
   "cell_type": "code",
   "execution_count": 107,
   "metadata": {
    "hidden": true
   },
   "outputs": [
    {
     "data": {
      "text/html": [
       "<div>\n",
       "<style scoped>\n",
       "    .dataframe tbody tr th:only-of-type {\n",
       "        vertical-align: middle;\n",
       "    }\n",
       "\n",
       "    .dataframe tbody tr th {\n",
       "        vertical-align: top;\n",
       "    }\n",
       "\n",
       "    .dataframe thead th {\n",
       "        text-align: right;\n",
       "    }\n",
       "</style>\n",
       "<table border=\"1\" class=\"dataframe\">\n",
       "  <thead>\n",
       "    <tr style=\"text-align: right;\">\n",
       "      <th></th>\n",
       "      <th>字段1</th>\n",
       "      <th>字段2</th>\n",
       "      <th>字段3</th>\n",
       "      <th>字段4</th>\n",
       "      <th>字段5</th>\n",
       "      <th>Ref_No</th>\n",
       "    </tr>\n",
       "  </thead>\n",
       "  <tbody>\n",
       "    <tr>\n",
       "      <th>0</th>\n",
       "      <td>Administrator</td>\n",
       "      <td>NaN</td>\n",
       "      <td>location: Bay of PlentyBay of Plentyarea: Taur...</td>\n",
       "      <td>Featured,at,Private Advertiser</td>\n",
       "      <td>classification: Administration &amp; Office Suppor...</td>\n",
       "      <td>50582301</td>\n",
       "    </tr>\n",
       "    <tr>\n",
       "      <th>1</th>\n",
       "      <td>Receptionist</td>\n",
       "      <td>Avenues Orthodontics</td>\n",
       "      <td>location: Bay of PlentyBay of Plentyarea: Taur...</td>\n",
       "      <td>Featured,at</td>\n",
       "      <td>classification: Administration &amp; Office Suppor...</td>\n",
       "      <td>50620889</td>\n",
       "    </tr>\n",
       "    <tr>\n",
       "      <th>2</th>\n",
       "      <td>Prosecutions Support Officer</td>\n",
       "      <td>New Zealand Police</td>\n",
       "      <td>location: AucklandAuckland</td>\n",
       "      <td>4d ago,at</td>\n",
       "      <td>classification: Administration &amp; Office Suppor...</td>\n",
       "      <td>50622169</td>\n",
       "    </tr>\n",
       "    <tr>\n",
       "      <th>3</th>\n",
       "      <td>Early Childhood Centre Administrator</td>\n",
       "      <td>Kew Pacific Island Early Learning Centre</td>\n",
       "      <td>location: SouthlandSouthlandarea: Invercargill...</td>\n",
       "      <td>1h ago,at</td>\n",
       "      <td>classification: Administration &amp; Office Suppor...</td>\n",
       "      <td>50639620</td>\n",
       "    </tr>\n",
       "    <tr>\n",
       "      <th>4</th>\n",
       "      <td>Business Support Administrator</td>\n",
       "      <td>NaN</td>\n",
       "      <td>location: CanterburyCanterburyarea: Christchur...</td>\n",
       "      <td>4d ago,at,Private Advertiser</td>\n",
       "      <td>classification: Administration &amp; Office Suppor...</td>\n",
       "      <td>50622432</td>\n",
       "    </tr>\n",
       "  </tbody>\n",
       "</table>\n",
       "</div>"
      ],
      "text/plain": [
       "                                    字段1  \\\n",
       "0                         Administrator   \n",
       "1                          Receptionist   \n",
       "2          Prosecutions Support Officer   \n",
       "3  Early Childhood Centre Administrator   \n",
       "4        Business Support Administrator   \n",
       "\n",
       "                                        字段2  \\\n",
       "0                                       NaN   \n",
       "1                      Avenues Orthodontics   \n",
       "2                        New Zealand Police   \n",
       "3  Kew Pacific Island Early Learning Centre   \n",
       "4                                       NaN   \n",
       "\n",
       "                                                 字段3  \\\n",
       "0  location: Bay of PlentyBay of Plentyarea: Taur...   \n",
       "1  location: Bay of PlentyBay of Plentyarea: Taur...   \n",
       "2                         location: AucklandAuckland   \n",
       "3  location: SouthlandSouthlandarea: Invercargill...   \n",
       "4  location: CanterburyCanterburyarea: Christchur...   \n",
       "\n",
       "                              字段4  \\\n",
       "0  Featured,at,Private Advertiser   \n",
       "1                     Featured,at   \n",
       "2                       4d ago,at   \n",
       "3                       1h ago,at   \n",
       "4    4d ago,at,Private Advertiser   \n",
       "\n",
       "                                                 字段5    Ref_No  \n",
       "0  classification: Administration & Office Suppor...  50582301  \n",
       "1  classification: Administration & Office Suppor...  50620889  \n",
       "2  classification: Administration & Office Suppor...  50622169  \n",
       "3  classification: Administration & Office Suppor...  50639620  \n",
       "4  classification: Administration & Office Suppor...  50622432  "
      ]
     },
     "execution_count": 107,
     "metadata": {},
     "output_type": "execute_result"
    }
   ],
   "source": [
    "nz_admin_01.head()"
   ]
  },
  {
   "cell_type": "code",
   "execution_count": 109,
   "metadata": {
    "hidden": true
   },
   "outputs": [
    {
     "data": {
      "text/plain": [
       "50490283    70\n",
       "50518469    70\n",
       "50487373    70\n",
       "50482020    70\n",
       "50490247    70\n",
       "            ..\n",
       "50628245     1\n",
       "50606796     1\n",
       "50567322     1\n",
       "50600797     1\n",
       "50576272     1\n",
       "Name: Ref_No, Length: 706, dtype: int64"
      ]
     },
     "execution_count": 109,
     "metadata": {},
     "output_type": "execute_result"
    }
   ],
   "source": [
    "# The following process is to look at whether these references are duplicated, and it seems many of them\n",
    "# are duplicated. Reference number should be unique within each company, and difference companies may have\n",
    "# vancacy with same reference number. Therefore, the column Ref_No cannot be used to identify particular \n",
    "# job vancacy.\n",
    "nz_admin_01['Ref_No'].value_counts()"
   ]
  },
  {
   "cell_type": "code",
   "execution_count": null,
   "metadata": {
    "hidden": true
   },
   "outputs": [],
   "source": []
  },
  {
   "cell_type": "markdown",
   "metadata": {
    "heading_collapsed": true
   },
   "source": [
    "## Column \"字段1\" "
   ]
  },
  {
   "cell_type": "code",
   "execution_count": 122,
   "metadata": {
    "hidden": true
   },
   "outputs": [
    {
     "data": {
      "text/plain": [
       "Executive Assistant                                                301\n",
       "Temporary Office Roles                                             280\n",
       "Team Administrator                                                  76\n",
       "Contracts Administrator                                             76\n",
       "Temp Receptionists/Administrators - Ad Agencies/Music Companies     71\n",
       "                                                                  ... \n",
       "LIA - Immigration Advisor                                            1\n",
       "Library Assistant                                                    1\n",
       "Customer Service /Sales/Admin                                        1\n",
       "Team Member Customer Service                                         1\n",
       "Provider Registration Administrator - Lower Hutt                     1\n",
       "Name: 字段1, Length: 548, dtype: int64"
      ]
     },
     "execution_count": 122,
     "metadata": {},
     "output_type": "execute_result"
    }
   ],
   "source": [
    "nz_admin_01['字段1'].value_counts()"
   ]
  },
  {
   "cell_type": "code",
   "execution_count": 127,
   "metadata": {
    "hidden": true
   },
   "outputs": [
    {
     "data": {
      "text/plain": [
       "548"
      ]
     },
     "execution_count": 127,
     "metadata": {},
     "output_type": "execute_result"
    }
   ],
   "source": [
    "# The nz_admin dataset contains 548 unique profession.\n",
    "nz_admin_01['字段1'].nunique()"
   ]
  },
  {
   "cell_type": "code",
   "execution_count": null,
   "metadata": {
    "hidden": true
   },
   "outputs": [],
   "source": []
  },
  {
   "cell_type": "markdown",
   "metadata": {
    "heading_collapsed": true
   },
   "source": [
    "## Column \"字段2\""
   ]
  },
  {
   "cell_type": "code",
   "execution_count": 133,
   "metadata": {
    "hidden": true
   },
   "outputs": [
    {
     "name": "stdout",
     "output_type": "stream",
     "text": [
      "<class 'pandas.core.frame.DataFrame'>\n",
      "RangeIndex: 2708 entries, 0 to 2707\n",
      "Data columns (total 6 columns):\n",
      " #   Column  Non-Null Count  Dtype \n",
      "---  ------  --------------  ----- \n",
      " 0   字段1     2708 non-null   object\n",
      " 1   字段2     2686 non-null   object\n",
      " 2   字段3     2708 non-null   object\n",
      " 3   字段4     2708 non-null   object\n",
      " 4   字段5     2708 non-null   object\n",
      " 5   Ref_No  2708 non-null   object\n",
      "dtypes: object(6)\n",
      "memory usage: 127.1+ KB\n"
     ]
    }
   ],
   "source": [
    "# column \"字段2\" contains missing values. This column presents the corporate name, which allows to analyse \n",
    "# job vacancy within particular company. Missing values occupies less than 5% of the whole, I decide to \n",
    "# drop these missing values. \n",
    "nz_admin_01.info()"
   ]
  },
  {
   "cell_type": "code",
   "execution_count": 143,
   "metadata": {
    "hidden": true
   },
   "outputs": [],
   "source": [
    "nz_admin_02 = nz_admin_01.copy()"
   ]
  },
  {
   "cell_type": "code",
   "execution_count": 144,
   "metadata": {
    "hidden": true
   },
   "outputs": [
    {
     "data": {
      "text/html": [
       "<div>\n",
       "<style scoped>\n",
       "    .dataframe tbody tr th:only-of-type {\n",
       "        vertical-align: middle;\n",
       "    }\n",
       "\n",
       "    .dataframe tbody tr th {\n",
       "        vertical-align: top;\n",
       "    }\n",
       "\n",
       "    .dataframe thead th {\n",
       "        text-align: right;\n",
       "    }\n",
       "</style>\n",
       "<table border=\"1\" class=\"dataframe\">\n",
       "  <thead>\n",
       "    <tr style=\"text-align: right;\">\n",
       "      <th></th>\n",
       "      <th>字段1</th>\n",
       "      <th>字段2</th>\n",
       "      <th>字段3</th>\n",
       "      <th>字段4</th>\n",
       "      <th>字段5</th>\n",
       "      <th>Ref_No</th>\n",
       "    </tr>\n",
       "  </thead>\n",
       "  <tbody>\n",
       "    <tr>\n",
       "      <th>0</th>\n",
       "      <td>Administrator</td>\n",
       "      <td>NaN</td>\n",
       "      <td>location: Bay of PlentyBay of Plentyarea: Taur...</td>\n",
       "      <td>Featured,at,Private Advertiser</td>\n",
       "      <td>classification: Administration &amp; Office Suppor...</td>\n",
       "      <td>50582301</td>\n",
       "    </tr>\n",
       "    <tr>\n",
       "      <th>1</th>\n",
       "      <td>Receptionist</td>\n",
       "      <td>Avenues Orthodontics</td>\n",
       "      <td>location: Bay of PlentyBay of Plentyarea: Taur...</td>\n",
       "      <td>Featured,at</td>\n",
       "      <td>classification: Administration &amp; Office Suppor...</td>\n",
       "      <td>50620889</td>\n",
       "    </tr>\n",
       "    <tr>\n",
       "      <th>2</th>\n",
       "      <td>Prosecutions Support Officer</td>\n",
       "      <td>New Zealand Police</td>\n",
       "      <td>location: AucklandAuckland</td>\n",
       "      <td>4d ago,at</td>\n",
       "      <td>classification: Administration &amp; Office Suppor...</td>\n",
       "      <td>50622169</td>\n",
       "    </tr>\n",
       "    <tr>\n",
       "      <th>3</th>\n",
       "      <td>Early Childhood Centre Administrator</td>\n",
       "      <td>Kew Pacific Island Early Learning Centre</td>\n",
       "      <td>location: SouthlandSouthlandarea: Invercargill...</td>\n",
       "      <td>1h ago,at</td>\n",
       "      <td>classification: Administration &amp; Office Suppor...</td>\n",
       "      <td>50639620</td>\n",
       "    </tr>\n",
       "    <tr>\n",
       "      <th>4</th>\n",
       "      <td>Business Support Administrator</td>\n",
       "      <td>NaN</td>\n",
       "      <td>location: CanterburyCanterburyarea: Christchur...</td>\n",
       "      <td>4d ago,at,Private Advertiser</td>\n",
       "      <td>classification: Administration &amp; Office Suppor...</td>\n",
       "      <td>50622432</td>\n",
       "    </tr>\n",
       "    <tr>\n",
       "      <th>5</th>\n",
       "      <td>Support Officer</td>\n",
       "      <td>Ministry for Primary Industries</td>\n",
       "      <td>location: NorthlandNorthlandarea: WhangareiWha...</td>\n",
       "      <td>9m ago,at</td>\n",
       "      <td>classification: Administration &amp; Office Suppor...</td>\n",
       "      <td>50640393</td>\n",
       "    </tr>\n",
       "    <tr>\n",
       "      <th>6</th>\n",
       "      <td>Support Officer</td>\n",
       "      <td>Ministry of Business, Innovation and Employment</td>\n",
       "      <td>location: WellingtonWellingtonarea: Wellington...</td>\n",
       "      <td>5d ago,at</td>\n",
       "      <td>classification: Administration &amp; Office Suppor...</td>\n",
       "      <td>50615674</td>\n",
       "    </tr>\n",
       "  </tbody>\n",
       "</table>\n",
       "</div>"
      ],
      "text/plain": [
       "                                    字段1  \\\n",
       "0                         Administrator   \n",
       "1                          Receptionist   \n",
       "2          Prosecutions Support Officer   \n",
       "3  Early Childhood Centre Administrator   \n",
       "4        Business Support Administrator   \n",
       "5                       Support Officer   \n",
       "6                       Support Officer   \n",
       "\n",
       "                                               字段2  \\\n",
       "0                                              NaN   \n",
       "1                             Avenues Orthodontics   \n",
       "2                               New Zealand Police   \n",
       "3         Kew Pacific Island Early Learning Centre   \n",
       "4                                              NaN   \n",
       "5                  Ministry for Primary Industries   \n",
       "6  Ministry of Business, Innovation and Employment   \n",
       "\n",
       "                                                 字段3  \\\n",
       "0  location: Bay of PlentyBay of Plentyarea: Taur...   \n",
       "1  location: Bay of PlentyBay of Plentyarea: Taur...   \n",
       "2                         location: AucklandAuckland   \n",
       "3  location: SouthlandSouthlandarea: Invercargill...   \n",
       "4  location: CanterburyCanterburyarea: Christchur...   \n",
       "5  location: NorthlandNorthlandarea: WhangareiWha...   \n",
       "6  location: WellingtonWellingtonarea: Wellington...   \n",
       "\n",
       "                              字段4  \\\n",
       "0  Featured,at,Private Advertiser   \n",
       "1                     Featured,at   \n",
       "2                       4d ago,at   \n",
       "3                       1h ago,at   \n",
       "4    4d ago,at,Private Advertiser   \n",
       "5                       9m ago,at   \n",
       "6                       5d ago,at   \n",
       "\n",
       "                                                 字段5    Ref_No  \n",
       "0  classification: Administration & Office Suppor...  50582301  \n",
       "1  classification: Administration & Office Suppor...  50620889  \n",
       "2  classification: Administration & Office Suppor...  50622169  \n",
       "3  classification: Administration & Office Suppor...  50639620  \n",
       "4  classification: Administration & Office Suppor...  50622432  \n",
       "5  classification: Administration & Office Suppor...  50640393  \n",
       "6  classification: Administration & Office Suppor...  50615674  "
      ]
     },
     "execution_count": 144,
     "metadata": {},
     "output_type": "execute_result"
    }
   ],
   "source": [
    "nz_admin_02.head(7)"
   ]
  },
  {
   "cell_type": "code",
   "execution_count": 145,
   "metadata": {
    "hidden": true
   },
   "outputs": [],
   "source": [
    "nz_admin_02.dropna(inplace=True)"
   ]
  },
  {
   "cell_type": "code",
   "execution_count": 150,
   "metadata": {
    "hidden": true
   },
   "outputs": [
    {
     "data": {
      "text/html": [
       "<div>\n",
       "<style scoped>\n",
       "    .dataframe tbody tr th:only-of-type {\n",
       "        vertical-align: middle;\n",
       "    }\n",
       "\n",
       "    .dataframe tbody tr th {\n",
       "        vertical-align: top;\n",
       "    }\n",
       "\n",
       "    .dataframe thead th {\n",
       "        text-align: right;\n",
       "    }\n",
       "</style>\n",
       "<table border=\"1\" class=\"dataframe\">\n",
       "  <thead>\n",
       "    <tr style=\"text-align: right;\">\n",
       "      <th></th>\n",
       "      <th>字段1</th>\n",
       "      <th>字段2</th>\n",
       "      <th>字段3</th>\n",
       "      <th>字段4</th>\n",
       "      <th>字段5</th>\n",
       "      <th>Ref_No</th>\n",
       "    </tr>\n",
       "  </thead>\n",
       "  <tbody>\n",
       "    <tr>\n",
       "      <th>1</th>\n",
       "      <td>Receptionist</td>\n",
       "      <td>Avenues Orthodontics</td>\n",
       "      <td>location: Bay of PlentyBay of Plentyarea: Taur...</td>\n",
       "      <td>Featured,at</td>\n",
       "      <td>classification: Administration &amp; Office Suppor...</td>\n",
       "      <td>50620889</td>\n",
       "    </tr>\n",
       "    <tr>\n",
       "      <th>2</th>\n",
       "      <td>Prosecutions Support Officer</td>\n",
       "      <td>New Zealand Police</td>\n",
       "      <td>location: AucklandAuckland</td>\n",
       "      <td>4d ago,at</td>\n",
       "      <td>classification: Administration &amp; Office Suppor...</td>\n",
       "      <td>50622169</td>\n",
       "    </tr>\n",
       "    <tr>\n",
       "      <th>3</th>\n",
       "      <td>Early Childhood Centre Administrator</td>\n",
       "      <td>Kew Pacific Island Early Learning Centre</td>\n",
       "      <td>location: SouthlandSouthlandarea: Invercargill...</td>\n",
       "      <td>1h ago,at</td>\n",
       "      <td>classification: Administration &amp; Office Suppor...</td>\n",
       "      <td>50639620</td>\n",
       "    </tr>\n",
       "    <tr>\n",
       "      <th>5</th>\n",
       "      <td>Support Officer</td>\n",
       "      <td>Ministry for Primary Industries</td>\n",
       "      <td>location: NorthlandNorthlandarea: WhangareiWha...</td>\n",
       "      <td>9m ago,at</td>\n",
       "      <td>classification: Administration &amp; Office Suppor...</td>\n",
       "      <td>50640393</td>\n",
       "    </tr>\n",
       "    <tr>\n",
       "      <th>6</th>\n",
       "      <td>Support Officer</td>\n",
       "      <td>Ministry of Business, Innovation and Employment</td>\n",
       "      <td>location: WellingtonWellingtonarea: Wellington...</td>\n",
       "      <td>5d ago,at</td>\n",
       "      <td>classification: Administration &amp; Office Suppor...</td>\n",
       "      <td>50615674</td>\n",
       "    </tr>\n",
       "  </tbody>\n",
       "</table>\n",
       "</div>"
      ],
      "text/plain": [
       "                                    字段1  \\\n",
       "1                          Receptionist   \n",
       "2          Prosecutions Support Officer   \n",
       "3  Early Childhood Centre Administrator   \n",
       "5                       Support Officer   \n",
       "6                       Support Officer   \n",
       "\n",
       "                                               字段2  \\\n",
       "1                             Avenues Orthodontics   \n",
       "2                               New Zealand Police   \n",
       "3         Kew Pacific Island Early Learning Centre   \n",
       "5                  Ministry for Primary Industries   \n",
       "6  Ministry of Business, Innovation and Employment   \n",
       "\n",
       "                                                 字段3          字段4  \\\n",
       "1  location: Bay of PlentyBay of Plentyarea: Taur...  Featured,at   \n",
       "2                         location: AucklandAuckland    4d ago,at   \n",
       "3  location: SouthlandSouthlandarea: Invercargill...    1h ago,at   \n",
       "5  location: NorthlandNorthlandarea: WhangareiWha...    9m ago,at   \n",
       "6  location: WellingtonWellingtonarea: Wellington...    5d ago,at   \n",
       "\n",
       "                                                 字段5    Ref_No  \n",
       "1  classification: Administration & Office Suppor...  50620889  \n",
       "2  classification: Administration & Office Suppor...  50622169  \n",
       "3  classification: Administration & Office Suppor...  50639620  \n",
       "5  classification: Administration & Office Suppor...  50640393  \n",
       "6  classification: Administration & Office Suppor...  50615674  "
      ]
     },
     "execution_count": 150,
     "metadata": {},
     "output_type": "execute_result"
    }
   ],
   "source": [
    "nz_admin_02.head()"
   ]
  },
  {
   "cell_type": "code",
   "execution_count": null,
   "metadata": {
    "hidden": true
   },
   "outputs": [],
   "source": []
  },
  {
   "cell_type": "markdown",
   "metadata": {
    "heading_collapsed": true
   },
   "source": [
    "## Column \"字段3\""
   ]
  },
  {
   "cell_type": "code",
   "execution_count": 157,
   "metadata": {
    "hidden": true
   },
   "outputs": [
    {
     "data": {
      "text/plain": [
       "1                   location: Bay of PlentyBay of Plentyarea: TaurangaTauranga\n",
       "2                                                   location: AucklandAuckland\n",
       "3                   location: SouthlandSouthlandarea: InvercargillInvercargill\n",
       "5                         location: NorthlandNorthlandarea: WhangareiWhangarei\n",
       "6     location: WellingtonWellingtonarea: Wellington CentralWellington Central\n",
       "7                     location: Bay of PlentyBay of Plentyarea: RotoruaRotorua\n",
       "8                   location: Bay of PlentyBay of Plentyarea: TaurangaTauranga\n",
       "9                                               location: CanterburyCanterbury\n",
       "10    location: West CoastWest Coastarea: Rest of West CoastRest of West Coast\n",
       "11                                    location: TasmanTasmanarea: NelsonNelson\n",
       "Name: 字段3, dtype: object"
      ]
     },
     "execution_count": 157,
     "metadata": {},
     "output_type": "execute_result"
    }
   ],
   "source": [
    "# the column \"字段3\" presents the corporate address of each company. Many characters are all linked together.\n",
    "# In addition, all suburbs duplicates. \n",
    "nz_admin_02['字段3'].head(10)"
   ]
  },
  {
   "cell_type": "code",
   "execution_count": 182,
   "metadata": {
    "hidden": true
   },
   "outputs": [
    {
     "name": "stdout",
     "output_type": "stream",
     "text": [
      "['location', 'Bay of PlentyBay of Plentyarea', 'TaurangaTauranga']\n",
      "Bay of PlentyBay of Plentyarea\n",
      "['Bay of ', 'Plenty', 'Bay of ', 'Plentyarea']\n",
      "Bay of Plenty\n"
     ]
    }
   ],
   "source": [
    "### Demonstration of steps to create Python function \"address_are\":\n",
    "# print([x.strip() for x in nz_admin_02['字段3'].iloc[0].split(\":\")])\n",
    "# print([x.strip() for x in nz_admin_02['字段3'].iloc[0].split(\":\")][1])\n",
    "# aaa = re.findall('[A-Z][^A-Z]*', [x.strip() for x in nz_admin_02['字段3'].iloc[0].split(\":\")][1])\n",
    "# print(aaa)\n",
    "# bbb = \"\"\n",
    "# for i in range(len(aaa)//2):\n",
    "#     bbb += aaa[i]\n",
    "# print(bbb)"
   ]
  },
  {
   "cell_type": "code",
   "execution_count": null,
   "metadata": {
    "hidden": true
   },
   "outputs": [],
   "source": []
  },
  {
   "cell_type": "code",
   "execution_count": null,
   "metadata": {
    "hidden": true
   },
   "outputs": [],
   "source": []
  },
  {
   "cell_type": "code",
   "execution_count": null,
   "metadata": {
    "hidden": true
   },
   "outputs": [],
   "source": []
  },
  {
   "cell_type": "code",
   "execution_count": 276,
   "metadata": {
    "hidden": true
   },
   "outputs": [],
   "source": [
    "def address_area(address):\n",
    "    lst_address = [x.strip() for x in address.split(\":\")][1]\n",
    "    lst_area = re.findall('[A-Z][^A-Z]*', lst_address)\n",
    "    area = \"\"\n",
    "    for i in range(len(lst_area)//2):\n",
    "        area += lst_area[i]\n",
    "    return area"
   ]
  },
  {
   "cell_type": "code",
   "execution_count": 277,
   "metadata": {
    "hidden": true
   },
   "outputs": [],
   "source": [
    "nz_admin_03 = nz_admin_02.copy()"
   ]
  },
  {
   "cell_type": "code",
   "execution_count": 278,
   "metadata": {
    "hidden": true
   },
   "outputs": [],
   "source": [
    "nz_admin_03['Company location (Area)'] = nz_admin_03['字段3'].apply(lambda row: address_area(row))"
   ]
  },
  {
   "cell_type": "code",
   "execution_count": 279,
   "metadata": {
    "hidden": true
   },
   "outputs": [],
   "source": [
    "def address_suburb(address):\n",
    "    lst_address = [x.strip() for x in address.split(\":\")]\n",
    "    if len(lst_address) == 3:\n",
    "        lst_suburb = re.findall('[A-Z][^A-Z]*', lst_address[2])\n",
    "        suburb = \"\"\n",
    "        for i in range(len(lst_suburb)//2):\n",
    "            suburb += lst_suburb[i]\n",
    "        return suburb\n",
    "#     else:\n",
    "#         return 0"
   ]
  },
  {
   "cell_type": "code",
   "execution_count": 280,
   "metadata": {
    "hidden": true
   },
   "outputs": [],
   "source": [
    "nz_admin_03['Company location (suburb)'] = nz_admin_03['字段3'].apply(lambda row: address_suburb(row))"
   ]
  },
  {
   "cell_type": "code",
   "execution_count": 338,
   "metadata": {
    "hidden": true
   },
   "outputs": [],
   "source": [
    "nz_admin_04 = nz_admin_03.copy()"
   ]
  },
  {
   "cell_type": "code",
   "execution_count": 268,
   "metadata": {
    "hidden": true
   },
   "outputs": [],
   "source": [
    "# nz_admin_04.drop('字段3', axis=1, inplace=True)"
   ]
  },
  {
   "cell_type": "code",
   "execution_count": 339,
   "metadata": {
    "hidden": true
   },
   "outputs": [
    {
     "data": {
      "text/html": [
       "<div>\n",
       "<style scoped>\n",
       "    .dataframe tbody tr th:only-of-type {\n",
       "        vertical-align: middle;\n",
       "    }\n",
       "\n",
       "    .dataframe tbody tr th {\n",
       "        vertical-align: top;\n",
       "    }\n",
       "\n",
       "    .dataframe thead th {\n",
       "        text-align: right;\n",
       "    }\n",
       "</style>\n",
       "<table border=\"1\" class=\"dataframe\">\n",
       "  <thead>\n",
       "    <tr style=\"text-align: right;\">\n",
       "      <th></th>\n",
       "      <th>occupation</th>\n",
       "      <th>Company Name</th>\n",
       "      <th>字段3</th>\n",
       "      <th>字段4</th>\n",
       "      <th>字段5</th>\n",
       "      <th>Ref_No</th>\n",
       "      <th>Company location (Area)</th>\n",
       "      <th>Company location (suburb)</th>\n",
       "    </tr>\n",
       "  </thead>\n",
       "  <tbody>\n",
       "    <tr>\n",
       "      <th>1</th>\n",
       "      <td>Receptionist</td>\n",
       "      <td>Avenues Orthodontics</td>\n",
       "      <td>location: Bay of PlentyBay of Plentyarea: TaurangaTauranga</td>\n",
       "      <td>Featured,at</td>\n",
       "      <td>classification: Administration &amp; Office SupportAdministration &amp; Office SupportsubClassification: ReceptionistsReceptionists</td>\n",
       "      <td>50620889</td>\n",
       "      <td>Bay of Plenty</td>\n",
       "      <td>Tauranga</td>\n",
       "    </tr>\n",
       "    <tr>\n",
       "      <th>2</th>\n",
       "      <td>Prosecutions Support Officer</td>\n",
       "      <td>New Zealand Police</td>\n",
       "      <td>location: AucklandAuckland</td>\n",
       "      <td>4d ago,at</td>\n",
       "      <td>classification: Administration &amp; Office SupportAdministration &amp; Office SupportsubClassification: OtherOther</td>\n",
       "      <td>50622169</td>\n",
       "      <td>Auckland</td>\n",
       "      <td>None</td>\n",
       "    </tr>\n",
       "    <tr>\n",
       "      <th>3</th>\n",
       "      <td>Early Childhood Centre Administrator</td>\n",
       "      <td>Kew Pacific Island Early Learning Centre</td>\n",
       "      <td>location: SouthlandSouthlandarea: InvercargillInvercargill</td>\n",
       "      <td>1h ago,at</td>\n",
       "      <td>classification: Administration &amp; Office SupportAdministration &amp; Office SupportsubClassification: Administrative AssistantsAdministrative Assistants</td>\n",
       "      <td>50639620</td>\n",
       "      <td>Southland</td>\n",
       "      <td>Invercargill</td>\n",
       "    </tr>\n",
       "    <tr>\n",
       "      <th>5</th>\n",
       "      <td>Support Officer</td>\n",
       "      <td>Ministry for Primary Industries</td>\n",
       "      <td>location: NorthlandNorthlandarea: WhangareiWhangarei</td>\n",
       "      <td>9m ago,at</td>\n",
       "      <td>classification: Administration &amp; Office SupportAdministration &amp; Office SupportsubClassification: Administrative AssistantsAdministrative Assistants</td>\n",
       "      <td>50640393</td>\n",
       "      <td>Northland</td>\n",
       "      <td>Whangarei</td>\n",
       "    </tr>\n",
       "    <tr>\n",
       "      <th>6</th>\n",
       "      <td>Support Officer</td>\n",
       "      <td>Ministry of Business, Innovation and Employment</td>\n",
       "      <td>location: WellingtonWellingtonarea: Wellington CentralWellington Central</td>\n",
       "      <td>5d ago,at</td>\n",
       "      <td>classification: Administration &amp; Office SupportAdministration &amp; Office SupportsubClassification: OtherOther</td>\n",
       "      <td>50615674</td>\n",
       "      <td>Wellington</td>\n",
       "      <td>Wellington Central</td>\n",
       "    </tr>\n",
       "  </tbody>\n",
       "</table>\n",
       "</div>"
      ],
      "text/plain": [
       "                             occupation  \\\n",
       "1                          Receptionist   \n",
       "2          Prosecutions Support Officer   \n",
       "3  Early Childhood Centre Administrator   \n",
       "5                       Support Officer   \n",
       "6                       Support Officer   \n",
       "\n",
       "                                      Company Name  \\\n",
       "1                             Avenues Orthodontics   \n",
       "2                               New Zealand Police   \n",
       "3         Kew Pacific Island Early Learning Centre   \n",
       "5                  Ministry for Primary Industries   \n",
       "6  Ministry of Business, Innovation and Employment   \n",
       "\n",
       "                                                                        字段3  \\\n",
       "1                location: Bay of PlentyBay of Plentyarea: TaurangaTauranga   \n",
       "2                                                location: AucklandAuckland   \n",
       "3                location: SouthlandSouthlandarea: InvercargillInvercargill   \n",
       "5                      location: NorthlandNorthlandarea: WhangareiWhangarei   \n",
       "6  location: WellingtonWellingtonarea: Wellington CentralWellington Central   \n",
       "\n",
       "           字段4  \\\n",
       "1  Featured,at   \n",
       "2    4d ago,at   \n",
       "3    1h ago,at   \n",
       "5    9m ago,at   \n",
       "6    5d ago,at   \n",
       "\n",
       "                                                                                                                                                   字段5  \\\n",
       "1                          classification: Administration & Office SupportAdministration & Office SupportsubClassification: ReceptionistsReceptionists   \n",
       "2                                          classification: Administration & Office SupportAdministration & Office SupportsubClassification: OtherOther   \n",
       "3  classification: Administration & Office SupportAdministration & Office SupportsubClassification: Administrative AssistantsAdministrative Assistants   \n",
       "5  classification: Administration & Office SupportAdministration & Office SupportsubClassification: Administrative AssistantsAdministrative Assistants   \n",
       "6                                          classification: Administration & Office SupportAdministration & Office SupportsubClassification: OtherOther   \n",
       "\n",
       "     Ref_No Company location (Area) Company location (suburb)  \n",
       "1  50620889           Bay of Plenty                  Tauranga  \n",
       "2  50622169                Auckland                      None  \n",
       "3  50639620               Southland              Invercargill  \n",
       "5  50640393               Northland                 Whangarei  \n",
       "6  50615674              Wellington        Wellington Central  "
      ]
     },
     "execution_count": 339,
     "metadata": {},
     "output_type": "execute_result"
    }
   ],
   "source": [
    "nz_admin_04.rename({'字段1': 'occupation', '字段2': 'Company Name'}, axis=1, inplace=True)\n",
    "nz_admin_04.head()"
   ]
  },
  {
   "cell_type": "code",
   "execution_count": 340,
   "metadata": {
    "hidden": true
   },
   "outputs": [
    {
     "data": {
      "text/html": [
       "<div>\n",
       "<style scoped>\n",
       "    .dataframe tbody tr th:only-of-type {\n",
       "        vertical-align: middle;\n",
       "    }\n",
       "\n",
       "    .dataframe tbody tr th {\n",
       "        vertical-align: top;\n",
       "    }\n",
       "\n",
       "    .dataframe thead th {\n",
       "        text-align: right;\n",
       "    }\n",
       "</style>\n",
       "<table border=\"1\" class=\"dataframe\">\n",
       "  <thead>\n",
       "    <tr style=\"text-align: right;\">\n",
       "      <th></th>\n",
       "      <th>occupation</th>\n",
       "      <th>Company Name</th>\n",
       "      <th>字段3</th>\n",
       "      <th>字段4</th>\n",
       "      <th>字段5</th>\n",
       "      <th>Ref_No</th>\n",
       "      <th>Company location (Area)</th>\n",
       "      <th>Company location (suburb)</th>\n",
       "    </tr>\n",
       "  </thead>\n",
       "  <tbody>\n",
       "    <tr>\n",
       "      <th>0</th>\n",
       "      <td>Receptionist</td>\n",
       "      <td>Avenues Orthodontics</td>\n",
       "      <td>location: Bay of PlentyBay of Plentyarea: TaurangaTauranga</td>\n",
       "      <td>Featured,at</td>\n",
       "      <td>classification: Administration &amp; Office SupportAdministration &amp; Office SupportsubClassification: ReceptionistsReceptionists</td>\n",
       "      <td>50620889</td>\n",
       "      <td>Bay of Plenty</td>\n",
       "      <td>Tauranga</td>\n",
       "    </tr>\n",
       "    <tr>\n",
       "      <th>1</th>\n",
       "      <td>Prosecutions Support Officer</td>\n",
       "      <td>New Zealand Police</td>\n",
       "      <td>location: AucklandAuckland</td>\n",
       "      <td>4d ago,at</td>\n",
       "      <td>classification: Administration &amp; Office SupportAdministration &amp; Office SupportsubClassification: OtherOther</td>\n",
       "      <td>50622169</td>\n",
       "      <td>Auckland</td>\n",
       "      <td>None</td>\n",
       "    </tr>\n",
       "    <tr>\n",
       "      <th>2</th>\n",
       "      <td>Early Childhood Centre Administrator</td>\n",
       "      <td>Kew Pacific Island Early Learning Centre</td>\n",
       "      <td>location: SouthlandSouthlandarea: InvercargillInvercargill</td>\n",
       "      <td>1h ago,at</td>\n",
       "      <td>classification: Administration &amp; Office SupportAdministration &amp; Office SupportsubClassification: Administrative AssistantsAdministrative Assistants</td>\n",
       "      <td>50639620</td>\n",
       "      <td>Southland</td>\n",
       "      <td>Invercargill</td>\n",
       "    </tr>\n",
       "  </tbody>\n",
       "</table>\n",
       "</div>"
      ],
      "text/plain": [
       "                             occupation  \\\n",
       "0                          Receptionist   \n",
       "1          Prosecutions Support Officer   \n",
       "2  Early Childhood Centre Administrator   \n",
       "\n",
       "                               Company Name  \\\n",
       "0                      Avenues Orthodontics   \n",
       "1                        New Zealand Police   \n",
       "2  Kew Pacific Island Early Learning Centre   \n",
       "\n",
       "                                                          字段3          字段4  \\\n",
       "0  location: Bay of PlentyBay of Plentyarea: TaurangaTauranga  Featured,at   \n",
       "1                                  location: AucklandAuckland    4d ago,at   \n",
       "2  location: SouthlandSouthlandarea: InvercargillInvercargill    1h ago,at   \n",
       "\n",
       "                                                                                                                                                   字段5  \\\n",
       "0                          classification: Administration & Office SupportAdministration & Office SupportsubClassification: ReceptionistsReceptionists   \n",
       "1                                          classification: Administration & Office SupportAdministration & Office SupportsubClassification: OtherOther   \n",
       "2  classification: Administration & Office SupportAdministration & Office SupportsubClassification: Administrative AssistantsAdministrative Assistants   \n",
       "\n",
       "     Ref_No Company location (Area) Company location (suburb)  \n",
       "0  50620889           Bay of Plenty                  Tauranga  \n",
       "1  50622169                Auckland                      None  \n",
       "2  50639620               Southland              Invercargill  "
      ]
     },
     "execution_count": 340,
     "metadata": {},
     "output_type": "execute_result"
    }
   ],
   "source": [
    "nz_admin_04 = nz_admin_04.reset_index(drop=True)\n",
    "nz_admin_04.head(3)"
   ]
  },
  {
   "cell_type": "code",
   "execution_count": 341,
   "metadata": {
    "hidden": true
   },
   "outputs": [
    {
     "name": "stdout",
     "output_type": "stream",
     "text": [
      "$40,000 - $49,999\n",
      "$20 - $24.99 per hour\n",
      "Includes life and health insurance\n"
     ]
    }
   ],
   "source": [
    "# There are three types of formats to present employee benefits including annual salary, hourly rate and insurance\n",
    "print(nz_admin_04['字段3'].iloc[39].split(',', 1)[1])\n",
    "print(nz_admin_04['字段3'].iloc[15].split(',', 1)[1])\n",
    "print(nz_admin_04['字段3'].iloc[54].split(',', 1)[1])"
   ]
  },
  {
   "cell_type": "code",
   "execution_count": 342,
   "metadata": {
    "hidden": true
   },
   "outputs": [],
   "source": [
    "def address_benefit(address):\n",
    "#     lst_address = [x.strip() for x in address.split(\":\")]\n",
    "#     if len(lst_address) == 3:\n",
    "    benefit = address.split(',', 1)\n",
    "    if len(benefit)>1:\n",
    "        return benefit[1]"
   ]
  },
  {
   "cell_type": "code",
   "execution_count": 360,
   "metadata": {
    "hidden": true
   },
   "outputs": [],
   "source": [
    "nz_admin_04['Salary($)(Insurance Benefit)'] = nz_admin_04['字段3'].apply(lambda row: address_benefit(row))"
   ]
  },
  {
   "cell_type": "code",
   "execution_count": 361,
   "metadata": {
    "hidden": true
   },
   "outputs": [],
   "source": [
    "nz_admin_05 = nz_admin_04.copy()"
   ]
  },
  {
   "cell_type": "code",
   "execution_count": 362,
   "metadata": {
    "hidden": true
   },
   "outputs": [],
   "source": [
    "nz_admin_05.drop('字段3', axis=1, inplace=True)"
   ]
  },
  {
   "cell_type": "code",
   "execution_count": 363,
   "metadata": {
    "hidden": true
   },
   "outputs": [
    {
     "name": "stdout",
     "output_type": "stream",
     "text": [
      "<class 'pandas.core.frame.DataFrame'>\n",
      "RangeIndex: 2686 entries, 0 to 2685\n",
      "Data columns (total 8 columns):\n",
      " #   Column                        Non-Null Count  Dtype \n",
      "---  ------                        --------------  ----- \n",
      " 0   occupation                    2686 non-null   object\n",
      " 1   Company Name                  2686 non-null   object\n",
      " 2   字段4                           2686 non-null   object\n",
      " 3   字段5                           2686 non-null   object\n",
      " 4   Ref_No                        2686 non-null   object\n",
      " 5   Company location (Area)       2686 non-null   object\n",
      " 6   Company location (suburb)     2145 non-null   object\n",
      " 7   Salary($)(Insurance Benefit)  600 non-null    object\n",
      "dtypes: object(8)\n",
      "memory usage: 168.0+ KB\n"
     ]
    }
   ],
   "source": [
    "# The column \"Salary and benefits\" contains the majority of missing values.\n",
    "nz_admin_05.info()"
   ]
  },
  {
   "cell_type": "code",
   "execution_count": 366,
   "metadata": {
    "hidden": true
   },
   "outputs": [
    {
     "data": {
      "text/html": [
       "<div>\n",
       "<style scoped>\n",
       "    .dataframe tbody tr th:only-of-type {\n",
       "        vertical-align: middle;\n",
       "    }\n",
       "\n",
       "    .dataframe tbody tr th {\n",
       "        vertical-align: top;\n",
       "    }\n",
       "\n",
       "    .dataframe thead th {\n",
       "        text-align: right;\n",
       "    }\n",
       "</style>\n",
       "<table border=\"1\" class=\"dataframe\">\n",
       "  <thead>\n",
       "    <tr style=\"text-align: right;\">\n",
       "      <th></th>\n",
       "      <th>occupation</th>\n",
       "      <th>Company Name</th>\n",
       "      <th>字段4</th>\n",
       "      <th>字段5</th>\n",
       "      <th>Ref_No</th>\n",
       "      <th>Company location (Area)</th>\n",
       "      <th>Company location (suburb)</th>\n",
       "      <th>Salary($)(Insurance Benefit)</th>\n",
       "    </tr>\n",
       "  </thead>\n",
       "  <tbody>\n",
       "    <tr>\n",
       "      <th>0</th>\n",
       "      <td>Receptionist</td>\n",
       "      <td>Avenues Orthodontics</td>\n",
       "      <td>Featured,at</td>\n",
       "      <td>classification: Administration &amp; Office SupportAdministration &amp; Office SupportsubClassification: ReceptionistsReceptionists</td>\n",
       "      <td>50620889</td>\n",
       "      <td>Bay of Plenty</td>\n",
       "      <td>Tauranga</td>\n",
       "      <td>None</td>\n",
       "    </tr>\n",
       "    <tr>\n",
       "      <th>1</th>\n",
       "      <td>Prosecutions Support Officer</td>\n",
       "      <td>New Zealand Police</td>\n",
       "      <td>4d ago,at</td>\n",
       "      <td>classification: Administration &amp; Office SupportAdministration &amp; Office SupportsubClassification: OtherOther</td>\n",
       "      <td>50622169</td>\n",
       "      <td>Auckland</td>\n",
       "      <td>None</td>\n",
       "      <td>None</td>\n",
       "    </tr>\n",
       "    <tr>\n",
       "      <th>2</th>\n",
       "      <td>Early Childhood Centre Administrator</td>\n",
       "      <td>Kew Pacific Island Early Learning Centre</td>\n",
       "      <td>1h ago,at</td>\n",
       "      <td>classification: Administration &amp; Office SupportAdministration &amp; Office SupportsubClassification: Administrative AssistantsAdministrative Assistants</td>\n",
       "      <td>50639620</td>\n",
       "      <td>Southland</td>\n",
       "      <td>Invercargill</td>\n",
       "      <td>None</td>\n",
       "    </tr>\n",
       "    <tr>\n",
       "      <th>3</th>\n",
       "      <td>Support Officer</td>\n",
       "      <td>Ministry for Primary Industries</td>\n",
       "      <td>9m ago,at</td>\n",
       "      <td>classification: Administration &amp; Office SupportAdministration &amp; Office SupportsubClassification: Administrative AssistantsAdministrative Assistants</td>\n",
       "      <td>50640393</td>\n",
       "      <td>Northland</td>\n",
       "      <td>Whangarei</td>\n",
       "      <td>None</td>\n",
       "    </tr>\n",
       "    <tr>\n",
       "      <th>4</th>\n",
       "      <td>Support Officer</td>\n",
       "      <td>Ministry of Business, Innovation and Employment</td>\n",
       "      <td>5d ago,at</td>\n",
       "      <td>classification: Administration &amp; Office SupportAdministration &amp; Office SupportsubClassification: OtherOther</td>\n",
       "      <td>50615674</td>\n",
       "      <td>Wellington</td>\n",
       "      <td>Wellington Central</td>\n",
       "      <td>None</td>\n",
       "    </tr>\n",
       "    <tr>\n",
       "      <th>...</th>\n",
       "      <td>...</td>\n",
       "      <td>...</td>\n",
       "      <td>...</td>\n",
       "      <td>...</td>\n",
       "      <td>...</td>\n",
       "      <td>...</td>\n",
       "      <td>...</td>\n",
       "      <td>...</td>\n",
       "    </tr>\n",
       "    <tr>\n",
       "      <th>145</th>\n",
       "      <td>Customer Service Officer</td>\n",
       "      <td>CM Trailer Parts</td>\n",
       "      <td>Featured,at</td>\n",
       "      <td>classification: Administration &amp; Office SupportAdministration &amp; Office SupportsubClassification: Client &amp; Sales AdministrationClient &amp; Sales Administration</td>\n",
       "      <td>50614282</td>\n",
       "      <td>Canterbury</td>\n",
       "      <td>Timaru &amp; South Canterbury</td>\n",
       "      <td>None</td>\n",
       "    </tr>\n",
       "    <tr>\n",
       "      <th>146</th>\n",
       "      <td>Business Support Administrator</td>\n",
       "      <td>S&amp;L Land Development and Design Specialists</td>\n",
       "      <td>Featured,at</td>\n",
       "      <td>classification: Administration &amp; Office SupportAdministration &amp; Office SupportsubClassification: Administrative AssistantsAdministrative Assistants</td>\n",
       "      <td>50591178</td>\n",
       "      <td>Bay of Plenty</td>\n",
       "      <td>Tauranga</td>\n",
       "      <td>None</td>\n",
       "    </tr>\n",
       "    <tr>\n",
       "      <th>147</th>\n",
       "      <td>Branch and Events Administrator</td>\n",
       "      <td>Momentum Consulting Group</td>\n",
       "      <td>7d ago,at</td>\n",
       "      <td>Up to $27ph</td>\n",
       "      <td>50597675</td>\n",
       "      <td>Manawatu</td>\n",
       "      <td>Palmerston North</td>\n",
       "      <td>Up to $27ph</td>\n",
       "    </tr>\n",
       "    <tr>\n",
       "      <th>148</th>\n",
       "      <td>Office Administrator</td>\n",
       "      <td>Lewis Plumbing Co</td>\n",
       "      <td>13d ago,at</td>\n",
       "      <td>classification: Administration &amp; Office SupportAdministration &amp; Office SupportsubClassification: Administrative AssistantsAdministrative Assistants</td>\n",
       "      <td>50571080</td>\n",
       "      <td>Bay of Plenty</td>\n",
       "      <td>Rotorua</td>\n",
       "      <td>None</td>\n",
       "    </tr>\n",
       "    <tr>\n",
       "      <th>149</th>\n",
       "      <td>Frontline Media/Marketing Office Super Star</td>\n",
       "      <td>Wilkin River Jets</td>\n",
       "      <td>6d ago,at</td>\n",
       "      <td>classification: Administration &amp; Office SupportAdministration &amp; Office SupportsubClassification: Administrative AssistantsAdministrative Assistants</td>\n",
       "      <td>50605827</td>\n",
       "      <td>Otago</td>\n",
       "      <td>Queenstown &amp; Wanaka</td>\n",
       "      <td>None</td>\n",
       "    </tr>\n",
       "  </tbody>\n",
       "</table>\n",
       "<p>150 rows × 8 columns</p>\n",
       "</div>"
      ],
      "text/plain": [
       "                                      occupation  \\\n",
       "0                                   Receptionist   \n",
       "1                   Prosecutions Support Officer   \n",
       "2           Early Childhood Centre Administrator   \n",
       "3                                Support Officer   \n",
       "4                                Support Officer   \n",
       "..                                           ...   \n",
       "145                     Customer Service Officer   \n",
       "146               Business Support Administrator   \n",
       "147              Branch and Events Administrator   \n",
       "148                         Office Administrator   \n",
       "149  Frontline Media/Marketing Office Super Star   \n",
       "\n",
       "                                        Company Name          字段4  \\\n",
       "0                               Avenues Orthodontics  Featured,at   \n",
       "1                                 New Zealand Police    4d ago,at   \n",
       "2           Kew Pacific Island Early Learning Centre    1h ago,at   \n",
       "3                    Ministry for Primary Industries    9m ago,at   \n",
       "4    Ministry of Business, Innovation and Employment    5d ago,at   \n",
       "..                                               ...          ...   \n",
       "145                                 CM Trailer Parts  Featured,at   \n",
       "146      S&L Land Development and Design Specialists  Featured,at   \n",
       "147                        Momentum Consulting Group    7d ago,at   \n",
       "148                                Lewis Plumbing Co   13d ago,at   \n",
       "149                                Wilkin River Jets    6d ago,at   \n",
       "\n",
       "                                                                                                                                                             字段5  \\\n",
       "0                                    classification: Administration & Office SupportAdministration & Office SupportsubClassification: ReceptionistsReceptionists   \n",
       "1                                                    classification: Administration & Office SupportAdministration & Office SupportsubClassification: OtherOther   \n",
       "2            classification: Administration & Office SupportAdministration & Office SupportsubClassification: Administrative AssistantsAdministrative Assistants   \n",
       "3            classification: Administration & Office SupportAdministration & Office SupportsubClassification: Administrative AssistantsAdministrative Assistants   \n",
       "4                                                    classification: Administration & Office SupportAdministration & Office SupportsubClassification: OtherOther   \n",
       "..                                                                                                                                                           ...   \n",
       "145  classification: Administration & Office SupportAdministration & Office SupportsubClassification: Client & Sales AdministrationClient & Sales Administration   \n",
       "146          classification: Administration & Office SupportAdministration & Office SupportsubClassification: Administrative AssistantsAdministrative Assistants   \n",
       "147                                                                                                                                                  Up to $27ph   \n",
       "148          classification: Administration & Office SupportAdministration & Office SupportsubClassification: Administrative AssistantsAdministrative Assistants   \n",
       "149          classification: Administration & Office SupportAdministration & Office SupportsubClassification: Administrative AssistantsAdministrative Assistants   \n",
       "\n",
       "       Ref_No Company location (Area)  Company location (suburb)  \\\n",
       "0    50620889           Bay of Plenty                   Tauranga   \n",
       "1    50622169                Auckland                       None   \n",
       "2    50639620               Southland               Invercargill   \n",
       "3    50640393               Northland                  Whangarei   \n",
       "4    50615674              Wellington         Wellington Central   \n",
       "..        ...                     ...                        ...   \n",
       "145  50614282              Canterbury  Timaru & South Canterbury   \n",
       "146  50591178           Bay of Plenty                   Tauranga   \n",
       "147  50597675                Manawatu           Palmerston North   \n",
       "148  50571080           Bay of Plenty                    Rotorua   \n",
       "149  50605827                   Otago        Queenstown & Wanaka   \n",
       "\n",
       "    Salary($)(Insurance Benefit)  \n",
       "0                           None  \n",
       "1                           None  \n",
       "2                           None  \n",
       "3                           None  \n",
       "4                           None  \n",
       "..                           ...  \n",
       "145                         None  \n",
       "146                         None  \n",
       "147                  Up to $27ph  \n",
       "148                         None  \n",
       "149                         None  \n",
       "\n",
       "[150 rows x 8 columns]"
      ]
     },
     "execution_count": 366,
     "metadata": {},
     "output_type": "execute_result"
    }
   ],
   "source": [
    "nz_admin_05.head(150)"
   ]
  },
  {
   "cell_type": "code",
   "execution_count": null,
   "metadata": {
    "hidden": true
   },
   "outputs": [],
   "source": []
  },
  {
   "cell_type": "markdown",
   "metadata": {
    "heading_collapsed": true
   },
   "source": [
    "## Column \"字段4\""
   ]
  },
  {
   "cell_type": "code",
   "execution_count": 371,
   "metadata": {
    "hidden": true
   },
   "outputs": [
    {
     "data": {
      "text/plain": [
       "'Featured,at'"
      ]
     },
     "execution_count": 371,
     "metadata": {},
     "output_type": "execute_result"
    }
   ],
   "source": [
    "nz_admin_05['字段4'].iloc[146]"
   ]
  },
  {
   "cell_type": "code",
   "execution_count": 381,
   "metadata": {
    "hidden": true
   },
   "outputs": [
    {
     "data": {
      "text/plain": [
       "'7'"
      ]
     },
     "execution_count": 381,
     "metadata": {},
     "output_type": "execute_result"
    }
   ],
   "source": [
    "re.search(r'(\\d+)', nz_admin_05['字段4'].iloc[147]).group()"
   ]
  },
  {
   "cell_type": "code",
   "execution_count": 382,
   "metadata": {
    "hidden": true
   },
   "outputs": [
    {
     "name": "stdout",
     "output_type": "stream",
     "text": [
      "An exception occurred\n"
     ]
    }
   ],
   "source": [
    "try:\n",
    "  print(re.search(r'(\\d+)', nz_admin_05['字段4'].iloc[146]).group())\n",
    "except:\n",
    "  print(\"An exception occurred\")"
   ]
  },
  {
   "cell_type": "code",
   "execution_count": 394,
   "metadata": {
    "hidden": true
   },
   "outputs": [],
   "source": [
    "def job_posted(row):\n",
    "    try:\n",
    "      return re.search(r'(\\d+)(\\w)', row).group()\n",
    "    except:\n",
    "      return None"
   ]
  },
  {
   "cell_type": "code",
   "execution_count": 395,
   "metadata": {
    "hidden": true
   },
   "outputs": [],
   "source": [
    "nz_admin_06 = nz_admin_05.copy()"
   ]
  },
  {
   "cell_type": "code",
   "execution_count": 397,
   "metadata": {
    "hidden": true
   },
   "outputs": [],
   "source": [
    "nz_admin_06['Job_Posted(mins/hrs/days ago)'] = nz_admin_06['字段4'].apply(lambda row: job_posted(row))"
   ]
  },
  {
   "cell_type": "code",
   "execution_count": 404,
   "metadata": {
    "hidden": true
   },
   "outputs": [
    {
     "name": "stdout",
     "output_type": "stream",
     "text": [
      "<class 'pandas.core.frame.DataFrame'>\n",
      "RangeIndex: 2686 entries, 0 to 2685\n",
      "Data columns (total 9 columns):\n",
      " #   Column                         Non-Null Count  Dtype \n",
      "---  ------                         --------------  ----- \n",
      " 0   occupation                     2686 non-null   object\n",
      " 1   Company Name                   2686 non-null   object\n",
      " 2   字段4                            2686 non-null   object\n",
      " 3   字段5                            2686 non-null   object\n",
      " 4   Ref_No                         2686 non-null   object\n",
      " 5   Company location (Area)        2686 non-null   object\n",
      " 6   Company location (suburb)      2145 non-null   object\n",
      " 7   Salary($)(Insurance Benefit)   600 non-null    object\n",
      " 8   Job_Posted(mins/hrs/days ago)  2668 non-null   object\n",
      "dtypes: object(9)\n",
      "memory usage: 189.0+ KB\n"
     ]
    }
   ],
   "source": [
    "# The column \"Job_Posted(mins/hrs/days ago)\" contains a small amount of missing values.\n",
    "nz_admin_06.info()"
   ]
  },
  {
   "cell_type": "code",
   "execution_count": 405,
   "metadata": {
    "hidden": true
   },
   "outputs": [],
   "source": [
    "nz_admin_07 = nz_admin_06.copy()"
   ]
  },
  {
   "cell_type": "code",
   "execution_count": 407,
   "metadata": {
    "hidden": true
   },
   "outputs": [],
   "source": [
    "nz_admin_07.drop('字段4', axis=1, inplace=True)"
   ]
  },
  {
   "cell_type": "code",
   "execution_count": 408,
   "metadata": {
    "hidden": true
   },
   "outputs": [
    {
     "data": {
      "text/html": [
       "<div>\n",
       "<style scoped>\n",
       "    .dataframe tbody tr th:only-of-type {\n",
       "        vertical-align: middle;\n",
       "    }\n",
       "\n",
       "    .dataframe tbody tr th {\n",
       "        vertical-align: top;\n",
       "    }\n",
       "\n",
       "    .dataframe thead th {\n",
       "        text-align: right;\n",
       "    }\n",
       "</style>\n",
       "<table border=\"1\" class=\"dataframe\">\n",
       "  <thead>\n",
       "    <tr style=\"text-align: right;\">\n",
       "      <th></th>\n",
       "      <th>occupation</th>\n",
       "      <th>Company Name</th>\n",
       "      <th>字段5</th>\n",
       "      <th>Ref_No</th>\n",
       "      <th>Company location (Area)</th>\n",
       "      <th>Company location (suburb)</th>\n",
       "      <th>Salary($)(Insurance Benefit)</th>\n",
       "      <th>Job_Posted(mins/hrs/days ago)</th>\n",
       "    </tr>\n",
       "  </thead>\n",
       "  <tbody>\n",
       "    <tr>\n",
       "      <th>0</th>\n",
       "      <td>Receptionist</td>\n",
       "      <td>Avenues Orthodontics</td>\n",
       "      <td>classification: Administration &amp; Office SupportAdministration &amp; Office SupportsubClassification: ReceptionistsReceptionists</td>\n",
       "      <td>50620889</td>\n",
       "      <td>Bay of Plenty</td>\n",
       "      <td>Tauranga</td>\n",
       "      <td>None</td>\n",
       "      <td>None</td>\n",
       "    </tr>\n",
       "    <tr>\n",
       "      <th>1</th>\n",
       "      <td>Prosecutions Support Officer</td>\n",
       "      <td>New Zealand Police</td>\n",
       "      <td>classification: Administration &amp; Office SupportAdministration &amp; Office SupportsubClassification: OtherOther</td>\n",
       "      <td>50622169</td>\n",
       "      <td>Auckland</td>\n",
       "      <td>None</td>\n",
       "      <td>None</td>\n",
       "      <td>4d</td>\n",
       "    </tr>\n",
       "    <tr>\n",
       "      <th>2</th>\n",
       "      <td>Early Childhood Centre Administrator</td>\n",
       "      <td>Kew Pacific Island Early Learning Centre</td>\n",
       "      <td>classification: Administration &amp; Office SupportAdministration &amp; Office SupportsubClassification: Administrative AssistantsAdministrative Assistants</td>\n",
       "      <td>50639620</td>\n",
       "      <td>Southland</td>\n",
       "      <td>Invercargill</td>\n",
       "      <td>None</td>\n",
       "      <td>1h</td>\n",
       "    </tr>\n",
       "    <tr>\n",
       "      <th>3</th>\n",
       "      <td>Support Officer</td>\n",
       "      <td>Ministry for Primary Industries</td>\n",
       "      <td>classification: Administration &amp; Office SupportAdministration &amp; Office SupportsubClassification: Administrative AssistantsAdministrative Assistants</td>\n",
       "      <td>50640393</td>\n",
       "      <td>Northland</td>\n",
       "      <td>Whangarei</td>\n",
       "      <td>None</td>\n",
       "      <td>9m</td>\n",
       "    </tr>\n",
       "    <tr>\n",
       "      <th>4</th>\n",
       "      <td>Support Officer</td>\n",
       "      <td>Ministry of Business, Innovation and Employment</td>\n",
       "      <td>classification: Administration &amp; Office SupportAdministration &amp; Office SupportsubClassification: OtherOther</td>\n",
       "      <td>50615674</td>\n",
       "      <td>Wellington</td>\n",
       "      <td>Wellington Central</td>\n",
       "      <td>None</td>\n",
       "      <td>5d</td>\n",
       "    </tr>\n",
       "  </tbody>\n",
       "</table>\n",
       "</div>"
      ],
      "text/plain": [
       "                             occupation  \\\n",
       "0                          Receptionist   \n",
       "1          Prosecutions Support Officer   \n",
       "2  Early Childhood Centre Administrator   \n",
       "3                       Support Officer   \n",
       "4                       Support Officer   \n",
       "\n",
       "                                      Company Name  \\\n",
       "0                             Avenues Orthodontics   \n",
       "1                               New Zealand Police   \n",
       "2         Kew Pacific Island Early Learning Centre   \n",
       "3                  Ministry for Primary Industries   \n",
       "4  Ministry of Business, Innovation and Employment   \n",
       "\n",
       "                                                                                                                                                   字段5  \\\n",
       "0                          classification: Administration & Office SupportAdministration & Office SupportsubClassification: ReceptionistsReceptionists   \n",
       "1                                          classification: Administration & Office SupportAdministration & Office SupportsubClassification: OtherOther   \n",
       "2  classification: Administration & Office SupportAdministration & Office SupportsubClassification: Administrative AssistantsAdministrative Assistants   \n",
       "3  classification: Administration & Office SupportAdministration & Office SupportsubClassification: Administrative AssistantsAdministrative Assistants   \n",
       "4                                          classification: Administration & Office SupportAdministration & Office SupportsubClassification: OtherOther   \n",
       "\n",
       "     Ref_No Company location (Area) Company location (suburb)  \\\n",
       "0  50620889           Bay of Plenty                  Tauranga   \n",
       "1  50622169                Auckland                      None   \n",
       "2  50639620               Southland              Invercargill   \n",
       "3  50640393               Northland                 Whangarei   \n",
       "4  50615674              Wellington        Wellington Central   \n",
       "\n",
       "  Salary($)(Insurance Benefit) Job_Posted(mins/hrs/days ago)  \n",
       "0                         None                          None  \n",
       "1                         None                            4d  \n",
       "2                         None                            1h  \n",
       "3                         None                            9m  \n",
       "4                         None                            5d  "
      ]
     },
     "execution_count": 408,
     "metadata": {},
     "output_type": "execute_result"
    }
   ],
   "source": [
    "nz_admin_07.head()"
   ]
  },
  {
   "cell_type": "code",
   "execution_count": null,
   "metadata": {
    "hidden": true
   },
   "outputs": [],
   "source": []
  },
  {
   "cell_type": "markdown",
   "metadata": {
    "heading_collapsed": true
   },
   "source": [
    "## Column \"字段5\""
   ]
  },
  {
   "cell_type": "code",
   "execution_count": 522,
   "metadata": {
    "hidden": true
   },
   "outputs": [],
   "source": [
    "nz_admin_08 = nz_admin_07.copy()"
   ]
  },
  {
   "cell_type": "code",
   "execution_count": 564,
   "metadata": {
    "code_folding": [],
    "hidden": true
   },
   "outputs": [
    {
     "name": "stdout",
     "output_type": "stream",
     "text": [
      "$20 per hour\n",
      "['$20 per hour']\n",
      "['classification', ' Administration & Office SupportAdministration & Office SupportsubClassification', ' Office ManagementOffice Management']\n",
      " Administration & Office SupportAdministration & Office SupportsubClassification\n",
      "[' Administration & Office SupportAdministration & Office Support', '']\n",
      "['Administration & ', 'Office ', 'Support', 'Administration & ', 'Office ', 'Support']\n",
      "Administration & Office Support\n",
      " OtherOther\n"
     ]
    }
   ],
   "source": [
    "######### Demonstration of steps to create Python function \"return_classification\" and \"return_subclass\":\n",
    "# print(nz_admin_08['字段5'].iloc[10])\n",
    "# print(nz_admin_08['字段5'].iloc[10].split(':'))\n",
    "# print(nz_admin_08['字段5'].iloc[11].split(':'))\n",
    "# print(nz_admin_08['字段5'].iloc[11].split(':')[1])\n",
    "# print(nz_admin_08['字段5'].iloc[11].split(':')[1].split('subClassification'))\n",
    "# print(re.findall('[A-Z][^A-Z]*', nz_admin_08['字段5'].iloc[11].split(':')[1].split('subClassification')[0]))\n",
    "# print(re.search(r'(\\w+\\s*&\\s*\\w+\\s*\\w[a-z]+)', nz_admin_08['字段5'].iloc[11].split(':')[1]).group())\n",
    "# print(nz_admin_08['字段5'].iloc[4].split(':')[2])\n",
    "# # print(re.findall('[A-Z][^A-Z]*', nz_admin_08['字段5'].iloc[13].split(':')[2]) #13)"
   ]
  },
  {
   "cell_type": "code",
   "execution_count": 532,
   "metadata": {
    "hidden": true
   },
   "outputs": [],
   "source": [
    "def return_classification(row):\n",
    "    lst_row = row.split(':')\n",
    "    classfication = \"\"\n",
    "    if len(lst_row)==1:\n",
    "        return None\n",
    "    else:\n",
    "        lst_class = re.findall('[A-Z][^A-Z]*', lst_row[1].split('subClassfication')[0])\n",
    "        for i in range(len(lst_class)//2):\n",
    "            classfication += lst_class[i]\n",
    "        return classfication"
   ]
  },
  {
   "cell_type": "code",
   "execution_count": 533,
   "metadata": {
    "hidden": true
   },
   "outputs": [],
   "source": [
    "nz_admin_08['job_classification'] = nz_admin_08['字段5'].apply(lambda row: return_classification(row))"
   ]
  },
  {
   "cell_type": "code",
   "execution_count": 534,
   "metadata": {
    "hidden": true
   },
   "outputs": [
    {
     "name": "stdout",
     "output_type": "stream",
     "text": [
      "<class 'pandas.core.frame.DataFrame'>\n",
      "RangeIndex: 2686 entries, 0 to 2685\n",
      "Data columns (total 9 columns):\n",
      " #   Column                         Non-Null Count  Dtype \n",
      "---  ------                         --------------  ----- \n",
      " 0   occupation                     2686 non-null   object\n",
      " 1   Company Name                   2686 non-null   object\n",
      " 2   字段5                            2686 non-null   object\n",
      " 3   Ref_No                         2686 non-null   object\n",
      " 4   Company location (Area)        2686 non-null   object\n",
      " 5   Company location (suburb)      2145 non-null   object\n",
      " 6   Salary($)(Insurance Benefit)   600 non-null    object\n",
      " 7   Job_Posted(mins/hrs/days ago)  2668 non-null   object\n",
      " 8   job_classification             2086 non-null   object\n",
      "dtypes: object(9)\n",
      "memory usage: 189.0+ KB\n"
     ]
    }
   ],
   "source": [
    "nz_admin_08.info()"
   ]
  },
  {
   "cell_type": "code",
   "execution_count": null,
   "metadata": {
    "hidden": true
   },
   "outputs": [],
   "source": []
  },
  {
   "cell_type": "code",
   "execution_count": 536,
   "metadata": {
    "hidden": true
   },
   "outputs": [],
   "source": [
    "def return_subclass(row):\n",
    "    lst_row = row.split(':')\n",
    "    subclass = \"\"\n",
    "    if len(lst_row)==1:\n",
    "        return None\n",
    "    else:\n",
    "        lst_subclass = re.findall('[A-Z][^A-Z]*', lst_row[2])\n",
    "        for i in range(len(lst_subclass)//2):\n",
    "            subclass += lst_subclass[i]\n",
    "        return subclass"
   ]
  },
  {
   "cell_type": "code",
   "execution_count": 542,
   "metadata": {
    "hidden": true
   },
   "outputs": [
    {
     "data": {
      "text/plain": [
       "0                       Receptionists\n",
       "1                               Other\n",
       "2           Administrative Assistants\n",
       "3           Administrative Assistants\n",
       "4                               Other\n",
       "                    ...              \n",
       "2681    Client & Sales Administration\n",
       "2682                             None\n",
       "2683                             None\n",
       "2684                             None\n",
       "2685             PA, EA & Secretarial\n",
       "Name: 字段5, Length: 2686, dtype: object"
      ]
     },
     "execution_count": 542,
     "metadata": {},
     "output_type": "execute_result"
    }
   ],
   "source": [
    "nz_admin_08['字段5'].apply(lambda row: return_subclass(row))"
   ]
  },
  {
   "cell_type": "code",
   "execution_count": 541,
   "metadata": {
    "hidden": true
   },
   "outputs": [
    {
     "name": "stdout",
     "output_type": "stream",
     "text": [
      "<class 'pandas.core.frame.DataFrame'>\n",
      "RangeIndex: 2686 entries, 0 to 2685\n",
      "Data columns (total 9 columns):\n",
      " #   Column                         Non-Null Count  Dtype \n",
      "---  ------                         --------------  ----- \n",
      " 0   occupation                     2686 non-null   object\n",
      " 1   Company Name                   2686 non-null   object\n",
      " 2   字段5                            2686 non-null   object\n",
      " 3   Ref_No                         2686 non-null   object\n",
      " 4   Company location (Area)        2686 non-null   object\n",
      " 5   Company location (suburb)      2145 non-null   object\n",
      " 6   Salary($)(Insurance Benefit)   600 non-null    object\n",
      " 7   Job_Posted(mins/hrs/days ago)  2668 non-null   object\n",
      " 8   job_classification             2086 non-null   object\n",
      "dtypes: object(9)\n",
      "memory usage: 189.0+ KB\n"
     ]
    }
   ],
   "source": [
    "nz_admin_08.info()"
   ]
  },
  {
   "cell_type": "code",
   "execution_count": 543,
   "metadata": {
    "hidden": true
   },
   "outputs": [],
   "source": [
    "nz_admin_08['job_subclassification'] = nz_admin_08['字段5'].apply(lambda row: return_subclass(row))"
   ]
  },
  {
   "cell_type": "code",
   "execution_count": 545,
   "metadata": {
    "hidden": true
   },
   "outputs": [
    {
     "name": "stdout",
     "output_type": "stream",
     "text": [
      "<class 'pandas.core.frame.DataFrame'>\n",
      "RangeIndex: 2686 entries, 0 to 2685\n",
      "Data columns (total 10 columns):\n",
      " #   Column                         Non-Null Count  Dtype \n",
      "---  ------                         --------------  ----- \n",
      " 0   occupation                     2686 non-null   object\n",
      " 1   Company Name                   2686 non-null   object\n",
      " 2   字段5                            2686 non-null   object\n",
      " 3   Ref_No                         2686 non-null   object\n",
      " 4   Company location (Area)        2686 non-null   object\n",
      " 5   Company location (suburb)      2145 non-null   object\n",
      " 6   Salary($)(Insurance Benefit)   600 non-null    object\n",
      " 7   Job_Posted(mins/hrs/days ago)  2668 non-null   object\n",
      " 8   job_classification             2086 non-null   object\n",
      " 9   job_subclassification          2086 non-null   object\n",
      "dtypes: object(10)\n",
      "memory usage: 210.0+ KB\n"
     ]
    }
   ],
   "source": [
    "nz_admin_08.info()"
   ]
  },
  {
   "cell_type": "code",
   "execution_count": null,
   "metadata": {
    "hidden": true
   },
   "outputs": [],
   "source": []
  },
  {
   "cell_type": "code",
   "execution_count": 546,
   "metadata": {
    "hidden": true
   },
   "outputs": [],
   "source": [
    "nz_admin_09 = nz_admin_08.copy()"
   ]
  },
  {
   "cell_type": "code",
   "execution_count": 547,
   "metadata": {
    "hidden": true
   },
   "outputs": [],
   "source": [
    "nz_admin_09.drop('字段5', axis=1, inplace=True)"
   ]
  },
  {
   "cell_type": "code",
   "execution_count": 548,
   "metadata": {
    "hidden": true
   },
   "outputs": [
    {
     "name": "stdout",
     "output_type": "stream",
     "text": [
      "<class 'pandas.core.frame.DataFrame'>\n",
      "RangeIndex: 2686 entries, 0 to 2685\n",
      "Data columns (total 9 columns):\n",
      " #   Column                         Non-Null Count  Dtype \n",
      "---  ------                         --------------  ----- \n",
      " 0   occupation                     2686 non-null   object\n",
      " 1   Company Name                   2686 non-null   object\n",
      " 2   Ref_No                         2686 non-null   object\n",
      " 3   Company location (Area)        2686 non-null   object\n",
      " 4   Company location (suburb)      2145 non-null   object\n",
      " 5   Salary($)(Insurance Benefit)   600 non-null    object\n",
      " 6   Job_Posted(mins/hrs/days ago)  2668 non-null   object\n",
      " 7   job_classification             2086 non-null   object\n",
      " 8   job_subclassification          2086 non-null   object\n",
      "dtypes: object(9)\n",
      "memory usage: 189.0+ KB\n"
     ]
    }
   ],
   "source": [
    "# The columns \"job_classification\" and \"job_subclassification\" contains some missing values.\n",
    "nz_admin_09.info()"
   ]
  },
  {
   "cell_type": "code",
   "execution_count": 551,
   "metadata": {
    "hidden": true
   },
   "outputs": [
    {
     "data": {
      "text/html": [
       "<div>\n",
       "<style scoped>\n",
       "    .dataframe tbody tr th:only-of-type {\n",
       "        vertical-align: middle;\n",
       "    }\n",
       "\n",
       "    .dataframe tbody tr th {\n",
       "        vertical-align: top;\n",
       "    }\n",
       "\n",
       "    .dataframe thead th {\n",
       "        text-align: right;\n",
       "    }\n",
       "</style>\n",
       "<table border=\"1\" class=\"dataframe\">\n",
       "  <thead>\n",
       "    <tr style=\"text-align: right;\">\n",
       "      <th></th>\n",
       "      <th>occupation</th>\n",
       "      <th>Company Name</th>\n",
       "      <th>Ref_No</th>\n",
       "      <th>Company location (Area)</th>\n",
       "      <th>Company location (suburb)</th>\n",
       "      <th>Salary($)(Insurance Benefit)</th>\n",
       "      <th>Job_Posted(mins/hrs/days ago)</th>\n",
       "      <th>job_classification</th>\n",
       "      <th>job_subclassification</th>\n",
       "    </tr>\n",
       "  </thead>\n",
       "  <tbody>\n",
       "    <tr>\n",
       "      <th>0</th>\n",
       "      <td>Receptionist</td>\n",
       "      <td>Avenues Orthodontics</td>\n",
       "      <td>50620889</td>\n",
       "      <td>Bay of Plenty</td>\n",
       "      <td>Tauranga</td>\n",
       "      <td>None</td>\n",
       "      <td>None</td>\n",
       "      <td>Administration &amp; Office Support</td>\n",
       "      <td>Receptionists</td>\n",
       "    </tr>\n",
       "    <tr>\n",
       "      <th>1</th>\n",
       "      <td>Prosecutions Support Officer</td>\n",
       "      <td>New Zealand Police</td>\n",
       "      <td>50622169</td>\n",
       "      <td>Auckland</td>\n",
       "      <td>None</td>\n",
       "      <td>None</td>\n",
       "      <td>4d</td>\n",
       "      <td>Administration &amp; Office Support</td>\n",
       "      <td>Other</td>\n",
       "    </tr>\n",
       "    <tr>\n",
       "      <th>2</th>\n",
       "      <td>Early Childhood Centre Administrator</td>\n",
       "      <td>Kew Pacific Island Early Learning Centre</td>\n",
       "      <td>50639620</td>\n",
       "      <td>Southland</td>\n",
       "      <td>Invercargill</td>\n",
       "      <td>None</td>\n",
       "      <td>1h</td>\n",
       "      <td>Administration &amp; Office Support</td>\n",
       "      <td>Administrative Assistants</td>\n",
       "    </tr>\n",
       "    <tr>\n",
       "      <th>3</th>\n",
       "      <td>Support Officer</td>\n",
       "      <td>Ministry for Primary Industries</td>\n",
       "      <td>50640393</td>\n",
       "      <td>Northland</td>\n",
       "      <td>Whangarei</td>\n",
       "      <td>None</td>\n",
       "      <td>9m</td>\n",
       "      <td>Administration &amp; Office Support</td>\n",
       "      <td>Administrative Assistants</td>\n",
       "    </tr>\n",
       "    <tr>\n",
       "      <th>4</th>\n",
       "      <td>Support Officer</td>\n",
       "      <td>Ministry of Business, Innovation and Employment</td>\n",
       "      <td>50615674</td>\n",
       "      <td>Wellington</td>\n",
       "      <td>Wellington Central</td>\n",
       "      <td>None</td>\n",
       "      <td>5d</td>\n",
       "      <td>Administration &amp; Office Support</td>\n",
       "      <td>Other</td>\n",
       "    </tr>\n",
       "  </tbody>\n",
       "</table>\n",
       "</div>"
      ],
      "text/plain": [
       "                             occupation  \\\n",
       "0                          Receptionist   \n",
       "1          Prosecutions Support Officer   \n",
       "2  Early Childhood Centre Administrator   \n",
       "3                       Support Officer   \n",
       "4                       Support Officer   \n",
       "\n",
       "                                      Company Name    Ref_No  \\\n",
       "0                             Avenues Orthodontics  50620889   \n",
       "1                               New Zealand Police  50622169   \n",
       "2         Kew Pacific Island Early Learning Centre  50639620   \n",
       "3                  Ministry for Primary Industries  50640393   \n",
       "4  Ministry of Business, Innovation and Employment  50615674   \n",
       "\n",
       "  Company location (Area) Company location (suburb)  \\\n",
       "0           Bay of Plenty                  Tauranga   \n",
       "1                Auckland                      None   \n",
       "2               Southland              Invercargill   \n",
       "3               Northland                 Whangarei   \n",
       "4              Wellington        Wellington Central   \n",
       "\n",
       "  Salary($)(Insurance Benefit) Job_Posted(mins/hrs/days ago)  \\\n",
       "0                         None                          None   \n",
       "1                         None                            4d   \n",
       "2                         None                            1h   \n",
       "3                         None                            9m   \n",
       "4                         None                            5d   \n",
       "\n",
       "                job_classification      job_subclassification  \n",
       "0  Administration & Office Support              Receptionists  \n",
       "1  Administration & Office Support                      Other  \n",
       "2  Administration & Office Support  Administrative Assistants  \n",
       "3  Administration & Office Support  Administrative Assistants  \n",
       "4  Administration & Office Support                      Other  "
      ]
     },
     "execution_count": 551,
     "metadata": {},
     "output_type": "execute_result"
    }
   ],
   "source": [
    "nz_admin_09.head()"
   ]
  },
  {
   "cell_type": "code",
   "execution_count": null,
   "metadata": {
    "hidden": true
   },
   "outputs": [],
   "source": []
  },
  {
   "cell_type": "markdown",
   "metadata": {},
   "source": [
    "## Clean dataset"
   ]
  },
  {
   "cell_type": "code",
   "execution_count": 565,
   "metadata": {},
   "outputs": [],
   "source": [
    "nz_admin_clean = nz_admin_09.copy()"
   ]
  },
  {
   "cell_type": "code",
   "execution_count": 566,
   "metadata": {},
   "outputs": [
    {
     "data": {
      "text/html": [
       "<div>\n",
       "<style scoped>\n",
       "    .dataframe tbody tr th:only-of-type {\n",
       "        vertical-align: middle;\n",
       "    }\n",
       "\n",
       "    .dataframe tbody tr th {\n",
       "        vertical-align: top;\n",
       "    }\n",
       "\n",
       "    .dataframe thead th {\n",
       "        text-align: right;\n",
       "    }\n",
       "</style>\n",
       "<table border=\"1\" class=\"dataframe\">\n",
       "  <thead>\n",
       "    <tr style=\"text-align: right;\">\n",
       "      <th></th>\n",
       "      <th>occupation</th>\n",
       "      <th>Company Name</th>\n",
       "      <th>Ref_No</th>\n",
       "      <th>Company location (Area)</th>\n",
       "      <th>Company location (suburb)</th>\n",
       "      <th>Salary($)(Insurance Benefit)</th>\n",
       "      <th>Job_Posted(mins/hrs/days ago)</th>\n",
       "      <th>job_classification</th>\n",
       "      <th>job_subclassification</th>\n",
       "    </tr>\n",
       "  </thead>\n",
       "  <tbody>\n",
       "    <tr>\n",
       "      <th>0</th>\n",
       "      <td>Receptionist</td>\n",
       "      <td>Avenues Orthodontics</td>\n",
       "      <td>50620889</td>\n",
       "      <td>Bay of Plenty</td>\n",
       "      <td>Tauranga</td>\n",
       "      <td>None</td>\n",
       "      <td>None</td>\n",
       "      <td>Administration &amp; Office Support</td>\n",
       "      <td>Receptionists</td>\n",
       "    </tr>\n",
       "    <tr>\n",
       "      <th>1</th>\n",
       "      <td>Prosecutions Support Officer</td>\n",
       "      <td>New Zealand Police</td>\n",
       "      <td>50622169</td>\n",
       "      <td>Auckland</td>\n",
       "      <td>None</td>\n",
       "      <td>None</td>\n",
       "      <td>4d</td>\n",
       "      <td>Administration &amp; Office Support</td>\n",
       "      <td>Other</td>\n",
       "    </tr>\n",
       "    <tr>\n",
       "      <th>2</th>\n",
       "      <td>Early Childhood Centre Administrator</td>\n",
       "      <td>Kew Pacific Island Early Learning Centre</td>\n",
       "      <td>50639620</td>\n",
       "      <td>Southland</td>\n",
       "      <td>Invercargill</td>\n",
       "      <td>None</td>\n",
       "      <td>1h</td>\n",
       "      <td>Administration &amp; Office Support</td>\n",
       "      <td>Administrative Assistants</td>\n",
       "    </tr>\n",
       "    <tr>\n",
       "      <th>3</th>\n",
       "      <td>Support Officer</td>\n",
       "      <td>Ministry for Primary Industries</td>\n",
       "      <td>50640393</td>\n",
       "      <td>Northland</td>\n",
       "      <td>Whangarei</td>\n",
       "      <td>None</td>\n",
       "      <td>9m</td>\n",
       "      <td>Administration &amp; Office Support</td>\n",
       "      <td>Administrative Assistants</td>\n",
       "    </tr>\n",
       "    <tr>\n",
       "      <th>4</th>\n",
       "      <td>Support Officer</td>\n",
       "      <td>Ministry of Business, Innovation and Employment</td>\n",
       "      <td>50615674</td>\n",
       "      <td>Wellington</td>\n",
       "      <td>Wellington Central</td>\n",
       "      <td>None</td>\n",
       "      <td>5d</td>\n",
       "      <td>Administration &amp; Office Support</td>\n",
       "      <td>Other</td>\n",
       "    </tr>\n",
       "    <tr>\n",
       "      <th>5</th>\n",
       "      <td>office administrator</td>\n",
       "      <td>Hepburn Electrical Ltd</td>\n",
       "      <td>50640166</td>\n",
       "      <td>Bay of Plenty</td>\n",
       "      <td>Rotorua</td>\n",
       "      <td>None</td>\n",
       "      <td>7m</td>\n",
       "      <td>Administration &amp; Office Support</td>\n",
       "      <td>Administrative Assistants</td>\n",
       "    </tr>\n",
       "    <tr>\n",
       "      <th>6</th>\n",
       "      <td>Office Administrator</td>\n",
       "      <td>Webster Holland Ltd</td>\n",
       "      <td>50639248</td>\n",
       "      <td>Bay of Plenty</td>\n",
       "      <td>Tauranga</td>\n",
       "      <td>None</td>\n",
       "      <td>2h</td>\n",
       "      <td>Administration &amp; Office Support</td>\n",
       "      <td>Administrative Assistants</td>\n",
       "    </tr>\n",
       "    <tr>\n",
       "      <th>7</th>\n",
       "      <td>Administration Officer</td>\n",
       "      <td>New Zealand Police</td>\n",
       "      <td>50629393</td>\n",
       "      <td>Canterbury</td>\n",
       "      <td>None</td>\n",
       "      <td>None</td>\n",
       "      <td>3d</td>\n",
       "      <td>Administration &amp; Office Support</td>\n",
       "      <td>Other</td>\n",
       "    </tr>\n",
       "    <tr>\n",
       "      <th>8</th>\n",
       "      <td>Administration Officer</td>\n",
       "      <td>Department of Conservation</td>\n",
       "      <td>50600186</td>\n",
       "      <td>West Coast</td>\n",
       "      <td>Rest of West Coast</td>\n",
       "      <td>None</td>\n",
       "      <td>7d</td>\n",
       "      <td>Administration &amp; Office Support</td>\n",
       "      <td>Administrative Assistants</td>\n",
       "    </tr>\n",
       "    <tr>\n",
       "      <th>9</th>\n",
       "      <td>Data Entry</td>\n",
       "      <td>Triple One Care</td>\n",
       "      <td>50616188</td>\n",
       "      <td>Tasman</td>\n",
       "      <td>Nelson</td>\n",
       "      <td>None</td>\n",
       "      <td>5d</td>\n",
       "      <td>Administration &amp; Office Support</td>\n",
       "      <td>Data Entry &amp; Word Processing</td>\n",
       "    </tr>\n",
       "    <tr>\n",
       "      <th>10</th>\n",
       "      <td>Office Admin Assistant (10hrs per week)</td>\n",
       "      <td>UIV Limited - Premier Insulation North Central</td>\n",
       "      <td>50597141</td>\n",
       "      <td>Auckland</td>\n",
       "      <td>Manukau &amp; East Auckland</td>\n",
       "      <td>$20 per hour</td>\n",
       "      <td>8d</td>\n",
       "      <td>None</td>\n",
       "      <td>None</td>\n",
       "    </tr>\n",
       "    <tr>\n",
       "      <th>11</th>\n",
       "      <td>Office Administrator</td>\n",
       "      <td>Wraight and Associates Ltd.</td>\n",
       "      <td>50632818</td>\n",
       "      <td>Wellington</td>\n",
       "      <td>Wellington Central</td>\n",
       "      <td>None</td>\n",
       "      <td>3d</td>\n",
       "      <td>Administration &amp; Office Support</td>\n",
       "      <td>Office Management</td>\n",
       "    </tr>\n",
       "    <tr>\n",
       "      <th>12</th>\n",
       "      <td>Office Administrator</td>\n",
       "      <td>Morgan &amp; Pollard Landscapes Ltd</td>\n",
       "      <td>50632185</td>\n",
       "      <td>Canterbury</td>\n",
       "      <td>Rest of Canterbury</td>\n",
       "      <td>None</td>\n",
       "      <td>3d</td>\n",
       "      <td>Administration &amp; Office Support</td>\n",
       "      <td>Administrative Assistants</td>\n",
       "    </tr>\n",
       "    <tr>\n",
       "      <th>13</th>\n",
       "      <td>Customer Service Officer</td>\n",
       "      <td>CM Trailer Parts</td>\n",
       "      <td>50614282</td>\n",
       "      <td>Canterbury</td>\n",
       "      <td>Timaru &amp; South Canterbury</td>\n",
       "      <td>None</td>\n",
       "      <td>5d</td>\n",
       "      <td>Administration &amp; Office Support</td>\n",
       "      <td>Client &amp; Sales Administration</td>\n",
       "    </tr>\n",
       "    <tr>\n",
       "      <th>14</th>\n",
       "      <td>Administration Assistant - Mt Wellington</td>\n",
       "      <td>Harvey Norman</td>\n",
       "      <td>50638817</td>\n",
       "      <td>Auckland</td>\n",
       "      <td>Auckland Central</td>\n",
       "      <td>None</td>\n",
       "      <td>4h</td>\n",
       "      <td>Administration &amp; Office Support</td>\n",
       "      <td>Administrative Assistants</td>\n",
       "    </tr>\n",
       "    <tr>\n",
       "      <th>15</th>\n",
       "      <td>Part-time Health &amp; Disability Administrative Assistant</td>\n",
       "      <td>LIFEWISE</td>\n",
       "      <td>50610748</td>\n",
       "      <td>Auckland</td>\n",
       "      <td>Auckland Central</td>\n",
       "      <td>$20 - $24.99 per hour</td>\n",
       "      <td>6d</td>\n",
       "      <td>None</td>\n",
       "      <td>None</td>\n",
       "    </tr>\n",
       "    <tr>\n",
       "      <th>16</th>\n",
       "      <td>Office Coordinator, Whangarei Youth Space</td>\n",
       "      <td>Whangarei Youth Space</td>\n",
       "      <td>50633756</td>\n",
       "      <td>Northland</td>\n",
       "      <td>Whangarei</td>\n",
       "      <td>None</td>\n",
       "      <td>3d</td>\n",
       "      <td>Administration &amp; Office Support</td>\n",
       "      <td>Administrative Assistants</td>\n",
       "    </tr>\n",
       "    <tr>\n",
       "      <th>17</th>\n",
       "      <td>Administration Officer - Part Time</td>\n",
       "      <td>HiFlo Pumps Ltd</td>\n",
       "      <td>50637525</td>\n",
       "      <td>Auckland</td>\n",
       "      <td>Auckland Central</td>\n",
       "      <td>None</td>\n",
       "      <td>2d</td>\n",
       "      <td>Administration &amp; Office Support</td>\n",
       "      <td>Administrative Assistants</td>\n",
       "    </tr>\n",
       "    <tr>\n",
       "      <th>18</th>\n",
       "      <td>Part-time Admin/Accounts Person</td>\n",
       "      <td>People Passion</td>\n",
       "      <td>50631111</td>\n",
       "      <td>Auckland</td>\n",
       "      <td>Papakura &amp; Franklin</td>\n",
       "      <td>None</td>\n",
       "      <td>3d</td>\n",
       "      <td>Administration &amp; Office Support</td>\n",
       "      <td>Administrative Assistants</td>\n",
       "    </tr>\n",
       "    <tr>\n",
       "      <th>19</th>\n",
       "      <td>Business Support Administrator</td>\n",
       "      <td>S&amp;L Land Development and Design Specialists</td>\n",
       "      <td>50591178</td>\n",
       "      <td>Bay of Plenty</td>\n",
       "      <td>Tauranga</td>\n",
       "      <td>None</td>\n",
       "      <td>None</td>\n",
       "      <td>Administration &amp; Office Support</td>\n",
       "      <td>Administrative Assistants</td>\n",
       "    </tr>\n",
       "  </tbody>\n",
       "</table>\n",
       "</div>"
      ],
      "text/plain": [
       "                                                occupation  \\\n",
       "0                                             Receptionist   \n",
       "1                             Prosecutions Support Officer   \n",
       "2                     Early Childhood Centre Administrator   \n",
       "3                                          Support Officer   \n",
       "4                                          Support Officer   \n",
       "5                                     office administrator   \n",
       "6                                     Office Administrator   \n",
       "7                                   Administration Officer   \n",
       "8                                   Administration Officer   \n",
       "9                                               Data Entry   \n",
       "10                 Office Admin Assistant (10hrs per week)   \n",
       "11                                    Office Administrator   \n",
       "12                                    Office Administrator   \n",
       "13                                Customer Service Officer   \n",
       "14                Administration Assistant - Mt Wellington   \n",
       "15  Part-time Health & Disability Administrative Assistant   \n",
       "16               Office Coordinator, Whangarei Youth Space   \n",
       "17                      Administration Officer - Part Time   \n",
       "18                         Part-time Admin/Accounts Person   \n",
       "19                          Business Support Administrator   \n",
       "\n",
       "                                       Company Name    Ref_No  \\\n",
       "0                              Avenues Orthodontics  50620889   \n",
       "1                                New Zealand Police  50622169   \n",
       "2          Kew Pacific Island Early Learning Centre  50639620   \n",
       "3                   Ministry for Primary Industries  50640393   \n",
       "4   Ministry of Business, Innovation and Employment  50615674   \n",
       "5                            Hepburn Electrical Ltd  50640166   \n",
       "6                               Webster Holland Ltd  50639248   \n",
       "7                                New Zealand Police  50629393   \n",
       "8                        Department of Conservation  50600186   \n",
       "9                                   Triple One Care  50616188   \n",
       "10   UIV Limited - Premier Insulation North Central  50597141   \n",
       "11                      Wraight and Associates Ltd.  50632818   \n",
       "12                  Morgan & Pollard Landscapes Ltd  50632185   \n",
       "13                                 CM Trailer Parts  50614282   \n",
       "14                                    Harvey Norman  50638817   \n",
       "15                                         LIFEWISE  50610748   \n",
       "16                            Whangarei Youth Space  50633756   \n",
       "17                                  HiFlo Pumps Ltd  50637525   \n",
       "18                                   People Passion  50631111   \n",
       "19      S&L Land Development and Design Specialists  50591178   \n",
       "\n",
       "   Company location (Area)  Company location (suburb)  \\\n",
       "0            Bay of Plenty                   Tauranga   \n",
       "1                 Auckland                       None   \n",
       "2                Southland               Invercargill   \n",
       "3                Northland                  Whangarei   \n",
       "4               Wellington         Wellington Central   \n",
       "5            Bay of Plenty                    Rotorua   \n",
       "6            Bay of Plenty                   Tauranga   \n",
       "7               Canterbury                       None   \n",
       "8               West Coast         Rest of West Coast   \n",
       "9                   Tasman                     Nelson   \n",
       "10                Auckland    Manukau & East Auckland   \n",
       "11              Wellington         Wellington Central   \n",
       "12              Canterbury         Rest of Canterbury   \n",
       "13              Canterbury  Timaru & South Canterbury   \n",
       "14                Auckland           Auckland Central   \n",
       "15                Auckland           Auckland Central   \n",
       "16               Northland                  Whangarei   \n",
       "17                Auckland           Auckland Central   \n",
       "18                Auckland        Papakura & Franklin   \n",
       "19           Bay of Plenty                   Tauranga   \n",
       "\n",
       "   Salary($)(Insurance Benefit) Job_Posted(mins/hrs/days ago)  \\\n",
       "0                          None                          None   \n",
       "1                          None                            4d   \n",
       "2                          None                            1h   \n",
       "3                          None                            9m   \n",
       "4                          None                            5d   \n",
       "5                          None                            7m   \n",
       "6                          None                            2h   \n",
       "7                          None                            3d   \n",
       "8                          None                            7d   \n",
       "9                          None                            5d   \n",
       "10                 $20 per hour                            8d   \n",
       "11                         None                            3d   \n",
       "12                         None                            3d   \n",
       "13                         None                            5d   \n",
       "14                         None                            4h   \n",
       "15        $20 - $24.99 per hour                            6d   \n",
       "16                         None                            3d   \n",
       "17                         None                            2d   \n",
       "18                         None                            3d   \n",
       "19                         None                          None   \n",
       "\n",
       "                 job_classification          job_subclassification  \n",
       "0   Administration & Office Support                  Receptionists  \n",
       "1   Administration & Office Support                          Other  \n",
       "2   Administration & Office Support      Administrative Assistants  \n",
       "3   Administration & Office Support      Administrative Assistants  \n",
       "4   Administration & Office Support                          Other  \n",
       "5   Administration & Office Support      Administrative Assistants  \n",
       "6   Administration & Office Support      Administrative Assistants  \n",
       "7   Administration & Office Support                          Other  \n",
       "8   Administration & Office Support      Administrative Assistants  \n",
       "9   Administration & Office Support   Data Entry & Word Processing  \n",
       "10                             None                           None  \n",
       "11  Administration & Office Support              Office Management  \n",
       "12  Administration & Office Support      Administrative Assistants  \n",
       "13  Administration & Office Support  Client & Sales Administration  \n",
       "14  Administration & Office Support      Administrative Assistants  \n",
       "15                             None                           None  \n",
       "16  Administration & Office Support      Administrative Assistants  \n",
       "17  Administration & Office Support      Administrative Assistants  \n",
       "18  Administration & Office Support      Administrative Assistants  \n",
       "19  Administration & Office Support      Administrative Assistants  "
      ]
     },
     "execution_count": 566,
     "metadata": {},
     "output_type": "execute_result"
    }
   ],
   "source": [
    "nz_admin_clean.head(20)"
   ]
  },
  {
   "cell_type": "code",
   "execution_count": null,
   "metadata": {},
   "outputs": [],
   "source": []
  },
  {
   "cell_type": "code",
   "execution_count": null,
   "metadata": {},
   "outputs": [],
   "source": []
  },
  {
   "cell_type": "markdown",
   "metadata": {},
   "source": [
    "# References\n",
    "We report here relevant references:\n",
    "1. author1, article1, journal1, year1, url1\n",
    "2. author2, article2, journal2, year2, url2"
   ]
  },
  {
   "cell_type": "code",
   "execution_count": null,
   "metadata": {},
   "outputs": [],
   "source": []
  },
  {
   "cell_type": "code",
   "execution_count": null,
   "metadata": {},
   "outputs": [],
   "source": []
  }
 ],
 "metadata": {
  "kernelspec": {
   "display_name": "Python 3",
   "language": "python",
   "name": "python3"
  },
  "language_info": {
   "codemirror_mode": {
    "name": "ipython",
    "version": 3
   },
   "file_extension": ".py",
   "mimetype": "text/x-python",
   "name": "python",
   "nbconvert_exporter": "python",
   "pygments_lexer": "ipython3",
   "version": "3.8.5"
  }
 },
 "nbformat": 4,
 "nbformat_minor": 4
}
